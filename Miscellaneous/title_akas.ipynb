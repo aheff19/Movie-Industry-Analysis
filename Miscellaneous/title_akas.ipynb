{
 "cells": [
  {
   "cell_type": "code",
   "execution_count": 5,
   "metadata": {},
   "outputs": [],
   "source": [
    "import sqlite3\n",
    "conn = sqlite3.connect('ddataframe_id_imdb_title_akas_gz.csv')\n",
    "cur = conn.cursor()"
   ]
  },
  {
   "cell_type": "code",
   "execution_count": 6,
   "metadata": {},
   "outputs": [
    {
     "data": {
      "text/plain": [
       "[]"
      ]
     },
     "execution_count": 6,
     "metadata": {},
     "output_type": "execute_result"
    }
   ],
   "source": [
    "cur.fetchall()"
   ]
  },
  {
   "cell_type": "code",
   "execution_count": 7,
   "metadata": {},
   "outputs": [],
   "source": [
    "import sqlite3\n",
    "import os\n",
    "import pandas as pd\n",
    "import numpy as np\n",
    "import matplotlib.pyplot as plt\n",
    "import seaborn as sns\n",
    "from glob import glob"
   ]
  },
  {
   "cell_type": "code",
   "execution_count": 8,
   "metadata": {},
   "outputs": [
    {
     "data": {
      "text/plain": [
       "['dataframe_id_imdb_title_akas_gz.csv']"
      ]
     },
     "execution_count": 8,
     "metadata": {},
     "output_type": "execute_result"
    }
   ],
   "source": [
    "#importing data using glob\n",
    "\n",
    "csv_files = glob(\"dataframe_id_imdb_title_akas_gz.csv\")\n",
    "csv_files"
   ]
  },
  {
   "cell_type": "code",
   "execution_count": null,
   "metadata": {},
   "outputs": [],
   "source": [
    "csv_files_dict = {}\n",
    "for filename in csv_files:\n",
    "    filename_cleaned = os.path.basename(filename).replace(\".csv\", \"\").replace(\".\", \"_\") # cleaning the filenames\n",
    "    filename_df = pd.read_csv(filename, index_col=0)\n",
    "    csv_files_dict[filename_cleaned] = filename_df"
   ]
  },
  {
   "cell_type": "markdown",
   "metadata": {},
   "source": [
    "Topic Here"
   ]
  },
  {
   "cell_type": "code",
   "execution_count": 11,
   "metadata": {},
   "outputs": [],
   "source": [
    "title_akas_df = csv_files_dict['dataframe_id_imdb_title_akas_gz']"
   ]
  },
  {
   "cell_type": "code",
   "execution_count": 12,
   "metadata": {},
   "outputs": [
    {
     "data": {
      "text/plain": [
       "<bound method DataFrame.info of            ordering                                    title region language  \\\n",
       "title_id                                                                       \n",
       "tt0369610        10                            Джурасик свят     BG       bg   \n",
       "tt0369610        11                        Jurashikku warudo     JP      NaN   \n",
       "tt0369610        12  Jurassic World: O Mundo dos Dinossauros     BR      NaN   \n",
       "tt0369610        13                  O Mundo dos Dinossauros     BR      NaN   \n",
       "tt0369610        14                           Jurassic World     FR      NaN   \n",
       "...             ...                                      ...    ...      ...   \n",
       "tt9827784         2                       Sayonara kuchibiru    NaN      NaN   \n",
       "tt9827784         3                            Farewell Song    XWW       en   \n",
       "tt9880178         1                              La atención    NaN      NaN   \n",
       "tt9880178         2                              La atención     ES      NaN   \n",
       "tt9880178         3                            The Attention    XWW       en   \n",
       "\n",
       "                 types   attributes  is_original_title  \n",
       "title_id                                                \n",
       "tt0369610          NaN          NaN                0.0  \n",
       "tt0369610  imdbDisplay          NaN                0.0  \n",
       "tt0369610  imdbDisplay          NaN                0.0  \n",
       "tt0369610          NaN  short title                0.0  \n",
       "tt0369610  imdbDisplay          NaN                0.0  \n",
       "...                ...          ...                ...  \n",
       "tt9827784     original          NaN                1.0  \n",
       "tt9827784  imdbDisplay          NaN                0.0  \n",
       "tt9880178     original          NaN                1.0  \n",
       "tt9880178          NaN          NaN                0.0  \n",
       "tt9880178  imdbDisplay          NaN                0.0  \n",
       "\n",
       "[331703 rows x 7 columns]>"
      ]
     },
     "execution_count": 12,
     "metadata": {},
     "output_type": "execute_result"
    }
   ],
   "source": [
    "title_akas_df.info"
   ]
  },
  {
   "cell_type": "code",
   "execution_count": null,
   "metadata": {},
   "outputs": [],
   "source": []
  }
 ],
 "metadata": {
  "kernelspec": {
   "display_name": "learn-env",
   "language": "python",
   "name": "learn-env"
  },
  "language_info": {
   "codemirror_mode": {
    "name": "ipython",
    "version": 3
   },
   "file_extension": ".py",
   "mimetype": "text/x-python",
   "name": "python",
   "nbconvert_exporter": "python",
   "pygments_lexer": "ipython3",
   "version": "3.6.9"
  }
 },
 "nbformat": 4,
 "nbformat_minor": 2
}
