{
 "cells": [
  {
   "cell_type": "markdown",
   "metadata": {},
   "source": [
    "#  When is it most profitable to release movies?"
   ]
  },
  {
   "cell_type": "markdown",
   "metadata": {},
   "source": [
    "## Import all of the relevant data"
   ]
  },
  {
   "cell_type": "code",
   "execution_count": 1,
   "metadata": {},
   "outputs": [],
   "source": [
    "import pandas as pd\n",
    "import seaborn as sns\n",
    "import numpy as np\n",
    "import matplotlib.pyplot as plt\n",
    "%matplotlib inline"
   ]
  },
  {
   "cell_type": "code",
   "execution_count": 2,
   "metadata": {},
   "outputs": [],
   "source": [
    "# Assigning the movie gross table to variable\n",
    "df_movie_gross = pd.read_csv('dataframe_id_bom_movie_gross_gz.csv')\n",
    "# importing budget csv \n",
    "df_budget = pd.read_csv('dataframe_id_tn_movie_budgets_gz.csv')"
   ]
  },
  {
   "cell_type": "markdown",
   "metadata": {},
   "source": [
    "## Cleaning"
   ]
  },
  {
   "cell_type": "code",
   "execution_count": 3,
   "metadata": {},
   "outputs": [
    {
     "data": {
      "text/html": [
       "<div>\n",
       "<style scoped>\n",
       "    .dataframe tbody tr th:only-of-type {\n",
       "        vertical-align: middle;\n",
       "    }\n",
       "\n",
       "    .dataframe tbody tr th {\n",
       "        vertical-align: top;\n",
       "    }\n",
       "\n",
       "    .dataframe thead th {\n",
       "        text-align: right;\n",
       "    }\n",
       "</style>\n",
       "<table border=\"1\" class=\"dataframe\">\n",
       "  <thead>\n",
       "    <tr style=\"text-align: right;\">\n",
       "      <th></th>\n",
       "      <th>title</th>\n",
       "      <th>studio</th>\n",
       "      <th>domestic_gross</th>\n",
       "      <th>foreign_gross</th>\n",
       "      <th>year</th>\n",
       "    </tr>\n",
       "  </thead>\n",
       "  <tbody>\n",
       "    <tr>\n",
       "      <td>0</td>\n",
       "      <td>Toy Story 3</td>\n",
       "      <td>BV</td>\n",
       "      <td>415000000.0</td>\n",
       "      <td>652000000</td>\n",
       "      <td>2010</td>\n",
       "    </tr>\n",
       "    <tr>\n",
       "      <td>1</td>\n",
       "      <td>Alice in Wonderland (2010)</td>\n",
       "      <td>BV</td>\n",
       "      <td>334200000.0</td>\n",
       "      <td>691300000</td>\n",
       "      <td>2010</td>\n",
       "    </tr>\n",
       "    <tr>\n",
       "      <td>2</td>\n",
       "      <td>Harry Potter and the Deathly Hallows Part 1</td>\n",
       "      <td>WB</td>\n",
       "      <td>296000000.0</td>\n",
       "      <td>664300000</td>\n",
       "      <td>2010</td>\n",
       "    </tr>\n",
       "    <tr>\n",
       "      <td>3</td>\n",
       "      <td>Inception</td>\n",
       "      <td>WB</td>\n",
       "      <td>292600000.0</td>\n",
       "      <td>535700000</td>\n",
       "      <td>2010</td>\n",
       "    </tr>\n",
       "    <tr>\n",
       "      <td>4</td>\n",
       "      <td>Shrek Forever After</td>\n",
       "      <td>P/DW</td>\n",
       "      <td>238700000.0</td>\n",
       "      <td>513900000</td>\n",
       "      <td>2010</td>\n",
       "    </tr>\n",
       "  </tbody>\n",
       "</table>\n",
       "</div>"
      ],
      "text/plain": [
       "                                         title studio  domestic_gross  \\\n",
       "0                                  Toy Story 3     BV     415000000.0   \n",
       "1                   Alice in Wonderland (2010)     BV     334200000.0   \n",
       "2  Harry Potter and the Deathly Hallows Part 1     WB     296000000.0   \n",
       "3                                    Inception     WB     292600000.0   \n",
       "4                          Shrek Forever After   P/DW     238700000.0   \n",
       "\n",
       "  foreign_gross  year  \n",
       "0     652000000  2010  \n",
       "1     691300000  2010  \n",
       "2     664300000  2010  \n",
       "3     535700000  2010  \n",
       "4     513900000  2010  "
      ]
     },
     "execution_count": 3,
     "metadata": {},
     "output_type": "execute_result"
    }
   ],
   "source": [
    "df_movie_gross.head() #checking the layout and stats\n"
   ]
  },
  {
   "cell_type": "markdown",
   "metadata": {},
   "source": [
    "###  Movie_Gross"
   ]
  },
  {
   "cell_type": "code",
   "execution_count": 4,
   "metadata": {},
   "outputs": [
    {
     "data": {
      "text/plain": [
       "Index(['title', 'domestic_gross', 'foreign_gross', 'year'], dtype='object')"
      ]
     },
     "execution_count": 4,
     "metadata": {},
     "output_type": "execute_result"
    }
   ],
   "source": [
    "# testing dropping 'studio' column due to irrelevance to any of \n",
    "test_drop = df_movie_gross.drop(axis=1, columns='studio', inplace=False)\n",
    "#checking colunns\n",
    "test_drop.columns"
   ]
  },
  {
   "cell_type": "code",
   "execution_count": 5,
   "metadata": {},
   "outputs": [],
   "source": [
    "# dropping 'studio'\n",
    "df_movie_gross.drop(axis=1, columns='studio', inplace=True)"
   ]
  },
  {
   "cell_type": "code",
   "execution_count": 6,
   "metadata": {},
   "outputs": [
    {
     "name": "stdout",
     "output_type": "stream",
     "text": [
      "      title  domestic_gross  foreign_gross   year\n",
      "0     False           False          False  False\n",
      "1     False           False          False  False\n",
      "2     False           False          False  False\n",
      "3     False           False          False  False\n",
      "4     False           False          False  False\n",
      "...     ...             ...            ...    ...\n",
      "3382  False           False           True  False\n",
      "3383  False           False           True  False\n",
      "3384  False           False           True  False\n",
      "3385  False           False           True  False\n",
      "3386  False           False           True  False\n",
      "\n",
      "[3387 rows x 4 columns]\n",
      "title                0\n",
      "domestic_gross      28\n",
      "foreign_gross     1350\n",
      "year                 0\n",
      "dtype: int64\n"
     ]
    }
   ],
   "source": [
    "#finding NaNs\n",
    "print(df_movie_gross.isna())\n",
    "print(df_movie_gross.isna().sum())"
   ]
  },
  {
   "cell_type": "code",
   "execution_count": 7,
   "metadata": {},
   "outputs": [
    {
     "data": {
      "text/plain": [
       "39.85828166519043"
      ]
     },
     "execution_count": 7,
     "metadata": {},
     "output_type": "execute_result"
    }
   ],
   "source": [
    "# missing 5 values for sutdio [dropping column anyway] \n",
    "#domestic_gross is missing 28 values might just drop those rows\n",
    "#foreign_gross missing 1350 values; calculating the percentage of data missing\n",
    "(df_movie_gross['foreign_gross'].isna()\n",
    "                 .sum()/len(df_movie_gross['foreign_gross'])) * 100"
   ]
  },
  {
   "cell_type": "code",
   "execution_count": 8,
   "metadata": {},
   "outputs": [
    {
     "name": "stdout",
     "output_type": "stream",
     "text": [
      "                                       title  domestic_gross foreign_gross  \\\n",
      "222                                  Flipped       1800000.0           NaN   \n",
      "230               It's a Wonderful Afterlife             NaN       1300000   \n",
      "254   The Polar Express (IMAX re-issue 2010)        673000.0           NaN   \n",
      "267                           Tiny Furniture        392000.0           NaN   \n",
      "269            Grease (Sing-a-Long re-issue)        366000.0           NaN   \n",
      "...                                      ...             ...           ...   \n",
      "3382                               The Quake          6200.0           NaN   \n",
      "3383             Edward II (2018 re-release)          4800.0           NaN   \n",
      "3384                                El Pacto          2500.0           NaN   \n",
      "3385                                The Swan          2400.0           NaN   \n",
      "3386                       An Actor Prepares          1700.0           NaN   \n",
      "\n",
      "      year  \n",
      "222   2010  \n",
      "230   2010  \n",
      "254   2010  \n",
      "267   2010  \n",
      "269   2010  \n",
      "...    ...  \n",
      "3382  2018  \n",
      "3383  2018  \n",
      "3384  2018  \n",
      "3385  2018  \n",
      "3386  2018  \n",
      "\n",
      "[1378 rows x 4 columns]\n"
     ]
    }
   ],
   "source": [
    "# 39.85% of our foreign gross values is missing, replacing with median values\n",
    "# checking for why NaN's present (did these movies not get foreign/domestic \n",
    "# releases?)\n",
    "is_NaN = df_movie_gross.isnull()  #This method allows me to see the rows that\n",
    "                                    # have NaN values so I can compare columns\n",
    "row_has_NaN = is_NaN.any(axis=1)\n",
    "rows_with_NaN = df_movie_gross[row_has_NaN]\n",
    "\n",
    "print(rows_with_NaN)"
   ]
  },
  {
   "cell_type": "code",
   "execution_count": 9,
   "metadata": {},
   "outputs": [
    {
     "name": "stdout",
     "output_type": "stream",
     "text": [
      "title                0\n",
      "domestic_gross       0\n",
      "foreign_gross     1350\n",
      "year                 0\n",
      "dtype: int64\n"
     ]
    }
   ],
   "source": [
    "# Assuming that NaN's represent lack of releases in those markets, replacing \n",
    "# NaN's with 0's\n",
    "\n",
    "df_movie_gross['domestic_gross'].fillna(0, inplace=True)\n",
    "\n",
    "# Checking results\n",
    "print(df_movie_gross.isna().sum())"
   ]
  },
  {
   "cell_type": "code",
   "execution_count": 10,
   "metadata": {
    "scrolled": true
   },
   "outputs": [
    {
     "name": "stdout",
     "output_type": "stream",
     "text": [
      "<class 'pandas.core.frame.DataFrame'>\n",
      "RangeIndex: 3387 entries, 0 to 3386\n",
      "Data columns (total 4 columns):\n",
      "title             3387 non-null object\n",
      "domestic_gross    3387 non-null float64\n",
      "foreign_gross     2037 non-null object\n",
      "year              3387 non-null int64\n",
      "dtypes: float64(1), int64(1), object(2)\n",
      "memory usage: 106.0+ KB\n"
     ]
    }
   ],
   "source": [
    "# Re-checking datatypes\n",
    "df_movie_gross.info()"
   ]
  },
  {
   "cell_type": "code",
   "execution_count": 11,
   "metadata": {},
   "outputs": [],
   "source": [
    "# Need to change foreign_gross to float\n",
    "# Function takes dataframe and column name as arguments. It then searches down\n",
    "# every row in the given dataframe column and if it finds '$', commas, or \n",
    "# apostrophes, the function replaces them with empty space, deleting them.\n",
    "# It then changes the datatype of the object from string to float.\n",
    "# Finally, it returns the modified dataframe column.\n",
    "def convert_amt_to_float(df, col):\n",
    "    \"\"\"\n",
    "    Function takes dataframe and column name as arguments. \n",
    "    It then searches down\n",
    "    every row in the given dataframe column and if it finds '$', commas, or \n",
    "    apostrophes, the function replaces them with empty space, deleting them.\n",
    "    It then changes the datatype of the object from string to float.\n",
    "    Finally, it returns the modified dataframe column.\n",
    "    \"\"\"\n",
    "    \n",
    "    df[col] = df[col].str.replace(\"$\", \"\").str.replace(\",\", \"\").str.replace(\n",
    "        \"'\",\"\").astype('float')\n",
    "    return df\n",
    "\n",
    "df_movie_gross['foreign_gross'] = convert_amt_to_float(df_movie_gross, \n",
    "                                                     'foreign_gross')\n"
   ]
  },
  {
   "cell_type": "code",
   "execution_count": 12,
   "metadata": {},
   "outputs": [
    {
     "data": {
      "text/plain": [
       "0                                       Toy Story 3\n",
       "1                        Alice in Wonderland (2010)\n",
       "2       Harry Potter and the Deathly Hallows Part 1\n",
       "3                                         Inception\n",
       "4                               Shrek Forever After\n",
       "                           ...                     \n",
       "3382                                      The Quake\n",
       "3383                    Edward II (2018 re-release)\n",
       "3384                                       El Pacto\n",
       "3385                                       The Swan\n",
       "3386                              An Actor Prepares\n",
       "Name: foreign_gross, Length: 3387, dtype: object"
      ]
     },
     "execution_count": 12,
     "metadata": {},
     "output_type": "execute_result"
    }
   ],
   "source": [
    "# Checking\n",
    "df_movie_gross['foreign_gross']"
   ]
  },
  {
   "cell_type": "code",
   "execution_count": 13,
   "metadata": {},
   "outputs": [
    {
     "data": {
      "text/plain": [
       "0                                       Toy Story 3\n",
       "1                        Alice in Wonderland (2010)\n",
       "2       Harry Potter and the Deathly Hallows Part 1\n",
       "3                                         Inception\n",
       "4                               Shrek Forever After\n",
       "                           ...                     \n",
       "3382                                      The Quake\n",
       "3383                    Edward II (2018 re-release)\n",
       "3384                                       El Pacto\n",
       "3385                                       The Swan\n",
       "3386                              An Actor Prepares\n",
       "Name: foreign_gross, Length: 3387, dtype: object"
      ]
     },
     "execution_count": 13,
     "metadata": {},
     "output_type": "execute_result"
    }
   ],
   "source": [
    "# Still NaNs in foreign_gross, turning into 0's\n",
    "df_movie_gross['foreign_gross'].fillna(0, inplace=True)\n",
    "\n",
    "df_movie_gross['foreign_gross']"
   ]
  },
  {
   "cell_type": "code",
   "execution_count": 14,
   "metadata": {},
   "outputs": [
    {
     "data": {
      "text/html": [
       "<div>\n",
       "<style scoped>\n",
       "    .dataframe tbody tr th:only-of-type {\n",
       "        vertical-align: middle;\n",
       "    }\n",
       "\n",
       "    .dataframe tbody tr th {\n",
       "        vertical-align: top;\n",
       "    }\n",
       "\n",
       "    .dataframe thead th {\n",
       "        text-align: right;\n",
       "    }\n",
       "</style>\n",
       "<table border=\"1\" class=\"dataframe\">\n",
       "  <thead>\n",
       "    <tr style=\"text-align: right;\">\n",
       "      <th></th>\n",
       "      <th>title</th>\n",
       "      <th>domestic_gross</th>\n",
       "      <th>foreign_gross</th>\n",
       "      <th>year</th>\n",
       "    </tr>\n",
       "  </thead>\n",
       "  <tbody>\n",
       "    <tr>\n",
       "      <td>0</td>\n",
       "      <td>Toy Story 3</td>\n",
       "      <td>415000000.0</td>\n",
       "      <td>Toy Story 3</td>\n",
       "      <td>2010</td>\n",
       "    </tr>\n",
       "  </tbody>\n",
       "</table>\n",
       "</div>"
      ],
      "text/plain": [
       "         title  domestic_gross foreign_gross  year\n",
       "0  Toy Story 3     415000000.0   Toy Story 3  2010"
      ]
     },
     "execution_count": 14,
     "metadata": {},
     "output_type": "execute_result"
    }
   ],
   "source": [
    "# Checking dataframe\n",
    "df_movie_gross.head(1)"
   ]
  },
  {
   "cell_type": "code",
   "execution_count": 15,
   "metadata": {},
   "outputs": [
    {
     "name": "stdout",
     "output_type": "stream",
     "text": [
      "0       False\n",
      "1       False\n",
      "2       False\n",
      "3       False\n",
      "4       False\n",
      "        ...  \n",
      "3382    False\n",
      "3383    False\n",
      "3384    False\n",
      "3385    False\n",
      "3386    False\n",
      "Length: 3387, dtype: bool\n"
     ]
    },
    {
     "data": {
      "text/plain": [
       "(3387, 4)"
      ]
     },
     "execution_count": 15,
     "metadata": {},
     "output_type": "execute_result"
    }
   ],
   "source": [
    "# Checking for duplicates\n",
    "print(df_movie_gross.duplicated())\n",
    "df_movie_gross.shape"
   ]
  },
  {
   "cell_type": "code",
   "execution_count": 16,
   "metadata": {},
   "outputs": [],
   "source": [
    "# No duplicates!\n",
    "# Exporting to csv for teammates to use\n",
    "df_movie_gross.to_csv('bom_movie_gross_clean.csv')"
   ]
  },
  {
   "cell_type": "markdown",
   "metadata": {},
   "source": [
    "### Cleaning Budgets\n",
    "Now that movie_gross is clean, it's time to move onto budgets"
   ]
  },
  {
   "cell_type": "code",
   "execution_count": 17,
   "metadata": {
    "scrolled": true
   },
   "outputs": [
    {
     "data": {
      "text/html": [
       "<div>\n",
       "<style scoped>\n",
       "    .dataframe tbody tr th:only-of-type {\n",
       "        vertical-align: middle;\n",
       "    }\n",
       "\n",
       "    .dataframe tbody tr th {\n",
       "        vertical-align: top;\n",
       "    }\n",
       "\n",
       "    .dataframe thead th {\n",
       "        text-align: right;\n",
       "    }\n",
       "</style>\n",
       "<table border=\"1\" class=\"dataframe\">\n",
       "  <thead>\n",
       "    <tr style=\"text-align: right;\">\n",
       "      <th></th>\n",
       "      <th>id</th>\n",
       "      <th>release_date</th>\n",
       "      <th>movie</th>\n",
       "      <th>production_budget</th>\n",
       "      <th>domestic_gross</th>\n",
       "      <th>worldwide_gross</th>\n",
       "    </tr>\n",
       "  </thead>\n",
       "  <tbody>\n",
       "    <tr>\n",
       "      <td>0</td>\n",
       "      <td>1</td>\n",
       "      <td>Dec 18, 2009</td>\n",
       "      <td>Avatar</td>\n",
       "      <td>$425,000,000</td>\n",
       "      <td>$760,507,625</td>\n",
       "      <td>$2,776,345,279</td>\n",
       "    </tr>\n",
       "    <tr>\n",
       "      <td>1</td>\n",
       "      <td>2</td>\n",
       "      <td>May 20, 2011</td>\n",
       "      <td>Pirates of the Caribbean: On Stranger Tides</td>\n",
       "      <td>$410,600,000</td>\n",
       "      <td>$241,063,875</td>\n",
       "      <td>$1,045,663,875</td>\n",
       "    </tr>\n",
       "    <tr>\n",
       "      <td>2</td>\n",
       "      <td>3</td>\n",
       "      <td>Jun 7, 2019</td>\n",
       "      <td>Dark Phoenix</td>\n",
       "      <td>$350,000,000</td>\n",
       "      <td>$42,762,350</td>\n",
       "      <td>$149,762,350</td>\n",
       "    </tr>\n",
       "    <tr>\n",
       "      <td>3</td>\n",
       "      <td>4</td>\n",
       "      <td>May 1, 2015</td>\n",
       "      <td>Avengers: Age of Ultron</td>\n",
       "      <td>$330,600,000</td>\n",
       "      <td>$459,005,868</td>\n",
       "      <td>$1,403,013,963</td>\n",
       "    </tr>\n",
       "    <tr>\n",
       "      <td>4</td>\n",
       "      <td>5</td>\n",
       "      <td>Dec 15, 2017</td>\n",
       "      <td>Star Wars Ep. VIII: The Last Jedi</td>\n",
       "      <td>$317,000,000</td>\n",
       "      <td>$620,181,382</td>\n",
       "      <td>$1,316,721,747</td>\n",
       "    </tr>\n",
       "  </tbody>\n",
       "</table>\n",
       "</div>"
      ],
      "text/plain": [
       "   id  release_date                                        movie  \\\n",
       "0   1  Dec 18, 2009                                       Avatar   \n",
       "1   2  May 20, 2011  Pirates of the Caribbean: On Stranger Tides   \n",
       "2   3   Jun 7, 2019                                 Dark Phoenix   \n",
       "3   4   May 1, 2015                      Avengers: Age of Ultron   \n",
       "4   5  Dec 15, 2017            Star Wars Ep. VIII: The Last Jedi   \n",
       "\n",
       "  production_budget domestic_gross worldwide_gross  \n",
       "0      $425,000,000   $760,507,625  $2,776,345,279  \n",
       "1      $410,600,000   $241,063,875  $1,045,663,875  \n",
       "2      $350,000,000    $42,762,350    $149,762,350  \n",
       "3      $330,600,000   $459,005,868  $1,403,013,963  \n",
       "4      $317,000,000   $620,181,382  $1,316,721,747  "
      ]
     },
     "execution_count": 17,
     "metadata": {},
     "output_type": "execute_result"
    }
   ],
   "source": [
    "# Checking layout\n",
    "df_budget.head()"
   ]
  },
  {
   "cell_type": "code",
   "execution_count": 18,
   "metadata": {},
   "outputs": [
    {
     "name": "stdout",
     "output_type": "stream",
     "text": [
      "<class 'pandas.core.frame.DataFrame'>\n",
      "RangeIndex: 5782 entries, 0 to 5781\n",
      "Data columns (total 6 columns):\n",
      "id                   5782 non-null int64\n",
      "release_date         5782 non-null object\n",
      "movie                5782 non-null object\n",
      "production_budget    5782 non-null object\n",
      "domestic_gross       5782 non-null object\n",
      "worldwide_gross      5782 non-null object\n",
      "dtypes: int64(1), object(5)\n",
      "memory usage: 271.2+ KB\n"
     ]
    }
   ],
   "source": [
    "# Checking datatypes\n",
    "df_budget.info()"
   ]
  },
  {
   "cell_type": "code",
   "execution_count": 19,
   "metadata": {},
   "outputs": [
    {
     "name": "stdout",
     "output_type": "stream",
     "text": [
      "<class 'pandas.core.frame.DataFrame'>\n",
      "RangeIndex: 5782 entries, 0 to 5781\n",
      "Data columns (total 5 columns):\n",
      "release_date         5782 non-null object\n",
      "movie                5782 non-null object\n",
      "production_budget    5782 non-null object\n",
      "domestic_gross       5782 non-null object\n",
      "worldwide_gross      5782 non-null object\n",
      "dtypes: object(5)\n",
      "memory usage: 226.0+ KB\n"
     ]
    }
   ],
   "source": [
    "# Need to drop 'id' and change all numericaL columns to floats or ints\n",
    "df_budget.drop(axis=1, columns=['id'], inplace=True)\n",
    "df_budget.info()"
   ]
  },
  {
   "cell_type": "code",
   "execution_count": 20,
   "metadata": {},
   "outputs": [
    {
     "data": {
      "text/plain": [
       "release_date         0\n",
       "movie                0\n",
       "production_budget    0\n",
       "domestic_gross       0\n",
       "worldwide_gross      0\n",
       "dtype: int64"
      ]
     },
     "execution_count": 20,
     "metadata": {},
     "output_type": "execute_result"
    }
   ],
   "source": [
    "#checking for missing values\n",
    "df_budget.isna().sum()"
   ]
  },
  {
   "cell_type": "code",
   "execution_count": 21,
   "metadata": {},
   "outputs": [
    {
     "data": {
      "text/html": [
       "<div>\n",
       "<style scoped>\n",
       "    .dataframe tbody tr th:only-of-type {\n",
       "        vertical-align: middle;\n",
       "    }\n",
       "\n",
       "    .dataframe tbody tr th {\n",
       "        vertical-align: top;\n",
       "    }\n",
       "\n",
       "    .dataframe thead th {\n",
       "        text-align: right;\n",
       "    }\n",
       "</style>\n",
       "<table border=\"1\" class=\"dataframe\">\n",
       "  <thead>\n",
       "    <tr style=\"text-align: right;\">\n",
       "      <th></th>\n",
       "      <th>release_date</th>\n",
       "      <th>movie</th>\n",
       "      <th>production_budget</th>\n",
       "      <th>domestic_gross</th>\n",
       "      <th>worldwide_gross</th>\n",
       "    </tr>\n",
       "  </thead>\n",
       "  <tbody>\n",
       "    <tr>\n",
       "      <td>0</td>\n",
       "      <td>Dec 18, 2009</td>\n",
       "      <td>Avatar</td>\n",
       "      <td>425000000.0</td>\n",
       "      <td>$760,507,625</td>\n",
       "      <td>$2,776,345,279</td>\n",
       "    </tr>\n",
       "    <tr>\n",
       "      <td>1</td>\n",
       "      <td>May 20, 2011</td>\n",
       "      <td>Pirates of the Caribbean: On Stranger Tides</td>\n",
       "      <td>410600000.0</td>\n",
       "      <td>$241,063,875</td>\n",
       "      <td>$1,045,663,875</td>\n",
       "    </tr>\n",
       "    <tr>\n",
       "      <td>2</td>\n",
       "      <td>Jun 7, 2019</td>\n",
       "      <td>Dark Phoenix</td>\n",
       "      <td>350000000.0</td>\n",
       "      <td>$42,762,350</td>\n",
       "      <td>$149,762,350</td>\n",
       "    </tr>\n",
       "    <tr>\n",
       "      <td>3</td>\n",
       "      <td>May 1, 2015</td>\n",
       "      <td>Avengers: Age of Ultron</td>\n",
       "      <td>330600000.0</td>\n",
       "      <td>$459,005,868</td>\n",
       "      <td>$1,403,013,963</td>\n",
       "    </tr>\n",
       "    <tr>\n",
       "      <td>4</td>\n",
       "      <td>Dec 15, 2017</td>\n",
       "      <td>Star Wars Ep. VIII: The Last Jedi</td>\n",
       "      <td>317000000.0</td>\n",
       "      <td>$620,181,382</td>\n",
       "      <td>$1,316,721,747</td>\n",
       "    </tr>\n",
       "    <tr>\n",
       "      <td>...</td>\n",
       "      <td>...</td>\n",
       "      <td>...</td>\n",
       "      <td>...</td>\n",
       "      <td>...</td>\n",
       "      <td>...</td>\n",
       "    </tr>\n",
       "    <tr>\n",
       "      <td>5777</td>\n",
       "      <td>Dec 31, 2018</td>\n",
       "      <td>Red 11</td>\n",
       "      <td>7000.0</td>\n",
       "      <td>$0</td>\n",
       "      <td>$0</td>\n",
       "    </tr>\n",
       "    <tr>\n",
       "      <td>5778</td>\n",
       "      <td>Apr 2, 1999</td>\n",
       "      <td>Following</td>\n",
       "      <td>6000.0</td>\n",
       "      <td>$48,482</td>\n",
       "      <td>$240,495</td>\n",
       "    </tr>\n",
       "    <tr>\n",
       "      <td>5779</td>\n",
       "      <td>Jul 13, 2005</td>\n",
       "      <td>Return to the Land of Wonders</td>\n",
       "      <td>5000.0</td>\n",
       "      <td>$1,338</td>\n",
       "      <td>$1,338</td>\n",
       "    </tr>\n",
       "    <tr>\n",
       "      <td>5780</td>\n",
       "      <td>Sep 29, 2015</td>\n",
       "      <td>A Plague So Pleasant</td>\n",
       "      <td>1400.0</td>\n",
       "      <td>$0</td>\n",
       "      <td>$0</td>\n",
       "    </tr>\n",
       "    <tr>\n",
       "      <td>5781</td>\n",
       "      <td>Aug 5, 2005</td>\n",
       "      <td>My Date With Drew</td>\n",
       "      <td>1100.0</td>\n",
       "      <td>$181,041</td>\n",
       "      <td>$181,041</td>\n",
       "    </tr>\n",
       "  </tbody>\n",
       "</table>\n",
       "<p>5782 rows × 5 columns</p>\n",
       "</div>"
      ],
      "text/plain": [
       "      release_date                                        movie  \\\n",
       "0     Dec 18, 2009                                       Avatar   \n",
       "1     May 20, 2011  Pirates of the Caribbean: On Stranger Tides   \n",
       "2      Jun 7, 2019                                 Dark Phoenix   \n",
       "3      May 1, 2015                      Avengers: Age of Ultron   \n",
       "4     Dec 15, 2017            Star Wars Ep. VIII: The Last Jedi   \n",
       "...            ...                                          ...   \n",
       "5777  Dec 31, 2018                                       Red 11   \n",
       "5778   Apr 2, 1999                                    Following   \n",
       "5779  Jul 13, 2005                Return to the Land of Wonders   \n",
       "5780  Sep 29, 2015                         A Plague So Pleasant   \n",
       "5781   Aug 5, 2005                            My Date With Drew   \n",
       "\n",
       "      production_budget domestic_gross worldwide_gross  \n",
       "0           425000000.0   $760,507,625  $2,776,345,279  \n",
       "1           410600000.0   $241,063,875  $1,045,663,875  \n",
       "2           350000000.0    $42,762,350    $149,762,350  \n",
       "3           330600000.0   $459,005,868  $1,403,013,963  \n",
       "4           317000000.0   $620,181,382  $1,316,721,747  \n",
       "...                 ...            ...             ...  \n",
       "5777             7000.0             $0              $0  \n",
       "5778             6000.0        $48,482        $240,495  \n",
       "5779             5000.0         $1,338          $1,338  \n",
       "5780             1400.0             $0              $0  \n",
       "5781             1100.0       $181,041        $181,041  \n",
       "\n",
       "[5782 rows x 5 columns]"
      ]
     },
     "execution_count": 21,
     "metadata": {},
     "output_type": "execute_result"
    }
   ],
   "source": [
    "# Need to change numeric values to floats\n",
    "# Function takes dataframe and column name as arguments. It then searches down\n",
    "# Calling function we used earlier\n",
    "# Try with one\n",
    "convert_amt_to_float(df_budget, 'production_budget')"
   ]
  },
  {
   "cell_type": "code",
   "execution_count": 22,
   "metadata": {},
   "outputs": [],
   "source": [
    "# Making list of remaining columns to iterate function through\n",
    "\n",
    "num_cols = ['domestic_gross', 'worldwide_gross']\n",
    "\n",
    "# For loop will iterate our function only through the columns of our dataframe\n",
    "# that are specified in our list.\n",
    "\n",
    "for col in num_cols:\n",
    "    df_budget = convert_amt_to_float(df_budget, col)"
   ]
  },
  {
   "cell_type": "code",
   "execution_count": 23,
   "metadata": {},
   "outputs": [
    {
     "name": "stdout",
     "output_type": "stream",
     "text": [
      "<class 'pandas.core.frame.DataFrame'>\n",
      "RangeIndex: 5782 entries, 0 to 5781\n",
      "Data columns (total 5 columns):\n",
      "release_date         5782 non-null object\n",
      "movie                5782 non-null object\n",
      "production_budget    5782 non-null float64\n",
      "domestic_gross       5782 non-null float64\n",
      "worldwide_gross      5782 non-null float64\n",
      "dtypes: float64(3), object(2)\n",
      "memory usage: 226.0+ KB\n",
      "None\n"
     ]
    },
    {
     "data": {
      "text/html": [
       "<div>\n",
       "<style scoped>\n",
       "    .dataframe tbody tr th:only-of-type {\n",
       "        vertical-align: middle;\n",
       "    }\n",
       "\n",
       "    .dataframe tbody tr th {\n",
       "        vertical-align: top;\n",
       "    }\n",
       "\n",
       "    .dataframe thead th {\n",
       "        text-align: right;\n",
       "    }\n",
       "</style>\n",
       "<table border=\"1\" class=\"dataframe\">\n",
       "  <thead>\n",
       "    <tr style=\"text-align: right;\">\n",
       "      <th></th>\n",
       "      <th>release_date</th>\n",
       "      <th>movie</th>\n",
       "      <th>production_budget</th>\n",
       "      <th>domestic_gross</th>\n",
       "      <th>worldwide_gross</th>\n",
       "    </tr>\n",
       "  </thead>\n",
       "  <tbody>\n",
       "    <tr>\n",
       "      <td>0</td>\n",
       "      <td>Dec 18, 2009</td>\n",
       "      <td>Avatar</td>\n",
       "      <td>425000000.0</td>\n",
       "      <td>760507625.0</td>\n",
       "      <td>2.776345e+09</td>\n",
       "    </tr>\n",
       "    <tr>\n",
       "      <td>1</td>\n",
       "      <td>May 20, 2011</td>\n",
       "      <td>Pirates of the Caribbean: On Stranger Tides</td>\n",
       "      <td>410600000.0</td>\n",
       "      <td>241063875.0</td>\n",
       "      <td>1.045664e+09</td>\n",
       "    </tr>\n",
       "    <tr>\n",
       "      <td>2</td>\n",
       "      <td>Jun 7, 2019</td>\n",
       "      <td>Dark Phoenix</td>\n",
       "      <td>350000000.0</td>\n",
       "      <td>42762350.0</td>\n",
       "      <td>1.497624e+08</td>\n",
       "    </tr>\n",
       "    <tr>\n",
       "      <td>3</td>\n",
       "      <td>May 1, 2015</td>\n",
       "      <td>Avengers: Age of Ultron</td>\n",
       "      <td>330600000.0</td>\n",
       "      <td>459005868.0</td>\n",
       "      <td>1.403014e+09</td>\n",
       "    </tr>\n",
       "    <tr>\n",
       "      <td>4</td>\n",
       "      <td>Dec 15, 2017</td>\n",
       "      <td>Star Wars Ep. VIII: The Last Jedi</td>\n",
       "      <td>317000000.0</td>\n",
       "      <td>620181382.0</td>\n",
       "      <td>1.316722e+09</td>\n",
       "    </tr>\n",
       "  </tbody>\n",
       "</table>\n",
       "</div>"
      ],
      "text/plain": [
       "   release_date                                        movie  \\\n",
       "0  Dec 18, 2009                                       Avatar   \n",
       "1  May 20, 2011  Pirates of the Caribbean: On Stranger Tides   \n",
       "2   Jun 7, 2019                                 Dark Phoenix   \n",
       "3   May 1, 2015                      Avengers: Age of Ultron   \n",
       "4  Dec 15, 2017            Star Wars Ep. VIII: The Last Jedi   \n",
       "\n",
       "   production_budget  domestic_gross  worldwide_gross  \n",
       "0        425000000.0     760507625.0     2.776345e+09  \n",
       "1        410600000.0     241063875.0     1.045664e+09  \n",
       "2        350000000.0      42762350.0     1.497624e+08  \n",
       "3        330600000.0     459005868.0     1.403014e+09  \n",
       "4        317000000.0     620181382.0     1.316722e+09  "
      ]
     },
     "execution_count": 23,
     "metadata": {},
     "output_type": "execute_result"
    }
   ],
   "source": [
    "# Checking\n",
    "print(df_budget.info())\n",
    "df_budget.head()"
   ]
  },
  {
   "cell_type": "code",
   "execution_count": 24,
   "metadata": {},
   "outputs": [
    {
     "name": "stdout",
     "output_type": "stream",
     "text": [
      "<class 'pandas.core.frame.DataFrame'>\n",
      "RangeIndex: 5782 entries, 0 to 5781\n",
      "Data columns (total 5 columns):\n",
      "release_date         5782 non-null object\n",
      "movie                5782 non-null object\n",
      "production_budget    5782 non-null float64\n",
      "domestic_gross       5782 non-null float64\n",
      "worldwide_gross      5782 non-null float64\n",
      "dtypes: float64(3), object(2)\n",
      "memory usage: 226.0+ KB\n",
      "None\n"
     ]
    },
    {
     "data": {
      "text/html": [
       "<div>\n",
       "<style scoped>\n",
       "    .dataframe tbody tr th:only-of-type {\n",
       "        vertical-align: middle;\n",
       "    }\n",
       "\n",
       "    .dataframe tbody tr th {\n",
       "        vertical-align: top;\n",
       "    }\n",
       "\n",
       "    .dataframe thead th {\n",
       "        text-align: right;\n",
       "    }\n",
       "</style>\n",
       "<table border=\"1\" class=\"dataframe\">\n",
       "  <thead>\n",
       "    <tr style=\"text-align: right;\">\n",
       "      <th></th>\n",
       "      <th>release_date</th>\n",
       "      <th>movie</th>\n",
       "      <th>production_budget</th>\n",
       "      <th>domestic_gross</th>\n",
       "      <th>worldwide_gross</th>\n",
       "    </tr>\n",
       "  </thead>\n",
       "  <tbody>\n",
       "    <tr>\n",
       "      <td>0</td>\n",
       "      <td>Dec 18, 2009</td>\n",
       "      <td>Avatar</td>\n",
       "      <td>425000000.0</td>\n",
       "      <td>760507625.0</td>\n",
       "      <td>2.776345e+09</td>\n",
       "    </tr>\n",
       "    <tr>\n",
       "      <td>1</td>\n",
       "      <td>May 20, 2011</td>\n",
       "      <td>Pirates of the Caribbean: On Stranger Tides</td>\n",
       "      <td>410600000.0</td>\n",
       "      <td>241063875.0</td>\n",
       "      <td>1.045664e+09</td>\n",
       "    </tr>\n",
       "    <tr>\n",
       "      <td>2</td>\n",
       "      <td>Jun 7, 2019</td>\n",
       "      <td>Dark Phoenix</td>\n",
       "      <td>350000000.0</td>\n",
       "      <td>42762350.0</td>\n",
       "      <td>1.497624e+08</td>\n",
       "    </tr>\n",
       "    <tr>\n",
       "      <td>3</td>\n",
       "      <td>May 1, 2015</td>\n",
       "      <td>Avengers: Age of Ultron</td>\n",
       "      <td>330600000.0</td>\n",
       "      <td>459005868.0</td>\n",
       "      <td>1.403014e+09</td>\n",
       "    </tr>\n",
       "    <tr>\n",
       "      <td>4</td>\n",
       "      <td>Dec 15, 2017</td>\n",
       "      <td>Star Wars Ep. VIII: The Last Jedi</td>\n",
       "      <td>317000000.0</td>\n",
       "      <td>620181382.0</td>\n",
       "      <td>1.316722e+09</td>\n",
       "    </tr>\n",
       "  </tbody>\n",
       "</table>\n",
       "</div>"
      ],
      "text/plain": [
       "   release_date                                        movie  \\\n",
       "0  Dec 18, 2009                                       Avatar   \n",
       "1  May 20, 2011  Pirates of the Caribbean: On Stranger Tides   \n",
       "2   Jun 7, 2019                                 Dark Phoenix   \n",
       "3   May 1, 2015                      Avengers: Age of Ultron   \n",
       "4  Dec 15, 2017            Star Wars Ep. VIII: The Last Jedi   \n",
       "\n",
       "   production_budget  domestic_gross  worldwide_gross  \n",
       "0        425000000.0     760507625.0     2.776345e+09  \n",
       "1        410600000.0     241063875.0     1.045664e+09  \n",
       "2        350000000.0      42762350.0     1.497624e+08  \n",
       "3        330600000.0     459005868.0     1.403014e+09  \n",
       "4        317000000.0     620181382.0     1.316722e+09  "
      ]
     },
     "execution_count": 24,
     "metadata": {},
     "output_type": "execute_result"
    }
   ],
   "source": [
    "# Checking\n",
    "print(df_budget.info())\n",
    "df_budget.head()"
   ]
  },
  {
   "cell_type": "markdown",
   "metadata": {},
   "source": [
    "### Preparing for Merge\n",
    "Since we plan on merging these tables, we're going to change the names of columns and change release_date into separate columns"
   ]
  },
  {
   "cell_type": "code",
   "execution_count": 25,
   "metadata": {},
   "outputs": [
    {
     "name": "stdout",
     "output_type": "stream",
     "text": [
      "Index(['release_date', 'title', 'production_budget', 'domestic_gross',\n",
      "       'worldwide_gross'],\n",
      "      dtype='object')\n"
     ]
    },
    {
     "data": {
      "text/plain": [
       "Index(['title', 'domestic_gross', 'foreign_gross', 'year'], dtype='object')"
      ]
     },
     "execution_count": 25,
     "metadata": {},
     "output_type": "execute_result"
    }
   ],
   "source": [
    "# Changing name of 'movie' to 'title' so it matches df_movie_gross\n",
    "df_budget = df_budget.rename(columns={'movie' : 'title'})\n",
    "# checking\n",
    "print(df_budget.columns)\n",
    "df_movie_gross.columns"
   ]
  },
  {
   "cell_type": "code",
   "execution_count": 26,
   "metadata": {},
   "outputs": [
    {
     "data": {
      "text/html": [
       "<div>\n",
       "<style scoped>\n",
       "    .dataframe tbody tr th:only-of-type {\n",
       "        vertical-align: middle;\n",
       "    }\n",
       "\n",
       "    .dataframe tbody tr th {\n",
       "        vertical-align: top;\n",
       "    }\n",
       "\n",
       "    .dataframe thead th {\n",
       "        text-align: right;\n",
       "    }\n",
       "</style>\n",
       "<table border=\"1\" class=\"dataframe\">\n",
       "  <thead>\n",
       "    <tr style=\"text-align: right;\">\n",
       "      <th></th>\n",
       "      <th>title</th>\n",
       "      <th>domestic_gross</th>\n",
       "      <th>year</th>\n",
       "    </tr>\n",
       "  </thead>\n",
       "  <tbody>\n",
       "    <tr>\n",
       "      <td>0</td>\n",
       "      <td>Toy Story 3</td>\n",
       "      <td>415000000.0</td>\n",
       "      <td>2010</td>\n",
       "    </tr>\n",
       "    <tr>\n",
       "      <td>1</td>\n",
       "      <td>Alice in Wonderland (2010)</td>\n",
       "      <td>334200000.0</td>\n",
       "      <td>2010</td>\n",
       "    </tr>\n",
       "    <tr>\n",
       "      <td>2</td>\n",
       "      <td>Harry Potter and the Deathly Hallows Part 1</td>\n",
       "      <td>296000000.0</td>\n",
       "      <td>2010</td>\n",
       "    </tr>\n",
       "    <tr>\n",
       "      <td>3</td>\n",
       "      <td>Inception</td>\n",
       "      <td>292600000.0</td>\n",
       "      <td>2010</td>\n",
       "    </tr>\n",
       "    <tr>\n",
       "      <td>4</td>\n",
       "      <td>Shrek Forever After</td>\n",
       "      <td>238700000.0</td>\n",
       "      <td>2010</td>\n",
       "    </tr>\n",
       "  </tbody>\n",
       "</table>\n",
       "</div>"
      ],
      "text/plain": [
       "                                         title  domestic_gross  year\n",
       "0                                  Toy Story 3     415000000.0  2010\n",
       "1                   Alice in Wonderland (2010)     334200000.0  2010\n",
       "2  Harry Potter and the Deathly Hallows Part 1     296000000.0  2010\n",
       "3                                    Inception     292600000.0  2010\n",
       "4                          Shrek Forever After     238700000.0  2010"
      ]
     },
     "execution_count": 26,
     "metadata": {},
     "output_type": "execute_result"
    }
   ],
   "source": [
    "# Even though we did all of that work on foreign gross, we don't \n",
    "# want it to decrease our sample size or create NaNs after the merge.\n",
    "# Best to just drop it\n",
    "df_movie_gross = df_movie_gross.drop('foreign_gross', axis=1)\n",
    "df_movie_gross.head()"
   ]
  },
  {
   "cell_type": "code",
   "execution_count": 27,
   "metadata": {},
   "outputs": [
    {
     "data": {
      "text/html": [
       "<div>\n",
       "<style scoped>\n",
       "    .dataframe tbody tr th:only-of-type {\n",
       "        vertical-align: middle;\n",
       "    }\n",
       "\n",
       "    .dataframe tbody tr th {\n",
       "        vertical-align: top;\n",
       "    }\n",
       "\n",
       "    .dataframe thead th {\n",
       "        text-align: right;\n",
       "    }\n",
       "</style>\n",
       "<table border=\"1\" class=\"dataframe\">\n",
       "  <thead>\n",
       "    <tr style=\"text-align: right;\">\n",
       "      <th></th>\n",
       "      <th>0</th>\n",
       "      <th>1</th>\n",
       "      <th>2</th>\n",
       "    </tr>\n",
       "  </thead>\n",
       "  <tbody>\n",
       "    <tr>\n",
       "      <td>0</td>\n",
       "      <td>Dec</td>\n",
       "      <td>18,</td>\n",
       "      <td>2009</td>\n",
       "    </tr>\n",
       "    <tr>\n",
       "      <td>1</td>\n",
       "      <td>May</td>\n",
       "      <td>20,</td>\n",
       "      <td>2011</td>\n",
       "    </tr>\n",
       "    <tr>\n",
       "      <td>2</td>\n",
       "      <td>Jun</td>\n",
       "      <td>7,</td>\n",
       "      <td>2019</td>\n",
       "    </tr>\n",
       "    <tr>\n",
       "      <td>3</td>\n",
       "      <td>May</td>\n",
       "      <td>1,</td>\n",
       "      <td>2015</td>\n",
       "    </tr>\n",
       "    <tr>\n",
       "      <td>4</td>\n",
       "      <td>Dec</td>\n",
       "      <td>15,</td>\n",
       "      <td>2017</td>\n",
       "    </tr>\n",
       "    <tr>\n",
       "      <td>...</td>\n",
       "      <td>...</td>\n",
       "      <td>...</td>\n",
       "      <td>...</td>\n",
       "    </tr>\n",
       "    <tr>\n",
       "      <td>5777</td>\n",
       "      <td>Dec</td>\n",
       "      <td>31,</td>\n",
       "      <td>2018</td>\n",
       "    </tr>\n",
       "    <tr>\n",
       "      <td>5778</td>\n",
       "      <td>Apr</td>\n",
       "      <td>2,</td>\n",
       "      <td>1999</td>\n",
       "    </tr>\n",
       "    <tr>\n",
       "      <td>5779</td>\n",
       "      <td>Jul</td>\n",
       "      <td>13,</td>\n",
       "      <td>2005</td>\n",
       "    </tr>\n",
       "    <tr>\n",
       "      <td>5780</td>\n",
       "      <td>Sep</td>\n",
       "      <td>29,</td>\n",
       "      <td>2015</td>\n",
       "    </tr>\n",
       "    <tr>\n",
       "      <td>5781</td>\n",
       "      <td>Aug</td>\n",
       "      <td>5,</td>\n",
       "      <td>2005</td>\n",
       "    </tr>\n",
       "  </tbody>\n",
       "</table>\n",
       "<p>5782 rows × 3 columns</p>\n",
       "</div>"
      ],
      "text/plain": [
       "        0    1     2\n",
       "0     Dec  18,  2009\n",
       "1     May  20,  2011\n",
       "2     Jun   7,  2019\n",
       "3     May   1,  2015\n",
       "4     Dec  15,  2017\n",
       "...   ...  ...   ...\n",
       "5777  Dec  31,  2018\n",
       "5778  Apr   2,  1999\n",
       "5779  Jul  13,  2005\n",
       "5780  Sep  29,  2015\n",
       "5781  Aug   5,  2005\n",
       "\n",
       "[5782 rows x 3 columns]"
      ]
     },
     "execution_count": 27,
     "metadata": {},
     "output_type": "execute_result"
    }
   ],
   "source": [
    "# Using .split to create a new df with 3 columns of containing \n",
    "#each part of the string that's separated by '', respectively.  \n",
    "release_split = df_budget.release_date.str.split(\" \",expand=True)\n",
    "release_split"
   ]
  },
  {
   "cell_type": "code",
   "execution_count": 28,
   "metadata": {},
   "outputs": [
    {
     "data": {
      "text/html": [
       "<div>\n",
       "<style scoped>\n",
       "    .dataframe tbody tr th:only-of-type {\n",
       "        vertical-align: middle;\n",
       "    }\n",
       "\n",
       "    .dataframe tbody tr th {\n",
       "        vertical-align: top;\n",
       "    }\n",
       "\n",
       "    .dataframe thead th {\n",
       "        text-align: right;\n",
       "    }\n",
       "</style>\n",
       "<table border=\"1\" class=\"dataframe\">\n",
       "  <thead>\n",
       "    <tr style=\"text-align: right;\">\n",
       "      <th></th>\n",
       "      <th>0</th>\n",
       "      <th>1</th>\n",
       "      <th>2</th>\n",
       "      <th>release_date</th>\n",
       "      <th>title</th>\n",
       "      <th>production_budget</th>\n",
       "      <th>domestic_gross</th>\n",
       "      <th>worldwide_gross</th>\n",
       "    </tr>\n",
       "  </thead>\n",
       "  <tbody>\n",
       "    <tr>\n",
       "      <td>0</td>\n",
       "      <td>Dec</td>\n",
       "      <td>18,</td>\n",
       "      <td>2009</td>\n",
       "      <td>Dec 18, 2009</td>\n",
       "      <td>Avatar</td>\n",
       "      <td>425000000.0</td>\n",
       "      <td>760507625.0</td>\n",
       "      <td>2.776345e+09</td>\n",
       "    </tr>\n",
       "    <tr>\n",
       "      <td>1</td>\n",
       "      <td>May</td>\n",
       "      <td>20,</td>\n",
       "      <td>2011</td>\n",
       "      <td>May 20, 2011</td>\n",
       "      <td>Pirates of the Caribbean: On Stranger Tides</td>\n",
       "      <td>410600000.0</td>\n",
       "      <td>241063875.0</td>\n",
       "      <td>1.045664e+09</td>\n",
       "    </tr>\n",
       "    <tr>\n",
       "      <td>2</td>\n",
       "      <td>Jun</td>\n",
       "      <td>7,</td>\n",
       "      <td>2019</td>\n",
       "      <td>Jun 7, 2019</td>\n",
       "      <td>Dark Phoenix</td>\n",
       "      <td>350000000.0</td>\n",
       "      <td>42762350.0</td>\n",
       "      <td>1.497624e+08</td>\n",
       "    </tr>\n",
       "    <tr>\n",
       "      <td>3</td>\n",
       "      <td>May</td>\n",
       "      <td>1,</td>\n",
       "      <td>2015</td>\n",
       "      <td>May 1, 2015</td>\n",
       "      <td>Avengers: Age of Ultron</td>\n",
       "      <td>330600000.0</td>\n",
       "      <td>459005868.0</td>\n",
       "      <td>1.403014e+09</td>\n",
       "    </tr>\n",
       "    <tr>\n",
       "      <td>4</td>\n",
       "      <td>Dec</td>\n",
       "      <td>15,</td>\n",
       "      <td>2017</td>\n",
       "      <td>Dec 15, 2017</td>\n",
       "      <td>Star Wars Ep. VIII: The Last Jedi</td>\n",
       "      <td>317000000.0</td>\n",
       "      <td>620181382.0</td>\n",
       "      <td>1.316722e+09</td>\n",
       "    </tr>\n",
       "  </tbody>\n",
       "</table>\n",
       "</div>"
      ],
      "text/plain": [
       "     0    1     2  release_date                                        title  \\\n",
       "0  Dec  18,  2009  Dec 18, 2009                                       Avatar   \n",
       "1  May  20,  2011  May 20, 2011  Pirates of the Caribbean: On Stranger Tides   \n",
       "2  Jun   7,  2019   Jun 7, 2019                                 Dark Phoenix   \n",
       "3  May   1,  2015   May 1, 2015                      Avengers: Age of Ultron   \n",
       "4  Dec  15,  2017  Dec 15, 2017            Star Wars Ep. VIII: The Last Jedi   \n",
       "\n",
       "   production_budget  domestic_gross  worldwide_gross  \n",
       "0        425000000.0     760507625.0     2.776345e+09  \n",
       "1        410600000.0     241063875.0     1.045664e+09  \n",
       "2        350000000.0      42762350.0     1.497624e+08  \n",
       "3        330600000.0     459005868.0     1.403014e+09  \n",
       "4        317000000.0     620181382.0     1.316722e+09  "
      ]
     },
     "execution_count": 28,
     "metadata": {},
     "output_type": "execute_result"
    }
   ],
   "source": [
    "# Merging both tables into a new one\n",
    "budgets = pd.concat([release_split, df_budget], axis=1)\n",
    "budgets.head()"
   ]
  },
  {
   "cell_type": "code",
   "execution_count": 29,
   "metadata": {},
   "outputs": [
    {
     "data": {
      "text/html": [
       "<div>\n",
       "<style scoped>\n",
       "    .dataframe tbody tr th:only-of-type {\n",
       "        vertical-align: middle;\n",
       "    }\n",
       "\n",
       "    .dataframe tbody tr th {\n",
       "        vertical-align: top;\n",
       "    }\n",
       "\n",
       "    .dataframe thead th {\n",
       "        text-align: right;\n",
       "    }\n",
       "</style>\n",
       "<table border=\"1\" class=\"dataframe\">\n",
       "  <thead>\n",
       "    <tr style=\"text-align: right;\">\n",
       "      <th></th>\n",
       "      <th>month</th>\n",
       "      <th>day</th>\n",
       "      <th>year</th>\n",
       "      <th>release_date</th>\n",
       "      <th>title</th>\n",
       "      <th>production_budget</th>\n",
       "      <th>domestic_gross</th>\n",
       "      <th>worldwide_gross</th>\n",
       "    </tr>\n",
       "  </thead>\n",
       "  <tbody>\n",
       "    <tr>\n",
       "      <td>0</td>\n",
       "      <td>Dec</td>\n",
       "      <td>18,</td>\n",
       "      <td>2009</td>\n",
       "      <td>Dec 18, 2009</td>\n",
       "      <td>Avatar</td>\n",
       "      <td>425000000.0</td>\n",
       "      <td>760507625.0</td>\n",
       "      <td>2.776345e+09</td>\n",
       "    </tr>\n",
       "    <tr>\n",
       "      <td>1</td>\n",
       "      <td>May</td>\n",
       "      <td>20,</td>\n",
       "      <td>2011</td>\n",
       "      <td>May 20, 2011</td>\n",
       "      <td>Pirates of the Caribbean: On Stranger Tides</td>\n",
       "      <td>410600000.0</td>\n",
       "      <td>241063875.0</td>\n",
       "      <td>1.045664e+09</td>\n",
       "    </tr>\n",
       "    <tr>\n",
       "      <td>2</td>\n",
       "      <td>Jun</td>\n",
       "      <td>7,</td>\n",
       "      <td>2019</td>\n",
       "      <td>Jun 7, 2019</td>\n",
       "      <td>Dark Phoenix</td>\n",
       "      <td>350000000.0</td>\n",
       "      <td>42762350.0</td>\n",
       "      <td>1.497624e+08</td>\n",
       "    </tr>\n",
       "    <tr>\n",
       "      <td>3</td>\n",
       "      <td>May</td>\n",
       "      <td>1,</td>\n",
       "      <td>2015</td>\n",
       "      <td>May 1, 2015</td>\n",
       "      <td>Avengers: Age of Ultron</td>\n",
       "      <td>330600000.0</td>\n",
       "      <td>459005868.0</td>\n",
       "      <td>1.403014e+09</td>\n",
       "    </tr>\n",
       "    <tr>\n",
       "      <td>4</td>\n",
       "      <td>Dec</td>\n",
       "      <td>15,</td>\n",
       "      <td>2017</td>\n",
       "      <td>Dec 15, 2017</td>\n",
       "      <td>Star Wars Ep. VIII: The Last Jedi</td>\n",
       "      <td>317000000.0</td>\n",
       "      <td>620181382.0</td>\n",
       "      <td>1.316722e+09</td>\n",
       "    </tr>\n",
       "  </tbody>\n",
       "</table>\n",
       "</div>"
      ],
      "text/plain": [
       "  month  day  year  release_date                                        title  \\\n",
       "0   Dec  18,  2009  Dec 18, 2009                                       Avatar   \n",
       "1   May  20,  2011  May 20, 2011  Pirates of the Caribbean: On Stranger Tides   \n",
       "2   Jun   7,  2019   Jun 7, 2019                                 Dark Phoenix   \n",
       "3   May   1,  2015   May 1, 2015                      Avengers: Age of Ultron   \n",
       "4   Dec  15,  2017  Dec 15, 2017            Star Wars Ep. VIII: The Last Jedi   \n",
       "\n",
       "   production_budget  domestic_gross  worldwide_gross  \n",
       "0        425000000.0     760507625.0     2.776345e+09  \n",
       "1        410600000.0     241063875.0     1.045664e+09  \n",
       "2        350000000.0      42762350.0     1.497624e+08  \n",
       "3        330600000.0     459005868.0     1.403014e+09  \n",
       "4        317000000.0     620181382.0     1.316722e+09  "
      ]
     },
     "execution_count": 29,
     "metadata": {},
     "output_type": "execute_result"
    }
   ],
   "source": [
    "# Renaming columns\n",
    "budgets = budgets.rename(columns={ 0 : 'month', 1: 'day', 2: 'year'})\n",
    "budgets.head()"
   ]
  },
  {
   "cell_type": "code",
   "execution_count": 30,
   "metadata": {},
   "outputs": [
    {
     "data": {
      "text/html": [
       "<div>\n",
       "<style scoped>\n",
       "    .dataframe tbody tr th:only-of-type {\n",
       "        vertical-align: middle;\n",
       "    }\n",
       "\n",
       "    .dataframe tbody tr th {\n",
       "        vertical-align: top;\n",
       "    }\n",
       "\n",
       "    .dataframe thead th {\n",
       "        text-align: right;\n",
       "    }\n",
       "</style>\n",
       "<table border=\"1\" class=\"dataframe\">\n",
       "  <thead>\n",
       "    <tr style=\"text-align: right;\">\n",
       "      <th></th>\n",
       "      <th>month</th>\n",
       "      <th>day</th>\n",
       "      <th>year</th>\n",
       "      <th>release_date</th>\n",
       "      <th>title</th>\n",
       "      <th>production_budget</th>\n",
       "      <th>domestic_gross</th>\n",
       "      <th>worldwide_gross</th>\n",
       "    </tr>\n",
       "  </thead>\n",
       "  <tbody>\n",
       "    <tr>\n",
       "      <td>0</td>\n",
       "      <td>12</td>\n",
       "      <td>18,</td>\n",
       "      <td>2009</td>\n",
       "      <td>Dec 18, 2009</td>\n",
       "      <td>Avatar</td>\n",
       "      <td>425000000.0</td>\n",
       "      <td>760507625.0</td>\n",
       "      <td>2.776345e+09</td>\n",
       "    </tr>\n",
       "    <tr>\n",
       "      <td>1</td>\n",
       "      <td>5</td>\n",
       "      <td>20,</td>\n",
       "      <td>2011</td>\n",
       "      <td>May 20, 2011</td>\n",
       "      <td>Pirates of the Caribbean: On Stranger Tides</td>\n",
       "      <td>410600000.0</td>\n",
       "      <td>241063875.0</td>\n",
       "      <td>1.045664e+09</td>\n",
       "    </tr>\n",
       "    <tr>\n",
       "      <td>2</td>\n",
       "      <td>6</td>\n",
       "      <td>7,</td>\n",
       "      <td>2019</td>\n",
       "      <td>Jun 7, 2019</td>\n",
       "      <td>Dark Phoenix</td>\n",
       "      <td>350000000.0</td>\n",
       "      <td>42762350.0</td>\n",
       "      <td>1.497624e+08</td>\n",
       "    </tr>\n",
       "    <tr>\n",
       "      <td>3</td>\n",
       "      <td>5</td>\n",
       "      <td>1,</td>\n",
       "      <td>2015</td>\n",
       "      <td>May 1, 2015</td>\n",
       "      <td>Avengers: Age of Ultron</td>\n",
       "      <td>330600000.0</td>\n",
       "      <td>459005868.0</td>\n",
       "      <td>1.403014e+09</td>\n",
       "    </tr>\n",
       "    <tr>\n",
       "      <td>4</td>\n",
       "      <td>12</td>\n",
       "      <td>15,</td>\n",
       "      <td>2017</td>\n",
       "      <td>Dec 15, 2017</td>\n",
       "      <td>Star Wars Ep. VIII: The Last Jedi</td>\n",
       "      <td>317000000.0</td>\n",
       "      <td>620181382.0</td>\n",
       "      <td>1.316722e+09</td>\n",
       "    </tr>\n",
       "  </tbody>\n",
       "</table>\n",
       "</div>"
      ],
      "text/plain": [
       "   month  day  year  release_date  \\\n",
       "0     12  18,  2009  Dec 18, 2009   \n",
       "1      5  20,  2011  May 20, 2011   \n",
       "2      6   7,  2019   Jun 7, 2019   \n",
       "3      5   1,  2015   May 1, 2015   \n",
       "4     12  15,  2017  Dec 15, 2017   \n",
       "\n",
       "                                         title  production_budget  \\\n",
       "0                                       Avatar        425000000.0   \n",
       "1  Pirates of the Caribbean: On Stranger Tides        410600000.0   \n",
       "2                                 Dark Phoenix        350000000.0   \n",
       "3                      Avengers: Age of Ultron        330600000.0   \n",
       "4            Star Wars Ep. VIII: The Last Jedi        317000000.0   \n",
       "\n",
       "   domestic_gross  worldwide_gross  \n",
       "0     760507625.0     2.776345e+09  \n",
       "1     241063875.0     1.045664e+09  \n",
       "2      42762350.0     1.497624e+08  \n",
       "3     459005868.0     1.403014e+09  \n",
       "4     620181382.0     1.316722e+09  "
      ]
     },
     "execution_count": 30,
     "metadata": {},
     "output_type": "execute_result"
    }
   ],
   "source": [
    "# Changing month names to numbers to make plotting easier\n",
    "monthdict = { 'Jan' : 1, 'Feb': 2, 'Mar': 3, 'Apr': 4, \"May\": 5, \"Jun\": 6,\n",
    "         'Jul' : 7, 'Aug' : 8, 'Sep' : 9, 'Oct' : 10, 'Nov' : 11, 'Dec' : 12}\n",
    "                           \n",
    "budgets = budgets.replace({'month': monthdict})\n",
    "budgets.head()"
   ]
  },
  {
   "cell_type": "code",
   "execution_count": 31,
   "metadata": {},
   "outputs": [
    {
     "data": {
      "text/plain": [
       "Index(['month', 'year', 'title', 'production_budget', 'domestic_gross',\n",
       "       'worldwide_gross'],\n",
       "      dtype='object')"
      ]
     },
     "execution_count": 31,
     "metadata": {},
     "output_type": "execute_result"
    }
   ],
   "source": [
    "# Don't need 'day' and 'release_date' column\n",
    "budgets = budgets.drop(['day', 'release_date'], axis=1)\n",
    "budgets.columns"
   ]
  },
  {
   "cell_type": "code",
   "execution_count": 32,
   "metadata": {},
   "outputs": [
    {
     "name": "stdout",
     "output_type": "stream",
     "text": [
      "(5782, 6)\n"
     ]
    },
    {
     "data": {
      "text/plain": [
       "False"
      ]
     },
     "execution_count": 32,
     "metadata": {},
     "output_type": "execute_result"
    }
   ],
   "source": [
    "# Checking for duplicates\n",
    "print(budgets.shape)\n",
    "budgets.duplicated().any()"
   ]
  },
  {
   "cell_type": "code",
   "execution_count": 33,
   "metadata": {},
   "outputs": [],
   "source": [
    "# No duplicates!\n",
    "# Exporting table to csv for teamates to use\n",
    "budgets.to_csv('tn_movie_budgets_clean.csv')"
   ]
  },
  {
   "cell_type": "markdown",
   "metadata": {},
   "source": [
    "### Merging the Tables"
   ]
  },
  {
   "cell_type": "code",
   "execution_count": 34,
   "metadata": {},
   "outputs": [
    {
     "name": "stdout",
     "output_type": "stream",
     "text": [
      "(5782, 7)\n"
     ]
    },
    {
     "data": {
      "text/html": [
       "<div>\n",
       "<style scoped>\n",
       "    .dataframe tbody tr th:only-of-type {\n",
       "        vertical-align: middle;\n",
       "    }\n",
       "\n",
       "    .dataframe tbody tr th {\n",
       "        vertical-align: top;\n",
       "    }\n",
       "\n",
       "    .dataframe thead th {\n",
       "        text-align: right;\n",
       "    }\n",
       "</style>\n",
       "<table border=\"1\" class=\"dataframe\">\n",
       "  <thead>\n",
       "    <tr style=\"text-align: right;\">\n",
       "      <th></th>\n",
       "      <th>month</th>\n",
       "      <th>year</th>\n",
       "      <th>production_budget</th>\n",
       "      <th>domestic_gross</th>\n",
       "      <th>worldwide_gross</th>\n",
       "      <th>domestic_gross_gr</th>\n",
       "      <th>year_gr</th>\n",
       "    </tr>\n",
       "    <tr>\n",
       "      <th>title</th>\n",
       "      <th></th>\n",
       "      <th></th>\n",
       "      <th></th>\n",
       "      <th></th>\n",
       "      <th></th>\n",
       "      <th></th>\n",
       "      <th></th>\n",
       "    </tr>\n",
       "  </thead>\n",
       "  <tbody>\n",
       "    <tr>\n",
       "      <td>#Horror</td>\n",
       "      <td>11</td>\n",
       "      <td>2015</td>\n",
       "      <td>1500000.0</td>\n",
       "      <td>0.0</td>\n",
       "      <td>0.0</td>\n",
       "      <td>NaN</td>\n",
       "      <td>NaN</td>\n",
       "    </tr>\n",
       "    <tr>\n",
       "      <td>(500) Days of Summer</td>\n",
       "      <td>7</td>\n",
       "      <td>2009</td>\n",
       "      <td>7500000.0</td>\n",
       "      <td>32425665.0</td>\n",
       "      <td>34439060.0</td>\n",
       "      <td>NaN</td>\n",
       "      <td>NaN</td>\n",
       "    </tr>\n",
       "    <tr>\n",
       "      <td>10 Cloverfield Lane</td>\n",
       "      <td>3</td>\n",
       "      <td>2016</td>\n",
       "      <td>5000000.0</td>\n",
       "      <td>72082999.0</td>\n",
       "      <td>108286422.0</td>\n",
       "      <td>72100000.0</td>\n",
       "      <td>2016.0</td>\n",
       "    </tr>\n",
       "    <tr>\n",
       "      <td>10 Days in a Madhouse</td>\n",
       "      <td>11</td>\n",
       "      <td>2015</td>\n",
       "      <td>12000000.0</td>\n",
       "      <td>14616.0</td>\n",
       "      <td>14616.0</td>\n",
       "      <td>NaN</td>\n",
       "      <td>NaN</td>\n",
       "    </tr>\n",
       "    <tr>\n",
       "      <td>10 Things I Hate About You</td>\n",
       "      <td>3</td>\n",
       "      <td>1999</td>\n",
       "      <td>13000000.0</td>\n",
       "      <td>38177966.0</td>\n",
       "      <td>60413950.0</td>\n",
       "      <td>NaN</td>\n",
       "      <td>NaN</td>\n",
       "    </tr>\n",
       "  </tbody>\n",
       "</table>\n",
       "</div>"
      ],
      "text/plain": [
       "                            month  year  production_budget  domestic_gross  \\\n",
       "title                                                                        \n",
       "#Horror                        11  2015          1500000.0             0.0   \n",
       "(500) Days of Summer            7  2009          7500000.0      32425665.0   \n",
       "10 Cloverfield Lane             3  2016          5000000.0      72082999.0   \n",
       "10 Days in a Madhouse          11  2015         12000000.0         14616.0   \n",
       "10 Things I Hate About You      3  1999         13000000.0      38177966.0   \n",
       "\n",
       "                            worldwide_gross  domestic_gross_gr  year_gr  \n",
       "title                                                                    \n",
       "#Horror                                 0.0                NaN      NaN  \n",
       "(500) Days of Summer             34439060.0                NaN      NaN  \n",
       "10 Cloverfield Lane             108286422.0         72100000.0   2016.0  \n",
       "10 Days in a Madhouse               14616.0                NaN      NaN  \n",
       "10 Things I Hate About You       60413950.0                NaN      NaN  "
      ]
     },
     "execution_count": 34,
     "metadata": {},
     "output_type": "execute_result"
    }
   ],
   "source": [
    "# Merging budgets with movie_gross\n",
    "# We want our merge the tables so that we add the titles together, thus\n",
    "# increasing our sample size.  We also only want as many titles as we can get!\n",
    "profit = budgets.set_index('title').join(df_movie_gross.set_index('title'),\n",
    "                                         rsuffix='_gr',\n",
    "                                                how='left')\n",
    "print(profit.shape)\n",
    "profit.head()"
   ]
  },
  {
   "cell_type": "code",
   "execution_count": 35,
   "metadata": {},
   "outputs": [],
   "source": [
    "# We already have a 'year' column and there is conflicting data in our \n",
    "# respective domestic_gross columns.  We should also reset the index.\n",
    "profit = profit.reset_index()"
   ]
  },
  {
   "cell_type": "code",
   "execution_count": 36,
   "metadata": {},
   "outputs": [
    {
     "data": {
      "text/plain": [
       "Index(['title', 'month', 'year', 'production_budget', 'domestic_gross',\n",
       "       'worldwide_gross', 'domestic_gross_gr'],\n",
       "      dtype='object')"
      ]
     },
     "execution_count": 36,
     "metadata": {},
     "output_type": "execute_result"
    }
   ],
   "source": [
    "profit = profit.drop('year_gr', axis=1)\n",
    "profit.columns"
   ]
  },
  {
   "cell_type": "code",
   "execution_count": 37,
   "metadata": {
    "scrolled": true
   },
   "outputs": [
    {
     "data": {
      "text/html": [
       "<div>\n",
       "<style scoped>\n",
       "    .dataframe tbody tr th:only-of-type {\n",
       "        vertical-align: middle;\n",
       "    }\n",
       "\n",
       "    .dataframe tbody tr th {\n",
       "        vertical-align: top;\n",
       "    }\n",
       "\n",
       "    .dataframe thead th {\n",
       "        text-align: right;\n",
       "    }\n",
       "</style>\n",
       "<table border=\"1\" class=\"dataframe\">\n",
       "  <thead>\n",
       "    <tr style=\"text-align: right;\">\n",
       "      <th></th>\n",
       "      <th>title</th>\n",
       "      <th>month</th>\n",
       "      <th>year</th>\n",
       "      <th>production_budget</th>\n",
       "      <th>domestic_gross</th>\n",
       "      <th>worldwide_gross</th>\n",
       "      <th>domestic_gross_gr</th>\n",
       "      <th>dom_gross</th>\n",
       "    </tr>\n",
       "  </thead>\n",
       "  <tbody>\n",
       "    <tr>\n",
       "      <td>0</td>\n",
       "      <td>#Horror</td>\n",
       "      <td>11</td>\n",
       "      <td>2015</td>\n",
       "      <td>1500000.0</td>\n",
       "      <td>0.0</td>\n",
       "      <td>0.0</td>\n",
       "      <td>NaN</td>\n",
       "      <td>NaN</td>\n",
       "    </tr>\n",
       "    <tr>\n",
       "      <td>1</td>\n",
       "      <td>(500) Days of Summer</td>\n",
       "      <td>7</td>\n",
       "      <td>2009</td>\n",
       "      <td>7500000.0</td>\n",
       "      <td>32425665.0</td>\n",
       "      <td>34439060.0</td>\n",
       "      <td>NaN</td>\n",
       "      <td>NaN</td>\n",
       "    </tr>\n",
       "    <tr>\n",
       "      <td>2</td>\n",
       "      <td>10 Cloverfield Lane</td>\n",
       "      <td>3</td>\n",
       "      <td>2016</td>\n",
       "      <td>5000000.0</td>\n",
       "      <td>72082999.0</td>\n",
       "      <td>108286422.0</td>\n",
       "      <td>72100000.0</td>\n",
       "      <td>72091499.5</td>\n",
       "    </tr>\n",
       "    <tr>\n",
       "      <td>3</td>\n",
       "      <td>10 Days in a Madhouse</td>\n",
       "      <td>11</td>\n",
       "      <td>2015</td>\n",
       "      <td>12000000.0</td>\n",
       "      <td>14616.0</td>\n",
       "      <td>14616.0</td>\n",
       "      <td>NaN</td>\n",
       "      <td>NaN</td>\n",
       "    </tr>\n",
       "    <tr>\n",
       "      <td>4</td>\n",
       "      <td>10 Things I Hate About You</td>\n",
       "      <td>3</td>\n",
       "      <td>1999</td>\n",
       "      <td>13000000.0</td>\n",
       "      <td>38177966.0</td>\n",
       "      <td>60413950.0</td>\n",
       "      <td>NaN</td>\n",
       "      <td>NaN</td>\n",
       "    </tr>\n",
       "  </tbody>\n",
       "</table>\n",
       "</div>"
      ],
      "text/plain": [
       "                        title  month  year  production_budget  domestic_gross  \\\n",
       "0                     #Horror     11  2015          1500000.0             0.0   \n",
       "1        (500) Days of Summer      7  2009          7500000.0      32425665.0   \n",
       "2         10 Cloverfield Lane      3  2016          5000000.0      72082999.0   \n",
       "3       10 Days in a Madhouse     11  2015         12000000.0         14616.0   \n",
       "4  10 Things I Hate About You      3  1999         13000000.0      38177966.0   \n",
       "\n",
       "   worldwide_gross  domestic_gross_gr   dom_gross  \n",
       "0              0.0                NaN         NaN  \n",
       "1       34439060.0                NaN         NaN  \n",
       "2      108286422.0         72100000.0  72091499.5  \n",
       "3          14616.0                NaN         NaN  \n",
       "4       60413950.0                NaN         NaN  "
      ]
     },
     "execution_count": 37,
     "metadata": {},
     "output_type": "execute_result"
    }
   ],
   "source": [
    "# To deal with the inconsistency between the domestic gross columns, we're\n",
    "# going to redefine the original domestic_gross so that is the average \n",
    "# between both columns\n",
    "profit['dom_gross'] = (profit['domestic_gross'] + \n",
    "                       profit['domestic_gross_gr'])/2\n",
    "profit.head()"
   ]
  },
  {
   "cell_type": "code",
   "execution_count": 38,
   "metadata": {
    "scrolled": true
   },
   "outputs": [
    {
     "data": {
      "text/plain": [
       "Index(['title', 'month', 'year', 'production_budget', 'worldwide_gross',\n",
       "       'dom_gross'],\n",
       "      dtype='object')"
      ]
     },
     "execution_count": 38,
     "metadata": {},
     "output_type": "execute_result"
    }
   ],
   "source": [
    "# Dropping old columns, and also dropping foreign_gross since \n",
    "# we don't need it \n",
    "profit = profit.drop(['domestic_gross','domestic_gross_gr'], axis=1)\n",
    "profit.columns"
   ]
  },
  {
   "cell_type": "code",
   "execution_count": 39,
   "metadata": {},
   "outputs": [],
   "source": [
    "#changing name of dom_gross\n",
    "profit = profit.rename(columns={'dom_gross' : 'domestic_gross'})"
   ]
  },
  {
   "cell_type": "code",
   "execution_count": 40,
   "metadata": {},
   "outputs": [
    {
     "data": {
      "text/plain": [
       "title                   0\n",
       "month                   0\n",
       "year                    0\n",
       "production_budget       0\n",
       "worldwide_gross         0\n",
       "domestic_gross       4535\n",
       "dtype: int64"
      ]
     },
     "execution_count": 40,
     "metadata": {},
     "output_type": "execute_result"
    }
   ],
   "source": [
    "# checking for NaNs caused from merge\n",
    "profit.isna().sum()"
   ]
  },
  {
   "cell_type": "code",
   "execution_count": 41,
   "metadata": {},
   "outputs": [
    {
     "data": {
      "text/plain": [
       "False"
      ]
     },
     "execution_count": 41,
     "metadata": {},
     "output_type": "execute_result"
    }
   ],
   "source": [
    "# No NaNs! Checking for duplicates.\n",
    "profit.duplicated().any()"
   ]
  },
  {
   "cell_type": "code",
   "execution_count": 42,
   "metadata": {
    "scrolled": true
   },
   "outputs": [
    {
     "data": {
      "text/html": [
       "<div>\n",
       "<style scoped>\n",
       "    .dataframe tbody tr th:only-of-type {\n",
       "        vertical-align: middle;\n",
       "    }\n",
       "\n",
       "    .dataframe tbody tr th {\n",
       "        vertical-align: top;\n",
       "    }\n",
       "\n",
       "    .dataframe thead th {\n",
       "        text-align: right;\n",
       "    }\n",
       "</style>\n",
       "<table border=\"1\" class=\"dataframe\">\n",
       "  <thead>\n",
       "    <tr style=\"text-align: right;\">\n",
       "      <th></th>\n",
       "      <th>title</th>\n",
       "      <th>month</th>\n",
       "      <th>year</th>\n",
       "      <th>production_budget</th>\n",
       "      <th>worldwide_gross</th>\n",
       "      <th>domestic_gross</th>\n",
       "      <th>net_prof</th>\n",
       "    </tr>\n",
       "  </thead>\n",
       "  <tbody>\n",
       "    <tr>\n",
       "      <td>0</td>\n",
       "      <td>#Horror</td>\n",
       "      <td>11</td>\n",
       "      <td>2015</td>\n",
       "      <td>1500000.0</td>\n",
       "      <td>0.0</td>\n",
       "      <td>NaN</td>\n",
       "      <td>-1500000.0</td>\n",
       "    </tr>\n",
       "    <tr>\n",
       "      <td>1</td>\n",
       "      <td>(500) Days of Summer</td>\n",
       "      <td>7</td>\n",
       "      <td>2009</td>\n",
       "      <td>7500000.0</td>\n",
       "      <td>34439060.0</td>\n",
       "      <td>NaN</td>\n",
       "      <td>26939060.0</td>\n",
       "    </tr>\n",
       "    <tr>\n",
       "      <td>2</td>\n",
       "      <td>10 Cloverfield Lane</td>\n",
       "      <td>3</td>\n",
       "      <td>2016</td>\n",
       "      <td>5000000.0</td>\n",
       "      <td>108286422.0</td>\n",
       "      <td>72091499.5</td>\n",
       "      <td>103286422.0</td>\n",
       "    </tr>\n",
       "    <tr>\n",
       "      <td>3</td>\n",
       "      <td>10 Days in a Madhouse</td>\n",
       "      <td>11</td>\n",
       "      <td>2015</td>\n",
       "      <td>12000000.0</td>\n",
       "      <td>14616.0</td>\n",
       "      <td>NaN</td>\n",
       "      <td>-11985384.0</td>\n",
       "    </tr>\n",
       "    <tr>\n",
       "      <td>4</td>\n",
       "      <td>10 Things I Hate About You</td>\n",
       "      <td>3</td>\n",
       "      <td>1999</td>\n",
       "      <td>13000000.0</td>\n",
       "      <td>60413950.0</td>\n",
       "      <td>NaN</td>\n",
       "      <td>47413950.0</td>\n",
       "    </tr>\n",
       "  </tbody>\n",
       "</table>\n",
       "</div>"
      ],
      "text/plain": [
       "                        title  month  year  production_budget  \\\n",
       "0                     #Horror     11  2015          1500000.0   \n",
       "1        (500) Days of Summer      7  2009          7500000.0   \n",
       "2         10 Cloverfield Lane      3  2016          5000000.0   \n",
       "3       10 Days in a Madhouse     11  2015         12000000.0   \n",
       "4  10 Things I Hate About You      3  1999         13000000.0   \n",
       "\n",
       "   worldwide_gross  domestic_gross     net_prof  \n",
       "0              0.0             NaN   -1500000.0  \n",
       "1       34439060.0             NaN   26939060.0  \n",
       "2      108286422.0      72091499.5  103286422.0  \n",
       "3          14616.0             NaN  -11985384.0  \n",
       "4       60413950.0             NaN   47413950.0  "
      ]
     },
     "execution_count": 42,
     "metadata": {},
     "output_type": "execute_result"
    }
   ],
   "source": [
    "# Now we're going to create a column that shows \n",
    "# the net profit of each movie\n",
    "profit['net_prof'] = profit['worldwide_gross'] - profit['production_budget']\n",
    "profit.head()"
   ]
  },
  {
   "cell_type": "code",
   "execution_count": 43,
   "metadata": {
    "scrolled": true
   },
   "outputs": [
    {
     "data": {
      "text/html": [
       "<div>\n",
       "<style scoped>\n",
       "    .dataframe tbody tr th:only-of-type {\n",
       "        vertical-align: middle;\n",
       "    }\n",
       "\n",
       "    .dataframe tbody tr th {\n",
       "        vertical-align: top;\n",
       "    }\n",
       "\n",
       "    .dataframe thead th {\n",
       "        text-align: right;\n",
       "    }\n",
       "</style>\n",
       "<table border=\"1\" class=\"dataframe\">\n",
       "  <thead>\n",
       "    <tr style=\"text-align: right;\">\n",
       "      <th></th>\n",
       "      <th>title</th>\n",
       "      <th>month</th>\n",
       "      <th>year</th>\n",
       "      <th>production_budget</th>\n",
       "      <th>worldwide_gross</th>\n",
       "      <th>domestic_gross</th>\n",
       "      <th>net_prof</th>\n",
       "      <th>net_margin_%</th>\n",
       "    </tr>\n",
       "  </thead>\n",
       "  <tbody>\n",
       "    <tr>\n",
       "      <td>0</td>\n",
       "      <td>#Horror</td>\n",
       "      <td>11</td>\n",
       "      <td>2015</td>\n",
       "      <td>1500000.0</td>\n",
       "      <td>0.0</td>\n",
       "      <td>NaN</td>\n",
       "      <td>-1500000.0</td>\n",
       "      <td>-inf</td>\n",
       "    </tr>\n",
       "    <tr>\n",
       "      <td>1</td>\n",
       "      <td>(500) Days of Summer</td>\n",
       "      <td>7</td>\n",
       "      <td>2009</td>\n",
       "      <td>7500000.0</td>\n",
       "      <td>34439060.0</td>\n",
       "      <td>NaN</td>\n",
       "      <td>26939060.0</td>\n",
       "      <td>78.22</td>\n",
       "    </tr>\n",
       "    <tr>\n",
       "      <td>2</td>\n",
       "      <td>10 Cloverfield Lane</td>\n",
       "      <td>3</td>\n",
       "      <td>2016</td>\n",
       "      <td>5000000.0</td>\n",
       "      <td>108286422.0</td>\n",
       "      <td>72091499.5</td>\n",
       "      <td>103286422.0</td>\n",
       "      <td>95.38</td>\n",
       "    </tr>\n",
       "    <tr>\n",
       "      <td>3</td>\n",
       "      <td>10 Days in a Madhouse</td>\n",
       "      <td>11</td>\n",
       "      <td>2015</td>\n",
       "      <td>12000000.0</td>\n",
       "      <td>14616.0</td>\n",
       "      <td>NaN</td>\n",
       "      <td>-11985384.0</td>\n",
       "      <td>-82001.81</td>\n",
       "    </tr>\n",
       "    <tr>\n",
       "      <td>4</td>\n",
       "      <td>10 Things I Hate About You</td>\n",
       "      <td>3</td>\n",
       "      <td>1999</td>\n",
       "      <td>13000000.0</td>\n",
       "      <td>60413950.0</td>\n",
       "      <td>NaN</td>\n",
       "      <td>47413950.0</td>\n",
       "      <td>78.48</td>\n",
       "    </tr>\n",
       "  </tbody>\n",
       "</table>\n",
       "</div>"
      ],
      "text/plain": [
       "                        title  month  year  production_budget  \\\n",
       "0                     #Horror     11  2015          1500000.0   \n",
       "1        (500) Days of Summer      7  2009          7500000.0   \n",
       "2         10 Cloverfield Lane      3  2016          5000000.0   \n",
       "3       10 Days in a Madhouse     11  2015         12000000.0   \n",
       "4  10 Things I Hate About You      3  1999         13000000.0   \n",
       "\n",
       "   worldwide_gross  domestic_gross     net_prof  net_margin_%  \n",
       "0              0.0             NaN   -1500000.0          -inf  \n",
       "1       34439060.0             NaN   26939060.0         78.22  \n",
       "2      108286422.0      72091499.5  103286422.0         95.38  \n",
       "3          14616.0             NaN  -11985384.0     -82001.81  \n",
       "4       60413950.0             NaN   47413950.0         78.48  "
      ]
     },
     "execution_count": 43,
     "metadata": {},
     "output_type": "execute_result"
    }
   ],
   "source": [
    "# To account for inflation, we're going to go ahead and make a column that \n",
    "# shows the net profit margin as a percentage\n",
    "profit['net_margin_%'] = round((profit['net_prof']/profit['worldwide_gross']\n",
    "                               )*100, 2)\n",
    "profit.head()"
   ]
  },
  {
   "cell_type": "code",
   "execution_count": 44,
   "metadata": {},
   "outputs": [],
   "source": [
    "# Since we want to focus on profits, lets limit our data set to \n",
    "# profit >= 0\n",
    "profit = profit[profit['net_prof'] >= 0]"
   ]
  },
  {
   "cell_type": "code",
   "execution_count": 45,
   "metadata": {},
   "outputs": [],
   "source": [
    "# Creating csv for teammates to use\n",
    "profit.to_csv('joined_gross_budget_cleaned.csv')"
   ]
  },
  {
   "cell_type": "markdown",
   "metadata": {},
   "source": [
    "## Filtering Relevant Data\n",
    "Now that our table is merged and our data is cleaned, let's start answering our question!"
   ]
  },
  {
   "cell_type": "code",
   "execution_count": 46,
   "metadata": {},
   "outputs": [],
   "source": [
    "# set table to variable\n",
    "df = profit"
   ]
  },
  {
   "cell_type": "code",
   "execution_count": 47,
   "metadata": {},
   "outputs": [
    {
     "data": {
      "text/html": [
       "<div>\n",
       "<style scoped>\n",
       "    .dataframe tbody tr th:only-of-type {\n",
       "        vertical-align: middle;\n",
       "    }\n",
       "\n",
       "    .dataframe tbody tr th {\n",
       "        vertical-align: top;\n",
       "    }\n",
       "\n",
       "    .dataframe thead th {\n",
       "        text-align: right;\n",
       "    }\n",
       "</style>\n",
       "<table border=\"1\" class=\"dataframe\">\n",
       "  <thead>\n",
       "    <tr style=\"text-align: right;\">\n",
       "      <th></th>\n",
       "      <th>title</th>\n",
       "      <th>month</th>\n",
       "      <th>year</th>\n",
       "      <th>production_budget</th>\n",
       "      <th>worldwide_gross</th>\n",
       "      <th>domestic_gross</th>\n",
       "      <th>net_prof</th>\n",
       "      <th>net_margin_%</th>\n",
       "    </tr>\n",
       "  </thead>\n",
       "  <tbody>\n",
       "    <tr>\n",
       "      <td>1</td>\n",
       "      <td>(500) Days of Summer</td>\n",
       "      <td>7</td>\n",
       "      <td>2009</td>\n",
       "      <td>7500000.0</td>\n",
       "      <td>34439060.0</td>\n",
       "      <td>NaN</td>\n",
       "      <td>26939060.0</td>\n",
       "      <td>78.22</td>\n",
       "    </tr>\n",
       "    <tr>\n",
       "      <td>2</td>\n",
       "      <td>10 Cloverfield Lane</td>\n",
       "      <td>3</td>\n",
       "      <td>2016</td>\n",
       "      <td>5000000.0</td>\n",
       "      <td>108286422.0</td>\n",
       "      <td>72091499.5</td>\n",
       "      <td>103286422.0</td>\n",
       "      <td>95.38</td>\n",
       "    </tr>\n",
       "    <tr>\n",
       "      <td>4</td>\n",
       "      <td>10 Things I Hate About You</td>\n",
       "      <td>3</td>\n",
       "      <td>1999</td>\n",
       "      <td>13000000.0</td>\n",
       "      <td>60413950.0</td>\n",
       "      <td>NaN</td>\n",
       "      <td>47413950.0</td>\n",
       "      <td>78.48</td>\n",
       "    </tr>\n",
       "    <tr>\n",
       "      <td>5</td>\n",
       "      <td>10,000 B.C.</td>\n",
       "      <td>3</td>\n",
       "      <td>2008</td>\n",
       "      <td>105000000.0</td>\n",
       "      <td>269065678.0</td>\n",
       "      <td>NaN</td>\n",
       "      <td>164065678.0</td>\n",
       "      <td>60.98</td>\n",
       "    </tr>\n",
       "    <tr>\n",
       "      <td>10</td>\n",
       "      <td>12 Monkeys</td>\n",
       "      <td>12</td>\n",
       "      <td>1995</td>\n",
       "      <td>29000000.0</td>\n",
       "      <td>168841459.0</td>\n",
       "      <td>NaN</td>\n",
       "      <td>139841459.0</td>\n",
       "      <td>82.82</td>\n",
       "    </tr>\n",
       "  </tbody>\n",
       "</table>\n",
       "</div>"
      ],
      "text/plain": [
       "                         title  month  year  production_budget  \\\n",
       "1         (500) Days of Summer      7  2009          7500000.0   \n",
       "2          10 Cloverfield Lane      3  2016          5000000.0   \n",
       "4   10 Things I Hate About You      3  1999         13000000.0   \n",
       "5                  10,000 B.C.      3  2008        105000000.0   \n",
       "10                  12 Monkeys     12  1995         29000000.0   \n",
       "\n",
       "    worldwide_gross  domestic_gross     net_prof  net_margin_%  \n",
       "1        34439060.0             NaN   26939060.0         78.22  \n",
       "2       108286422.0      72091499.5  103286422.0         95.38  \n",
       "4        60413950.0             NaN   47413950.0         78.48  \n",
       "5       269065678.0             NaN  164065678.0         60.98  \n",
       "10      168841459.0             NaN  139841459.0         82.82  "
      ]
     },
     "execution_count": 47,
     "metadata": {},
     "output_type": "execute_result"
    }
   ],
   "source": [
    "df.head() #checking the layout"
   ]
  },
  {
   "cell_type": "code",
   "execution_count": 48,
   "metadata": {},
   "outputs": [
    {
     "name": "stdout",
     "output_type": "stream",
     "text": [
      "<class 'pandas.core.frame.DataFrame'>\n",
      "Int64Index: 3657 entries, 1 to 5781\n",
      "Data columns (total 8 columns):\n",
      "title                3657 non-null object\n",
      "month                3657 non-null int64\n",
      "year                 3657 non-null object\n",
      "production_budget    3657 non-null float64\n",
      "worldwide_gross      3657 non-null float64\n",
      "domestic_gross       980 non-null float64\n",
      "net_prof             3657 non-null float64\n",
      "net_margin_%         3657 non-null float64\n",
      "dtypes: float64(5), int64(1), object(2)\n",
      "memory usage: 257.1+ KB\n"
     ]
    }
   ],
   "source": [
    "# checking for datatypes in table\n",
    "df.info()"
   ]
  },
  {
   "cell_type": "markdown",
   "metadata": {},
   "source": [
    "## Tidying up\n",
    "Everything looks great, but the column 'month' is a float.  While that isn't \n",
    "too much of a problem, I intend to use this column as my x-axis in my plots.  \n",
    "From a style point of view, I don't want decimals there, so I will be changing that to an integer format."
   ]
  },
  {
   "cell_type": "code",
   "execution_count": 49,
   "metadata": {},
   "outputs": [
    {
     "data": {
      "text/plain": [
       "dtype('int32')"
      ]
     },
     "execution_count": 49,
     "metadata": {},
     "output_type": "execute_result"
    }
   ],
   "source": [
    "# Change 'month' from float to int\n",
    "df['month'] = df['month'].astype(int)\n",
    "df['month'].dtype"
   ]
  },
  {
   "cell_type": "code",
   "execution_count": 50,
   "metadata": {},
   "outputs": [
    {
     "data": {
      "text/plain": [
       "dtype('int32')"
      ]
     },
     "execution_count": 50,
     "metadata": {},
     "output_type": "execute_result"
    }
   ],
   "source": [
    "# Changing 'year' from string to int\n",
    "df['year'] = df['year'].astype(int)\n",
    "df['year'].dtype"
   ]
  },
  {
   "cell_type": "markdown",
   "metadata": {},
   "source": [
    "Since our question is specific to the time of the year to release movies, we are going to sort our values by 'month'."
   ]
  },
  {
   "cell_type": "code",
   "execution_count": 51,
   "metadata": {},
   "outputs": [
    {
     "data": {
      "text/html": [
       "<div>\n",
       "<style scoped>\n",
       "    .dataframe tbody tr th:only-of-type {\n",
       "        vertical-align: middle;\n",
       "    }\n",
       "\n",
       "    .dataframe tbody tr th {\n",
       "        vertical-align: top;\n",
       "    }\n",
       "\n",
       "    .dataframe thead th {\n",
       "        text-align: right;\n",
       "    }\n",
       "</style>\n",
       "<table border=\"1\" class=\"dataframe\">\n",
       "  <thead>\n",
       "    <tr style=\"text-align: right;\">\n",
       "      <th></th>\n",
       "      <th>title</th>\n",
       "      <th>month</th>\n",
       "      <th>year</th>\n",
       "      <th>production_budget</th>\n",
       "      <th>worldwide_gross</th>\n",
       "      <th>domestic_gross</th>\n",
       "      <th>net_prof</th>\n",
       "      <th>net_margin_%</th>\n",
       "    </tr>\n",
       "  </thead>\n",
       "  <tbody>\n",
       "    <tr>\n",
       "      <td>1564</td>\n",
       "      <td>Fish Tank</td>\n",
       "      <td>1</td>\n",
       "      <td>2010</td>\n",
       "      <td>3000000.0</td>\n",
       "      <td>5922292.0</td>\n",
       "      <td>374837.5</td>\n",
       "      <td>2922292.0</td>\n",
       "      <td>49.34</td>\n",
       "    </tr>\n",
       "    <tr>\n",
       "      <td>519</td>\n",
       "      <td>Battle for the Planet of the Apes</td>\n",
       "      <td>1</td>\n",
       "      <td>1973</td>\n",
       "      <td>1800000.0</td>\n",
       "      <td>8800000.0</td>\n",
       "      <td>NaN</td>\n",
       "      <td>7000000.0</td>\n",
       "      <td>79.55</td>\n",
       "    </tr>\n",
       "    <tr>\n",
       "      <td>4306</td>\n",
       "      <td>The Boy Next Door</td>\n",
       "      <td>1</td>\n",
       "      <td>2015</td>\n",
       "      <td>4000000.0</td>\n",
       "      <td>53401938.0</td>\n",
       "      <td>35703032.5</td>\n",
       "      <td>49401938.0</td>\n",
       "      <td>92.51</td>\n",
       "    </tr>\n",
       "    <tr>\n",
       "      <td>4308</td>\n",
       "      <td>The Boys from Brazil</td>\n",
       "      <td>1</td>\n",
       "      <td>1978</td>\n",
       "      <td>12000000.0</td>\n",
       "      <td>19000000.0</td>\n",
       "      <td>NaN</td>\n",
       "      <td>7000000.0</td>\n",
       "      <td>36.84</td>\n",
       "    </tr>\n",
       "    <tr>\n",
       "      <td>4332</td>\n",
       "      <td>The Butterfly Effect</td>\n",
       "      <td>1</td>\n",
       "      <td>2004</td>\n",
       "      <td>13000000.0</td>\n",
       "      <td>95638592.0</td>\n",
       "      <td>NaN</td>\n",
       "      <td>82638592.0</td>\n",
       "      <td>86.41</td>\n",
       "    </tr>\n",
       "  </tbody>\n",
       "</table>\n",
       "</div>"
      ],
      "text/plain": [
       "                                  title  month  year  production_budget  \\\n",
       "1564                          Fish Tank      1  2010          3000000.0   \n",
       "519   Battle for the Planet of the Apes      1  1973          1800000.0   \n",
       "4306                  The Boy Next Door      1  2015          4000000.0   \n",
       "4308               The Boys from Brazil      1  1978         12000000.0   \n",
       "4332               The Butterfly Effect      1  2004         13000000.0   \n",
       "\n",
       "      worldwide_gross  domestic_gross    net_prof  net_margin_%  \n",
       "1564        5922292.0        374837.5   2922292.0         49.34  \n",
       "519         8800000.0             NaN   7000000.0         79.55  \n",
       "4306       53401938.0      35703032.5  49401938.0         92.51  \n",
       "4308       19000000.0             NaN   7000000.0         36.84  \n",
       "4332       95638592.0             NaN  82638592.0         86.41  "
      ]
     },
     "execution_count": 51,
     "metadata": {},
     "output_type": "execute_result"
    }
   ],
   "source": [
    "# Change order to month\n",
    "df = df.sort_values(by='month')\n",
    "df.head()"
   ]
  },
  {
   "cell_type": "markdown",
   "metadata": {},
   "source": [
    "### Subsetting our data\n",
    "\n",
    "Even though we are looking for a relationship between net profitability and the time of the year a movie is released, we're going to bring in 'production_budget' and 'net_margin%' just in case we need them later. "
   ]
  },
  {
   "cell_type": "code",
   "execution_count": 52,
   "metadata": {},
   "outputs": [
    {
     "data": {
      "text/html": [
       "<div>\n",
       "<style scoped>\n",
       "    .dataframe tbody tr th:only-of-type {\n",
       "        vertical-align: middle;\n",
       "    }\n",
       "\n",
       "    .dataframe tbody tr th {\n",
       "        vertical-align: top;\n",
       "    }\n",
       "\n",
       "    .dataframe thead th {\n",
       "        text-align: right;\n",
       "    }\n",
       "</style>\n",
       "<table border=\"1\" class=\"dataframe\">\n",
       "  <thead>\n",
       "    <tr style=\"text-align: right;\">\n",
       "      <th></th>\n",
       "      <th>month</th>\n",
       "      <th>production_budget</th>\n",
       "      <th>net_margin_%</th>\n",
       "      <th>net_prof</th>\n",
       "    </tr>\n",
       "  </thead>\n",
       "  <tbody>\n",
       "    <tr>\n",
       "      <td>1564</td>\n",
       "      <td>1</td>\n",
       "      <td>3000000.0</td>\n",
       "      <td>49.34</td>\n",
       "      <td>2922292.0</td>\n",
       "    </tr>\n",
       "    <tr>\n",
       "      <td>519</td>\n",
       "      <td>1</td>\n",
       "      <td>1800000.0</td>\n",
       "      <td>79.55</td>\n",
       "      <td>7000000.0</td>\n",
       "    </tr>\n",
       "    <tr>\n",
       "      <td>4306</td>\n",
       "      <td>1</td>\n",
       "      <td>4000000.0</td>\n",
       "      <td>92.51</td>\n",
       "      <td>49401938.0</td>\n",
       "    </tr>\n",
       "    <tr>\n",
       "      <td>4308</td>\n",
       "      <td>1</td>\n",
       "      <td>12000000.0</td>\n",
       "      <td>36.84</td>\n",
       "      <td>7000000.0</td>\n",
       "    </tr>\n",
       "    <tr>\n",
       "      <td>4332</td>\n",
       "      <td>1</td>\n",
       "      <td>13000000.0</td>\n",
       "      <td>86.41</td>\n",
       "      <td>82638592.0</td>\n",
       "    </tr>\n",
       "  </tbody>\n",
       "</table>\n",
       "</div>"
      ],
      "text/plain": [
       "      month  production_budget  net_margin_%    net_prof\n",
       "1564      1          3000000.0         49.34   2922292.0\n",
       "519       1          1800000.0         79.55   7000000.0\n",
       "4306      1          4000000.0         92.51  49401938.0\n",
       "4308      1         12000000.0         36.84   7000000.0\n",
       "4332      1         13000000.0         86.41  82638592.0"
      ]
     },
     "execution_count": 52,
     "metadata": {},
     "output_type": "execute_result"
    }
   ],
   "source": [
    "# separating the relevent values for profit margin\n",
    "margin = df[['month','production_budget', 'net_margin_%', 'net_prof']]\n",
    "margin.head()"
   ]
  },
  {
   "cell_type": "markdown",
   "metadata": {},
   "source": [
    "## Initial Plot\n",
    "Let's plot it out so we see what our initial findings are."
   ]
  },
  {
   "cell_type": "code",
   "execution_count": 53,
   "metadata": {},
   "outputs": [
    {
     "data": {
      "text/plain": [
       "[Text(0, 0.5, 'Net Profit in Millions'),\n",
       " Text(0.5, 0, 'Month'),\n",
       " Text(0.5, 1.0, 'Seasonal Profitability')]"
      ]
     },
     "execution_count": 53,
     "metadata": {},
     "output_type": "execute_result"
    },
    {
     "data": {
      "image/png": "[encoded data removed]",
      "text/plain": [
       "<Figure size 432x288 with 1 Axes>"
      ]
     },
     "metadata": {},
     "output_type": "display_data"
    }
   ],
   "source": [
    "sns.set_style('darkgrid')\n",
    "sns.set_context('talk')\n",
    "\n",
    "# net profit plot\n",
    "# using a lambda function to lower make our y-axis measured in millions \n",
    "\n",
    "sns.boxplot(x=margin['month'], y=margin['net_prof'].map(\n",
    "    lambda x: x/1000000)).set(xlabel='Month', ylabel='Net Profit in Millions',\n",
    "                                            title='Seasonal Profitability')"
   ]
  },
  {
   "cell_type": "markdown",
   "metadata": {},
   "source": [
    "### Adjusting Our Plot\n",
    "Time to filter out some outliers"
   ]
  },
  {
   "cell_type": "code",
   "execution_count": 54,
   "metadata": {},
   "outputs": [
    {
     "name": "stdout",
     "output_type": "stream",
     "text": [
      "99.94\n",
      "2351345279.0\n"
     ]
    }
   ],
   "source": [
    "#checking max of margin and max profit to determine y ranges\n",
    "print(margin['net_margin_%'].max())\n",
    "print(margin['net_prof'].max())\n"
   ]
  },
  {
   "cell_type": "code",
   "execution_count": 55,
   "metadata": {},
   "outputs": [],
   "source": [
    "# Eliminating outliers from 'net_prof'\n",
    "limit_prof = margin[margin['net_prof'] < 500000000] "
   ]
  },
  {
   "cell_type": "code",
   "execution_count": 56,
   "metadata": {},
   "outputs": [
    {
     "data": {
      "text/plain": [
       "[Text(0, 0.5, 'Net Profit in Millions'),\n",
       " Text(0.5, 0, 'Month'),\n",
       " Text(0.5, 1.0, 'Seasonal Profitability')]"
      ]
     },
     "execution_count": 56,
     "metadata": {},
     "output_type": "execute_result"
    },
    {
     "data": {
      "image/png": "[encoded data removed]",
      "text/plain": [
       "<Figure size 432x288 with 1 Axes>"
      ]
     },
     "metadata": {},
     "output_type": "display_data"
    }
   ],
   "source": [
    "sns.set_style('darkgrid')\n",
    "sns.set_context('talk')\n",
    "\n",
    "# re-plotting \n",
    "sns.boxplot(x=limit_prof['month'], y=limit_prof['net_prof'].map(\n",
    "                lambda x: x/1000000)).set(xlabel='Month', \n",
    "                                        ylabel='Net Profit in Millions',\n",
    "                                            title='Seasonal Profitability')"
   ]
  },
  {
   "cell_type": "markdown",
   "metadata": {},
   "source": [
    "## Conclusions:\n",
    "While there are still plenty of outliers we can see that the month of May has the greatest potential earnings, with June having a higher median profit."
   ]
  },
  {
   "cell_type": "markdown",
   "metadata": {},
   "source": [
    "## Recommendations:\n",
    "You're definitely going to want to jump in on the summer blockbusters to maximize your profits.  Any release after July would be an unwise move."
   ]
  },
  {
   "cell_type": "markdown",
   "metadata": {},
   "source": [
    "# How has budget increased over the years?\n",
    "\n",
    "Let's take a look at our original dataframe."
   ]
  },
  {
   "cell_type": "code",
   "execution_count": 57,
   "metadata": {},
   "outputs": [
    {
     "data": {
      "text/html": [
       "<div>\n",
       "<style scoped>\n",
       "    .dataframe tbody tr th:only-of-type {\n",
       "        vertical-align: middle;\n",
       "    }\n",
       "\n",
       "    .dataframe tbody tr th {\n",
       "        vertical-align: top;\n",
       "    }\n",
       "\n",
       "    .dataframe thead th {\n",
       "        text-align: right;\n",
       "    }\n",
       "</style>\n",
       "<table border=\"1\" class=\"dataframe\">\n",
       "  <thead>\n",
       "    <tr style=\"text-align: right;\">\n",
       "      <th></th>\n",
       "      <th>title</th>\n",
       "      <th>month</th>\n",
       "      <th>year</th>\n",
       "      <th>production_budget</th>\n",
       "      <th>worldwide_gross</th>\n",
       "      <th>domestic_gross</th>\n",
       "      <th>net_prof</th>\n",
       "      <th>net_margin_%</th>\n",
       "    </tr>\n",
       "  </thead>\n",
       "  <tbody>\n",
       "    <tr>\n",
       "      <td>1564</td>\n",
       "      <td>Fish Tank</td>\n",
       "      <td>1</td>\n",
       "      <td>2010</td>\n",
       "      <td>3000000.0</td>\n",
       "      <td>5922292.0</td>\n",
       "      <td>374837.5</td>\n",
       "      <td>2922292.0</td>\n",
       "      <td>49.34</td>\n",
       "    </tr>\n",
       "    <tr>\n",
       "      <td>519</td>\n",
       "      <td>Battle for the Planet of the Apes</td>\n",
       "      <td>1</td>\n",
       "      <td>1973</td>\n",
       "      <td>1800000.0</td>\n",
       "      <td>8800000.0</td>\n",
       "      <td>NaN</td>\n",
       "      <td>7000000.0</td>\n",
       "      <td>79.55</td>\n",
       "    </tr>\n",
       "    <tr>\n",
       "      <td>4306</td>\n",
       "      <td>The Boy Next Door</td>\n",
       "      <td>1</td>\n",
       "      <td>2015</td>\n",
       "      <td>4000000.0</td>\n",
       "      <td>53401938.0</td>\n",
       "      <td>35703032.5</td>\n",
       "      <td>49401938.0</td>\n",
       "      <td>92.51</td>\n",
       "    </tr>\n",
       "    <tr>\n",
       "      <td>4308</td>\n",
       "      <td>The Boys from Brazil</td>\n",
       "      <td>1</td>\n",
       "      <td>1978</td>\n",
       "      <td>12000000.0</td>\n",
       "      <td>19000000.0</td>\n",
       "      <td>NaN</td>\n",
       "      <td>7000000.0</td>\n",
       "      <td>36.84</td>\n",
       "    </tr>\n",
       "    <tr>\n",
       "      <td>4332</td>\n",
       "      <td>The Butterfly Effect</td>\n",
       "      <td>1</td>\n",
       "      <td>2004</td>\n",
       "      <td>13000000.0</td>\n",
       "      <td>95638592.0</td>\n",
       "      <td>NaN</td>\n",
       "      <td>82638592.0</td>\n",
       "      <td>86.41</td>\n",
       "    </tr>\n",
       "  </tbody>\n",
       "</table>\n",
       "</div>"
      ],
      "text/plain": [
       "                                  title  month  year  production_budget  \\\n",
       "1564                          Fish Tank      1  2010          3000000.0   \n",
       "519   Battle for the Planet of the Apes      1  1973          1800000.0   \n",
       "4306                  The Boy Next Door      1  2015          4000000.0   \n",
       "4308               The Boys from Brazil      1  1978         12000000.0   \n",
       "4332               The Butterfly Effect      1  2004         13000000.0   \n",
       "\n",
       "      worldwide_gross  domestic_gross    net_prof  net_margin_%  \n",
       "1564        5922292.0        374837.5   2922292.0         49.34  \n",
       "519         8800000.0             NaN   7000000.0         79.55  \n",
       "4306       53401938.0      35703032.5  49401938.0         92.51  \n",
       "4308       19000000.0             NaN   7000000.0         36.84  \n",
       "4332       95638592.0             NaN  82638592.0         86.41  "
      ]
     },
     "execution_count": 57,
     "metadata": {},
     "output_type": "execute_result"
    }
   ],
   "source": [
    "df.head()"
   ]
  },
  {
   "cell_type": "markdown",
   "metadata": {},
   "source": [
    "## Tidying up\n",
    "How many decades are covered in our sample size?"
   ]
  },
  {
   "cell_type": "code",
   "execution_count": 58,
   "metadata": {},
   "outputs": [
    {
     "data": {
      "text/plain": [
       "2006    175\n",
       "2010    170\n",
       "2008    162\n",
       "2011    161\n",
       "2012    151\n",
       "       ... \n",
       "1935      1\n",
       "1937      1\n",
       "1947      1\n",
       "1955      1\n",
       "1916      1\n",
       "Name: year, Length: 92, dtype: int64"
      ]
     },
     "execution_count": 58,
     "metadata": {},
     "output_type": "execute_result"
    }
   ],
   "source": [
    "df['year'].value_counts()"
   ]
  },
  {
   "cell_type": "markdown",
   "metadata": {},
   "source": [
    "Our samples go back over 100 years!  Since we don't want to account for inflation and changes in cultural entertainment, we'll only include the last 30 years."
   ]
  },
  {
   "cell_type": "code",
   "execution_count": 59,
   "metadata": {},
   "outputs": [
    {
     "data": {
      "text/plain": [
       "(3207, 8)"
      ]
     },
     "execution_count": 59,
     "metadata": {},
     "output_type": "execute_result"
    }
   ],
   "source": [
    "#filtering out dates prior to 1990\n",
    "budget_years = df[df['year'] >= 1990]\n",
    "budget_years.shape"
   ]
  },
  {
   "cell_type": "markdown",
   "metadata": {},
   "source": [
    "## Plotting"
   ]
  },
  {
   "cell_type": "code",
   "execution_count": 60,
   "metadata": {},
   "outputs": [
    {
     "data": {
      "image/png": "[encoded data removed]",
      "text/plain": [
       "<Figure size 432x288 with 1 Axes>"
      ]
     },
     "metadata": {},
     "output_type": "display_data"
    }
   ],
   "source": [
    "# plotting graph\n",
    "plt.scatter(budget_years['year'], budget_years['production_budget'].map(\n",
    "            lambda x: x/1000000), label=\n",
    "            'Change over the years')\n",
    "#adding labels\n",
    "plt.xlabel('Year'), plt.ylabel('Budget in Millions')\n",
    "plt.title('Budget Changes in Last 30 years')\n",
    "\n",
    "plt.show()"
   ]
  },
  {
   "cell_type": "code",
   "execution_count": 61,
   "metadata": {},
   "outputs": [
    {
     "data": {
      "image/png": "[encoded data removed]",
      "text/plain": [
       "<Figure size 432x288 with 1 Axes>"
      ]
     },
     "metadata": {},
     "output_type": "display_data"
    }
   ],
   "source": [
    "# creating plot and converting y-axis to be values of millions \n",
    "# Because our sample size is over 3,000, we're going to use the estimator \n",
    "# parameter to make sure that the plot function to bring back \n",
    "# median budget.\n",
    "sns.set_style('darkgrid')\n",
    "sns.set_context('talk')\n",
    "ax = sns.lineplot(x=budget_years['year'], y=budget_years[\n",
    "    'production_budget'].map(lambda x: x/1000000), data = budget_years, \n",
    "                  estimator=np.median).set(\n",
    "                        xlabel='Year', ylabel='Median Budget in Millions',\n",
    "                        title='Budget Changes in the Last 30 Years')\n",
    "                 "
   ]
  },
  {
   "cell_type": "markdown",
   "metadata": {},
   "source": [
    "## Conclusions:\n",
    "We see that there was a drop in the early 90's, followed by a large spike, most likely as a result of the strong economy and the cost of practical effects.  The sudden drop in budget could probably be attributed to the decrease in practical effects and increase in use of computer generated graphics (the era of The Matrix was just on the horizon). Despite all of this, we can still see a steady increase in the median production budget over the last 30 years.\n",
    "The cost of spectacle!"
   ]
  },
  {
   "cell_type": "markdown",
   "metadata": {},
   "source": [
    "## Recommendations:\n",
    "These budgets seem to coincide with a few variables, the strongest variable being that of the economy. As you venture into the film industry, keep in mind that the cost of making movies will steadily increase and so will your chances of diminishing returns."
   ]
  },
  {
   "cell_type": "markdown",
   "metadata": {},
   "source": [
    "# What is the Highest Grossing Genre?"
   ]
  },
  {
   "cell_type": "markdown",
   "metadata": {},
   "source": [
    "## Import all of the relevant data"
   ]
  },
  {
   "cell_type": "code",
   "execution_count": 62,
   "metadata": {},
   "outputs": [],
   "source": [
    "df_movies = pd.read_csv('dataframe_id_tmdb_movies_gz.csv')"
   ]
  },
  {
   "cell_type": "code",
   "execution_count": 63,
   "metadata": {},
   "outputs": [
    {
     "data": {
      "text/html": [
       "<div>\n",
       "<style scoped>\n",
       "    .dataframe tbody tr th:only-of-type {\n",
       "        vertical-align: middle;\n",
       "    }\n",
       "\n",
       "    .dataframe tbody tr th {\n",
       "        vertical-align: top;\n",
       "    }\n",
       "\n",
       "    .dataframe thead th {\n",
       "        text-align: right;\n",
       "    }\n",
       "</style>\n",
       "<table border=\"1\" class=\"dataframe\">\n",
       "  <thead>\n",
       "    <tr style=\"text-align: right;\">\n",
       "      <th></th>\n",
       "      <th>Unnamed: 0</th>\n",
       "      <th>genre_ids</th>\n",
       "      <th>id</th>\n",
       "      <th>original_language</th>\n",
       "      <th>original_title</th>\n",
       "      <th>popularity</th>\n",
       "      <th>release_date</th>\n",
       "      <th>title</th>\n",
       "      <th>vote_average</th>\n",
       "      <th>vote_count</th>\n",
       "    </tr>\n",
       "  </thead>\n",
       "  <tbody>\n",
       "    <tr>\n",
       "      <td>0</td>\n",
       "      <td>0</td>\n",
       "      <td>[12, 14, 10751]</td>\n",
       "      <td>12444</td>\n",
       "      <td>en</td>\n",
       "      <td>Harry Potter and the Deathly Hallows: Part 1</td>\n",
       "      <td>33.533</td>\n",
       "      <td>2010-11-19</td>\n",
       "      <td>Harry Potter and the Deathly Hallows: Part 1</td>\n",
       "      <td>7.7</td>\n",
       "      <td>10788</td>\n",
       "    </tr>\n",
       "    <tr>\n",
       "      <td>1</td>\n",
       "      <td>1</td>\n",
       "      <td>[14, 12, 16, 10751]</td>\n",
       "      <td>10191</td>\n",
       "      <td>en</td>\n",
       "      <td>How to Train Your Dragon</td>\n",
       "      <td>28.734</td>\n",
       "      <td>2010-03-26</td>\n",
       "      <td>How to Train Your Dragon</td>\n",
       "      <td>7.7</td>\n",
       "      <td>7610</td>\n",
       "    </tr>\n",
       "    <tr>\n",
       "      <td>2</td>\n",
       "      <td>2</td>\n",
       "      <td>[12, 28, 878]</td>\n",
       "      <td>10138</td>\n",
       "      <td>en</td>\n",
       "      <td>Iron Man 2</td>\n",
       "      <td>28.515</td>\n",
       "      <td>2010-05-07</td>\n",
       "      <td>Iron Man 2</td>\n",
       "      <td>6.8</td>\n",
       "      <td>12368</td>\n",
       "    </tr>\n",
       "    <tr>\n",
       "      <td>3</td>\n",
       "      <td>3</td>\n",
       "      <td>[16, 35, 10751]</td>\n",
       "      <td>862</td>\n",
       "      <td>en</td>\n",
       "      <td>Toy Story</td>\n",
       "      <td>28.005</td>\n",
       "      <td>1995-11-22</td>\n",
       "      <td>Toy Story</td>\n",
       "      <td>7.9</td>\n",
       "      <td>10174</td>\n",
       "    </tr>\n",
       "    <tr>\n",
       "      <td>4</td>\n",
       "      <td>4</td>\n",
       "      <td>[28, 878, 12]</td>\n",
       "      <td>27205</td>\n",
       "      <td>en</td>\n",
       "      <td>Inception</td>\n",
       "      <td>27.920</td>\n",
       "      <td>2010-07-16</td>\n",
       "      <td>Inception</td>\n",
       "      <td>8.3</td>\n",
       "      <td>22186</td>\n",
       "    </tr>\n",
       "  </tbody>\n",
       "</table>\n",
       "</div>"
      ],
      "text/plain": [
       "   Unnamed: 0            genre_ids     id original_language  \\\n",
       "0           0      [12, 14, 10751]  12444                en   \n",
       "1           1  [14, 12, 16, 10751]  10191                en   \n",
       "2           2        [12, 28, 878]  10138                en   \n",
       "3           3      [16, 35, 10751]    862                en   \n",
       "4           4        [28, 878, 12]  27205                en   \n",
       "\n",
       "                                 original_title  popularity release_date  \\\n",
       "0  Harry Potter and the Deathly Hallows: Part 1      33.533   2010-11-19   \n",
       "1                      How to Train Your Dragon      28.734   2010-03-26   \n",
       "2                                    Iron Man 2      28.515   2010-05-07   \n",
       "3                                     Toy Story      28.005   1995-11-22   \n",
       "4                                     Inception      27.920   2010-07-16   \n",
       "\n",
       "                                          title  vote_average  vote_count  \n",
       "0  Harry Potter and the Deathly Hallows: Part 1           7.7       10788  \n",
       "1                      How to Train Your Dragon           7.7        7610  \n",
       "2                                    Iron Man 2           6.8       12368  \n",
       "3                                     Toy Story           7.9       10174  \n",
       "4                                     Inception           8.3       22186  "
      ]
     },
     "execution_count": 63,
     "metadata": {},
     "output_type": "execute_result"
    }
   ],
   "source": [
    "df_movies.head()\n",
    "#print(df_movies.info())\n",
    "#print(df_movies.shape)"
   ]
  },
  {
   "cell_type": "code",
   "execution_count": 64,
   "metadata": {},
   "outputs": [
    {
     "data": {
      "text/plain": [
       "'[12, 14, 10751]'"
      ]
     },
     "execution_count": 64,
     "metadata": {},
     "output_type": "execute_result"
    }
   ],
   "source": [
    "df_movies['genre_ids'][0] #need to clean this up #.apply to run a function on all rows of a dataframe #convert genre ids to a list of numbers\n",
    "#then convert numbers into list of genres"
   ]
  },
  {
   "cell_type": "code",
   "execution_count": 65,
   "metadata": {},
   "outputs": [
    {
     "data": {
      "text/plain": [
       "['12', '14', '10751']"
      ]
     },
     "execution_count": 65,
     "metadata": {},
     "output_type": "execute_result"
    }
   ],
   "source": [
    "#turn string into a list #will slice this to remove the brackets, start at index 1 and stopping at -1 takes away first and last \n",
    "#characters\n",
    "'[12, 14, 10751]'[1:-1].split(', ')"
   ]
  },
  {
   "cell_type": "code",
   "execution_count": 66,
   "metadata": {},
   "outputs": [
    {
     "data": {
      "text/plain": [
       "[12, 14, 10751]"
      ]
     },
     "execution_count": 66,
     "metadata": {},
     "output_type": "execute_result"
    }
   ],
   "source": [
    "#want to remove commas and spaces. just want list of numbers, \n",
    "#not string elements #added .split to end of line once\n",
    "#we have ints then function to map to genre name\n",
    "#list comprehension to turn to int\n",
    "[int(i) for i in ['12', '14', '10751']] #named this list_of_strings"
   ]
  },
  {
   "cell_type": "code",
   "execution_count": 67,
   "metadata": {},
   "outputs": [],
   "source": [
    "#define function to do all above steps in df to apply to every row def \n",
    "# function(row):\n",
    "#def genre_ids(row):\n",
    "    #list_of_strings = row['genre_ids'][1:-1].split(', ')\n",
    "    #return [int(i) for i in list_of_strings]\n",
    "#this function is what caused the error below"
   ]
  },
  {
   "cell_type": "code",
   "execution_count": 68,
   "metadata": {},
   "outputs": [],
   "source": [
    "#apply here\n",
    "#reassign all values in column to the correct format \n",
    "#this is how we change values in df "
   ]
  },
  {
   "cell_type": "code",
   "execution_count": 69,
   "metadata": {},
   "outputs": [],
   "source": [
    "#now we have to account for row 517 and put that in function by an if in list\n",
    "# comprehension\n",
    "def genre_ids(row):\n",
    "    list_of_strings = row['genre_ids'][1:-1].split(', ')\n",
    "    return [int(i) if i != \"\" else None for i in list_of_strings]"
   ]
  },
  {
   "cell_type": "code",
   "execution_count": 70,
   "metadata": {},
   "outputs": [],
   "source": [
    "df_movies['genre_ids'] = df_movies.apply(lambda row: genre_ids(row), axis = 1)"
   ]
  },
  {
   "cell_type": "code",
   "execution_count": 71,
   "metadata": {},
   "outputs": [
    {
     "data": {
      "text/plain": [
       "0        [12, 14, 10751]\n",
       "1    [14, 12, 16, 10751]\n",
       "2          [12, 28, 878]\n",
       "3        [16, 35, 10751]\n",
       "4          [28, 878, 12]\n",
       "Name: genre_ids, dtype: object"
      ]
     },
     "execution_count": 71,
     "metadata": {},
     "output_type": "execute_result"
    }
   ],
   "source": [
    "df_movies['genre_ids'].head()"
   ]
  },
  {
   "cell_type": "code",
   "execution_count": 72,
   "metadata": {},
   "outputs": [
    {
     "data": {
      "text/plain": [
       "0            [12, 14, 10751]\n",
       "1        [14, 12, 16, 10751]\n",
       "2              [12, 28, 878]\n",
       "3            [16, 35, 10751]\n",
       "4              [28, 878, 12]\n",
       "                ...         \n",
       "26512               [27, 18]\n",
       "26513               [18, 53]\n",
       "26514           [14, 28, 12]\n",
       "26515        [10751, 12, 28]\n",
       "26516               [53, 27]\n",
       "Name: genre_ids, Length: 26517, dtype: object"
      ]
     },
     "execution_count": 72,
     "metadata": {},
     "output_type": "execute_result"
    }
   ],
   "source": [
    "df_movies['genre_ids'] #calling this column"
   ]
  },
  {
   "cell_type": "code",
   "execution_count": 74,
   "metadata": {},
   "outputs": [
    {
     "data": {
      "text/plain": [
       "list"
      ]
     },
     "execution_count": 74,
     "metadata": {},
     "output_type": "execute_result"
    }
   ],
   "source": [
    "type(df_movies['genre_ids'][0])"
   ]
  },
  {
   "cell_type": "code",
   "execution_count": 75,
   "metadata": {},
   "outputs": [],
   "source": [
    "def genre_names(row):\n",
    "    ints = row['genre_ids'] # getting the list of integers\n",
    "    genre_dicts = list(filter(lambda x: x['id'] in ints, genremap)) # filtering out that list for the relevant genres\n",
    "    return [g['name'] for g in genre_dicts] # cleaning out"
   ]
  },
  {
   "cell_type": "code",
   "execution_count": 77,
   "metadata": {},
   "outputs": [],
   "source": [
    "#create a function to map (json thing) and then do .apply\n",
    "genremap = [{\"id\": 28, \"name\": \"Action\"}, {\"id\": 12, \"name\": \"Adventure\"}, \n",
    "            {\"id\": 16, \"name\": \"Animation\"}, {\"id\": 35, \"name\": \"Comedy\"}, \n",
    "            {\"id\": 80, \"name\": \"Crime\"}, {\"id\": 99, \"name\": \"Documentary\"}, \n",
    "            {\"id\": 18, \"name\": \"Drama\"}, {\"id\": 10751, \"name\": \"Family\"}, \n",
    "            {\"id\": 14, \"name\": \"Fantasy\"}, {\"id\": 36, \"name\": \"History\"}, \n",
    "            {\"id\": 27, \"name\": \"Horror\"}, {\"id\": 10402, \"name\": \"Music\"}, \n",
    "            {\"id\": 9648, \"name\": \"Mystery\"}, {\"id\": 10749, \"name\": \"Romance\"}, \n",
    "            {\"id\": 878, \"name\": \"Science Fiction\"}, \n",
    "            {\"id\": 10770, \"name\": \"TV Movie\"}, {\"id\": 53, \"name\": \"Thriller\"}, \n",
    "            {\"id\": 10752, \"name\": \"War\"}, {\"id\": 37, \"name\": \"Western\"}]"
   ]
  },
  {
   "cell_type": "code",
   "execution_count": 78,
   "metadata": {},
   "outputs": [],
   "source": [
    "#need to map or apply into dataframe \n",
    "df_movies['genre_names'] = df_movies.apply(lambda row : genre_names(row),\n",
    "                                              axis=1)"
   ]
  },
  {
   "cell_type": "code",
   "execution_count": 79,
   "metadata": {},
   "outputs": [
    {
     "data": {
      "text/html": [
       "<div>\n",
       "<style scoped>\n",
       "    .dataframe tbody tr th:only-of-type {\n",
       "        vertical-align: middle;\n",
       "    }\n",
       "\n",
       "    .dataframe tbody tr th {\n",
       "        vertical-align: top;\n",
       "    }\n",
       "\n",
       "    .dataframe thead th {\n",
       "        text-align: right;\n",
       "    }\n",
       "</style>\n",
       "<table border=\"1\" class=\"dataframe\">\n",
       "  <thead>\n",
       "    <tr style=\"text-align: right;\">\n",
       "      <th></th>\n",
       "      <th>Unnamed: 0</th>\n",
       "      <th>genre_ids</th>\n",
       "      <th>id</th>\n",
       "      <th>original_language</th>\n",
       "      <th>original_title</th>\n",
       "      <th>popularity</th>\n",
       "      <th>release_date</th>\n",
       "      <th>title</th>\n",
       "      <th>vote_average</th>\n",
       "      <th>vote_count</th>\n",
       "      <th>genre_names</th>\n",
       "    </tr>\n",
       "  </thead>\n",
       "  <tbody>\n",
       "    <tr>\n",
       "      <td>0</td>\n",
       "      <td>0</td>\n",
       "      <td>[12, 14, 10751]</td>\n",
       "      <td>12444</td>\n",
       "      <td>en</td>\n",
       "      <td>Harry Potter and the Deathly Hallows: Part 1</td>\n",
       "      <td>33.533</td>\n",
       "      <td>2010-11-19</td>\n",
       "      <td>Harry Potter and the Deathly Hallows: Part 1</td>\n",
       "      <td>7.7</td>\n",
       "      <td>10788</td>\n",
       "      <td>[Adventure, Family, Fantasy]</td>\n",
       "    </tr>\n",
       "    <tr>\n",
       "      <td>1</td>\n",
       "      <td>1</td>\n",
       "      <td>[14, 12, 16, 10751]</td>\n",
       "      <td>10191</td>\n",
       "      <td>en</td>\n",
       "      <td>How to Train Your Dragon</td>\n",
       "      <td>28.734</td>\n",
       "      <td>2010-03-26</td>\n",
       "      <td>How to Train Your Dragon</td>\n",
       "      <td>7.7</td>\n",
       "      <td>7610</td>\n",
       "      <td>[Adventure, Animation, Family, Fantasy]</td>\n",
       "    </tr>\n",
       "    <tr>\n",
       "      <td>2</td>\n",
       "      <td>2</td>\n",
       "      <td>[12, 28, 878]</td>\n",
       "      <td>10138</td>\n",
       "      <td>en</td>\n",
       "      <td>Iron Man 2</td>\n",
       "      <td>28.515</td>\n",
       "      <td>2010-05-07</td>\n",
       "      <td>Iron Man 2</td>\n",
       "      <td>6.8</td>\n",
       "      <td>12368</td>\n",
       "      <td>[Action, Adventure, Science Fiction]</td>\n",
       "    </tr>\n",
       "    <tr>\n",
       "      <td>3</td>\n",
       "      <td>3</td>\n",
       "      <td>[16, 35, 10751]</td>\n",
       "      <td>862</td>\n",
       "      <td>en</td>\n",
       "      <td>Toy Story</td>\n",
       "      <td>28.005</td>\n",
       "      <td>1995-11-22</td>\n",
       "      <td>Toy Story</td>\n",
       "      <td>7.9</td>\n",
       "      <td>10174</td>\n",
       "      <td>[Animation, Comedy, Family]</td>\n",
       "    </tr>\n",
       "    <tr>\n",
       "      <td>4</td>\n",
       "      <td>4</td>\n",
       "      <td>[28, 878, 12]</td>\n",
       "      <td>27205</td>\n",
       "      <td>en</td>\n",
       "      <td>Inception</td>\n",
       "      <td>27.920</td>\n",
       "      <td>2010-07-16</td>\n",
       "      <td>Inception</td>\n",
       "      <td>8.3</td>\n",
       "      <td>22186</td>\n",
       "      <td>[Action, Adventure, Science Fiction]</td>\n",
       "    </tr>\n",
       "    <tr>\n",
       "      <td>...</td>\n",
       "      <td>...</td>\n",
       "      <td>...</td>\n",
       "      <td>...</td>\n",
       "      <td>...</td>\n",
       "      <td>...</td>\n",
       "      <td>...</td>\n",
       "      <td>...</td>\n",
       "      <td>...</td>\n",
       "      <td>...</td>\n",
       "      <td>...</td>\n",
       "      <td>...</td>\n",
       "    </tr>\n",
       "    <tr>\n",
       "      <td>26512</td>\n",
       "      <td>26512</td>\n",
       "      <td>[27, 18]</td>\n",
       "      <td>488143</td>\n",
       "      <td>en</td>\n",
       "      <td>Laboratory Conditions</td>\n",
       "      <td>0.600</td>\n",
       "      <td>2018-10-13</td>\n",
       "      <td>Laboratory Conditions</td>\n",
       "      <td>0.0</td>\n",
       "      <td>1</td>\n",
       "      <td>[Drama, Horror]</td>\n",
       "    </tr>\n",
       "    <tr>\n",
       "      <td>26513</td>\n",
       "      <td>26513</td>\n",
       "      <td>[18, 53]</td>\n",
       "      <td>485975</td>\n",
       "      <td>en</td>\n",
       "      <td>_EXHIBIT_84xxx_</td>\n",
       "      <td>0.600</td>\n",
       "      <td>2018-05-01</td>\n",
       "      <td>_EXHIBIT_84xxx_</td>\n",
       "      <td>0.0</td>\n",
       "      <td>1</td>\n",
       "      <td>[Drama, Thriller]</td>\n",
       "    </tr>\n",
       "    <tr>\n",
       "      <td>26514</td>\n",
       "      <td>26514</td>\n",
       "      <td>[14, 28, 12]</td>\n",
       "      <td>381231</td>\n",
       "      <td>en</td>\n",
       "      <td>The Last One</td>\n",
       "      <td>0.600</td>\n",
       "      <td>2018-10-01</td>\n",
       "      <td>The Last One</td>\n",
       "      <td>0.0</td>\n",
       "      <td>1</td>\n",
       "      <td>[Action, Adventure, Fantasy]</td>\n",
       "    </tr>\n",
       "    <tr>\n",
       "      <td>26515</td>\n",
       "      <td>26515</td>\n",
       "      <td>[10751, 12, 28]</td>\n",
       "      <td>366854</td>\n",
       "      <td>en</td>\n",
       "      <td>Trailer Made</td>\n",
       "      <td>0.600</td>\n",
       "      <td>2018-06-22</td>\n",
       "      <td>Trailer Made</td>\n",
       "      <td>0.0</td>\n",
       "      <td>1</td>\n",
       "      <td>[Action, Adventure, Family]</td>\n",
       "    </tr>\n",
       "    <tr>\n",
       "      <td>26516</td>\n",
       "      <td>26516</td>\n",
       "      <td>[53, 27]</td>\n",
       "      <td>309885</td>\n",
       "      <td>en</td>\n",
       "      <td>The Church</td>\n",
       "      <td>0.600</td>\n",
       "      <td>2018-10-05</td>\n",
       "      <td>The Church</td>\n",
       "      <td>0.0</td>\n",
       "      <td>1</td>\n",
       "      <td>[Horror, Thriller]</td>\n",
       "    </tr>\n",
       "  </tbody>\n",
       "</table>\n",
       "<p>26517 rows × 11 columns</p>\n",
       "</div>"
      ],
      "text/plain": [
       "       Unnamed: 0            genre_ids      id original_language  \\\n",
       "0               0      [12, 14, 10751]   12444                en   \n",
       "1               1  [14, 12, 16, 10751]   10191                en   \n",
       "2               2        [12, 28, 878]   10138                en   \n",
       "3               3      [16, 35, 10751]     862                en   \n",
       "4               4        [28, 878, 12]   27205                en   \n",
       "...           ...                  ...     ...               ...   \n",
       "26512       26512             [27, 18]  488143                en   \n",
       "26513       26513             [18, 53]  485975                en   \n",
       "26514       26514         [14, 28, 12]  381231                en   \n",
       "26515       26515      [10751, 12, 28]  366854                en   \n",
       "26516       26516             [53, 27]  309885                en   \n",
       "\n",
       "                                     original_title  popularity release_date  \\\n",
       "0      Harry Potter and the Deathly Hallows: Part 1      33.533   2010-11-19   \n",
       "1                          How to Train Your Dragon      28.734   2010-03-26   \n",
       "2                                        Iron Man 2      28.515   2010-05-07   \n",
       "3                                         Toy Story      28.005   1995-11-22   \n",
       "4                                         Inception      27.920   2010-07-16   \n",
       "...                                             ...         ...          ...   \n",
       "26512                         Laboratory Conditions       0.600   2018-10-13   \n",
       "26513                               _EXHIBIT_84xxx_       0.600   2018-05-01   \n",
       "26514                                  The Last One       0.600   2018-10-01   \n",
       "26515                                  Trailer Made       0.600   2018-06-22   \n",
       "26516                                    The Church       0.600   2018-10-05   \n",
       "\n",
       "                                              title  vote_average  vote_count  \\\n",
       "0      Harry Potter and the Deathly Hallows: Part 1           7.7       10788   \n",
       "1                          How to Train Your Dragon           7.7        7610   \n",
       "2                                        Iron Man 2           6.8       12368   \n",
       "3                                         Toy Story           7.9       10174   \n",
       "4                                         Inception           8.3       22186   \n",
       "...                                             ...           ...         ...   \n",
       "26512                         Laboratory Conditions           0.0           1   \n",
       "26513                               _EXHIBIT_84xxx_           0.0           1   \n",
       "26514                                  The Last One           0.0           1   \n",
       "26515                                  Trailer Made           0.0           1   \n",
       "26516                                    The Church           0.0           1   \n",
       "\n",
       "                                   genre_names  \n",
       "0                 [Adventure, Family, Fantasy]  \n",
       "1      [Adventure, Animation, Family, Fantasy]  \n",
       "2         [Action, Adventure, Science Fiction]  \n",
       "3                  [Animation, Comedy, Family]  \n",
       "4         [Action, Adventure, Science Fiction]  \n",
       "...                                        ...  \n",
       "26512                          [Drama, Horror]  \n",
       "26513                        [Drama, Thriller]  \n",
       "26514             [Action, Adventure, Fantasy]  \n",
       "26515              [Action, Adventure, Family]  \n",
       "26516                       [Horror, Thriller]  \n",
       "\n",
       "[26517 rows x 11 columns]"
      ]
     },
     "execution_count": 79,
     "metadata": {},
     "output_type": "execute_result"
    }
   ],
   "source": [
    "df_movies"
   ]
  },
  {
   "cell_type": "code",
   "execution_count": 82,
   "metadata": {},
   "outputs": [
    {
     "data": {
      "text/plain": [
       "['Action',\n",
       " 'Adventure',\n",
       " 'Animation',\n",
       " 'Comedy',\n",
       " 'Crime',\n",
       " 'Documentary',\n",
       " 'Drama',\n",
       " 'Family',\n",
       " 'Fantasy',\n",
       " 'History',\n",
       " 'Horror',\n",
       " 'Music',\n",
       " 'Mystery',\n",
       " 'Romance',\n",
       " 'Science Fiction',\n",
       " 'TV Movie',\n",
       " 'Thriller',\n",
       " 'War',\n",
       " 'Western']"
      ]
     },
     "execution_count": 82,
     "metadata": {},
     "output_type": "execute_result"
    }
   ],
   "source": [
    "unique_genres = [x['name'] for x in genremap]\n",
    "unique_genres"
   ]
  },
  {
   "cell_type": "code",
   "execution_count": 85,
   "metadata": {},
   "outputs": [
    {
     "name": "stderr",
     "output_type": "stream",
     "text": [
      "C:\\Users\\User\\anaconda3\\envs\\learn-env\\lib\\site-packages\\ipykernel_launcher.py:2: FutureWarning: Sorting because non-concatenation axis is not aligned. A future version\n",
      "of pandas will change to not sort by default.\n",
      "\n",
      "To accept the future behavior, pass 'sort=False'.\n",
      "\n",
      "To retain the current behavior and silence the warning, pass 'sort=True'.\n",
      "\n",
      "  \n"
     ]
    },
    {
     "data": {
      "text/html": [
       "<div>\n",
       "<style scoped>\n",
       "    .dataframe tbody tr th:only-of-type {\n",
       "        vertical-align: middle;\n",
       "    }\n",
       "\n",
       "    .dataframe tbody tr th {\n",
       "        vertical-align: top;\n",
       "    }\n",
       "\n",
       "    .dataframe thead th {\n",
       "        text-align: right;\n",
       "    }\n",
       "</style>\n",
       "<table border=\"1\" class=\"dataframe\">\n",
       "  <thead>\n",
       "    <tr style=\"text-align: right;\">\n",
       "      <th></th>\n",
       "      <th>Action</th>\n",
       "      <th>Adventure</th>\n",
       "      <th>Animation</th>\n",
       "      <th>Comedy</th>\n",
       "      <th>Crime</th>\n",
       "      <th>Documentary</th>\n",
       "      <th>Drama</th>\n",
       "      <th>Family</th>\n",
       "      <th>Fantasy</th>\n",
       "      <th>History</th>\n",
       "      <th>...</th>\n",
       "      <th>genre_ids</th>\n",
       "      <th>genre_names</th>\n",
       "      <th>id</th>\n",
       "      <th>original_language</th>\n",
       "      <th>original_title</th>\n",
       "      <th>popularity</th>\n",
       "      <th>release_date</th>\n",
       "      <th>title</th>\n",
       "      <th>vote_average</th>\n",
       "      <th>vote_count</th>\n",
       "    </tr>\n",
       "  </thead>\n",
       "  <tbody>\n",
       "    <tr>\n",
       "      <td>0</td>\n",
       "      <td>NaN</td>\n",
       "      <td>NaN</td>\n",
       "      <td>NaN</td>\n",
       "      <td>NaN</td>\n",
       "      <td>NaN</td>\n",
       "      <td>NaN</td>\n",
       "      <td>NaN</td>\n",
       "      <td>NaN</td>\n",
       "      <td>NaN</td>\n",
       "      <td>NaN</td>\n",
       "      <td>...</td>\n",
       "      <td>[12, 14, 10751]</td>\n",
       "      <td>[Adventure, Family, Fantasy]</td>\n",
       "      <td>12444.0</td>\n",
       "      <td>en</td>\n",
       "      <td>Harry Potter and the Deathly Hallows: Part 1</td>\n",
       "      <td>33.533</td>\n",
       "      <td>2010-11-19</td>\n",
       "      <td>Harry Potter and the Deathly Hallows: Part 1</td>\n",
       "      <td>7.7</td>\n",
       "      <td>10788.0</td>\n",
       "    </tr>\n",
       "    <tr>\n",
       "      <td>1</td>\n",
       "      <td>NaN</td>\n",
       "      <td>NaN</td>\n",
       "      <td>NaN</td>\n",
       "      <td>NaN</td>\n",
       "      <td>NaN</td>\n",
       "      <td>NaN</td>\n",
       "      <td>NaN</td>\n",
       "      <td>NaN</td>\n",
       "      <td>NaN</td>\n",
       "      <td>NaN</td>\n",
       "      <td>...</td>\n",
       "      <td>[14, 12, 16, 10751]</td>\n",
       "      <td>[Adventure, Animation, Family, Fantasy]</td>\n",
       "      <td>10191.0</td>\n",
       "      <td>en</td>\n",
       "      <td>How to Train Your Dragon</td>\n",
       "      <td>28.734</td>\n",
       "      <td>2010-03-26</td>\n",
       "      <td>How to Train Your Dragon</td>\n",
       "      <td>7.7</td>\n",
       "      <td>7610.0</td>\n",
       "    </tr>\n",
       "    <tr>\n",
       "      <td>2</td>\n",
       "      <td>NaN</td>\n",
       "      <td>NaN</td>\n",
       "      <td>NaN</td>\n",
       "      <td>NaN</td>\n",
       "      <td>NaN</td>\n",
       "      <td>NaN</td>\n",
       "      <td>NaN</td>\n",
       "      <td>NaN</td>\n",
       "      <td>NaN</td>\n",
       "      <td>NaN</td>\n",
       "      <td>...</td>\n",
       "      <td>[12, 28, 878]</td>\n",
       "      <td>[Action, Adventure, Science Fiction]</td>\n",
       "      <td>10138.0</td>\n",
       "      <td>en</td>\n",
       "      <td>Iron Man 2</td>\n",
       "      <td>28.515</td>\n",
       "      <td>2010-05-07</td>\n",
       "      <td>Iron Man 2</td>\n",
       "      <td>6.8</td>\n",
       "      <td>12368.0</td>\n",
       "    </tr>\n",
       "    <tr>\n",
       "      <td>3</td>\n",
       "      <td>NaN</td>\n",
       "      <td>NaN</td>\n",
       "      <td>NaN</td>\n",
       "      <td>NaN</td>\n",
       "      <td>NaN</td>\n",
       "      <td>NaN</td>\n",
       "      <td>NaN</td>\n",
       "      <td>NaN</td>\n",
       "      <td>NaN</td>\n",
       "      <td>NaN</td>\n",
       "      <td>...</td>\n",
       "      <td>[16, 35, 10751]</td>\n",
       "      <td>[Animation, Comedy, Family]</td>\n",
       "      <td>862.0</td>\n",
       "      <td>en</td>\n",
       "      <td>Toy Story</td>\n",
       "      <td>28.005</td>\n",
       "      <td>1995-11-22</td>\n",
       "      <td>Toy Story</td>\n",
       "      <td>7.9</td>\n",
       "      <td>10174.0</td>\n",
       "    </tr>\n",
       "    <tr>\n",
       "      <td>4</td>\n",
       "      <td>NaN</td>\n",
       "      <td>NaN</td>\n",
       "      <td>NaN</td>\n",
       "      <td>NaN</td>\n",
       "      <td>NaN</td>\n",
       "      <td>NaN</td>\n",
       "      <td>NaN</td>\n",
       "      <td>NaN</td>\n",
       "      <td>NaN</td>\n",
       "      <td>NaN</td>\n",
       "      <td>...</td>\n",
       "      <td>[28, 878, 12]</td>\n",
       "      <td>[Action, Adventure, Science Fiction]</td>\n",
       "      <td>27205.0</td>\n",
       "      <td>en</td>\n",
       "      <td>Inception</td>\n",
       "      <td>27.920</td>\n",
       "      <td>2010-07-16</td>\n",
       "      <td>Inception</td>\n",
       "      <td>8.3</td>\n",
       "      <td>22186.0</td>\n",
       "    </tr>\n",
       "  </tbody>\n",
       "</table>\n",
       "<p>5 rows × 30 columns</p>\n",
       "</div>"
      ],
      "text/plain": [
       "  Action Adventure Animation Comedy Crime Documentary Drama Family Fantasy  \\\n",
       "0    NaN       NaN       NaN    NaN   NaN         NaN   NaN    NaN     NaN   \n",
       "1    NaN       NaN       NaN    NaN   NaN         NaN   NaN    NaN     NaN   \n",
       "2    NaN       NaN       NaN    NaN   NaN         NaN   NaN    NaN     NaN   \n",
       "3    NaN       NaN       NaN    NaN   NaN         NaN   NaN    NaN     NaN   \n",
       "4    NaN       NaN       NaN    NaN   NaN         NaN   NaN    NaN     NaN   \n",
       "\n",
       "  History  ...            genre_ids                              genre_names  \\\n",
       "0     NaN  ...      [12, 14, 10751]             [Adventure, Family, Fantasy]   \n",
       "1     NaN  ...  [14, 12, 16, 10751]  [Adventure, Animation, Family, Fantasy]   \n",
       "2     NaN  ...        [12, 28, 878]     [Action, Adventure, Science Fiction]   \n",
       "3     NaN  ...      [16, 35, 10751]              [Animation, Comedy, Family]   \n",
       "4     NaN  ...        [28, 878, 12]     [Action, Adventure, Science Fiction]   \n",
       "\n",
       "        id original_language                                original_title  \\\n",
       "0  12444.0                en  Harry Potter and the Deathly Hallows: Part 1   \n",
       "1  10191.0                en                      How to Train Your Dragon   \n",
       "2  10138.0                en                                    Iron Man 2   \n",
       "3    862.0                en                                     Toy Story   \n",
       "4  27205.0                en                                     Inception   \n",
       "\n",
       "  popularity release_date                                         title  \\\n",
       "0     33.533   2010-11-19  Harry Potter and the Deathly Hallows: Part 1   \n",
       "1     28.734   2010-03-26                      How to Train Your Dragon   \n",
       "2     28.515   2010-05-07                                    Iron Man 2   \n",
       "3     28.005   1995-11-22                                     Toy Story   \n",
       "4     27.920   2010-07-16                                     Inception   \n",
       "\n",
       "  vote_average vote_count  \n",
       "0          7.7    10788.0  \n",
       "1          7.7     7610.0  \n",
       "2          6.8    12368.0  \n",
       "3          7.9    10174.0  \n",
       "4          8.3    22186.0  \n",
       "\n",
       "[5 rows x 30 columns]"
      ]
     },
     "execution_count": 85,
     "metadata": {},
     "output_type": "execute_result"
    }
   ],
   "source": [
    "genre_df = pd.DataFrame(columns = unique_genres)\n",
    "genre_df = pd.concat([df_movies, genre_df])\n",
    "genre_df.head()"
   ]
  },
  {
   "cell_type": "code",
   "execution_count": 86,
   "metadata": {},
   "outputs": [],
   "source": [
    "def populate_genres(genre, row):\n",
    "    genres = row['genre_names']\n",
    "    if genre in genres:\n",
    "        return 1\n",
    "    else:\n",
    "        return 0"
   ]
  },
  {
   "cell_type": "code",
   "execution_count": 87,
   "metadata": {},
   "outputs": [],
   "source": [
    "df_movies['Action'] = df_movies.apply(lambda row: populate_genres('Action',\n",
    "                                                                  row), \n",
    "                                      axis = 1)"
   ]
  },
  {
   "cell_type": "code",
   "execution_count": 88,
   "metadata": {},
   "outputs": [],
   "source": [
    "for g in unique_genres:\n",
    "    df_movies[g] = df_movies.apply(lambda row: populate_genres(g, row), \n",
    "                                   axis=1)"
   ]
  },
  {
   "cell_type": "code",
   "execution_count": 89,
   "metadata": {},
   "outputs": [
    {
     "data": {
      "text/html": [
       "<div>\n",
       "<style scoped>\n",
       "    .dataframe tbody tr th:only-of-type {\n",
       "        vertical-align: middle;\n",
       "    }\n",
       "\n",
       "    .dataframe tbody tr th {\n",
       "        vertical-align: top;\n",
       "    }\n",
       "\n",
       "    .dataframe thead th {\n",
       "        text-align: right;\n",
       "    }\n",
       "</style>\n",
       "<table border=\"1\" class=\"dataframe\">\n",
       "  <thead>\n",
       "    <tr style=\"text-align: right;\">\n",
       "      <th></th>\n",
       "      <th>Unnamed: 0</th>\n",
       "      <th>genre_ids</th>\n",
       "      <th>id</th>\n",
       "      <th>original_language</th>\n",
       "      <th>original_title</th>\n",
       "      <th>popularity</th>\n",
       "      <th>release_date</th>\n",
       "      <th>title</th>\n",
       "      <th>vote_average</th>\n",
       "      <th>vote_count</th>\n",
       "      <th>...</th>\n",
       "      <th>History</th>\n",
       "      <th>Horror</th>\n",
       "      <th>Music</th>\n",
       "      <th>Mystery</th>\n",
       "      <th>Romance</th>\n",
       "      <th>Science Fiction</th>\n",
       "      <th>TV Movie</th>\n",
       "      <th>Thriller</th>\n",
       "      <th>War</th>\n",
       "      <th>Western</th>\n",
       "    </tr>\n",
       "  </thead>\n",
       "  <tbody>\n",
       "    <tr>\n",
       "      <td>0</td>\n",
       "      <td>0</td>\n",
       "      <td>[12, 14, 10751]</td>\n",
       "      <td>12444</td>\n",
       "      <td>en</td>\n",
       "      <td>Harry Potter and the Deathly Hallows: Part 1</td>\n",
       "      <td>33.533</td>\n",
       "      <td>2010-11-19</td>\n",
       "      <td>Harry Potter and the Deathly Hallows: Part 1</td>\n",
       "      <td>7.7</td>\n",
       "      <td>10788</td>\n",
       "      <td>...</td>\n",
       "      <td>0</td>\n",
       "      <td>0</td>\n",
       "      <td>0</td>\n",
       "      <td>0</td>\n",
       "      <td>0</td>\n",
       "      <td>0</td>\n",
       "      <td>0</td>\n",
       "      <td>0</td>\n",
       "      <td>0</td>\n",
       "      <td>0</td>\n",
       "    </tr>\n",
       "    <tr>\n",
       "      <td>1</td>\n",
       "      <td>1</td>\n",
       "      <td>[14, 12, 16, 10751]</td>\n",
       "      <td>10191</td>\n",
       "      <td>en</td>\n",
       "      <td>How to Train Your Dragon</td>\n",
       "      <td>28.734</td>\n",
       "      <td>2010-03-26</td>\n",
       "      <td>How to Train Your Dragon</td>\n",
       "      <td>7.7</td>\n",
       "      <td>7610</td>\n",
       "      <td>...</td>\n",
       "      <td>0</td>\n",
       "      <td>0</td>\n",
       "      <td>0</td>\n",
       "      <td>0</td>\n",
       "      <td>0</td>\n",
       "      <td>0</td>\n",
       "      <td>0</td>\n",
       "      <td>0</td>\n",
       "      <td>0</td>\n",
       "      <td>0</td>\n",
       "    </tr>\n",
       "    <tr>\n",
       "      <td>2</td>\n",
       "      <td>2</td>\n",
       "      <td>[12, 28, 878]</td>\n",
       "      <td>10138</td>\n",
       "      <td>en</td>\n",
       "      <td>Iron Man 2</td>\n",
       "      <td>28.515</td>\n",
       "      <td>2010-05-07</td>\n",
       "      <td>Iron Man 2</td>\n",
       "      <td>6.8</td>\n",
       "      <td>12368</td>\n",
       "      <td>...</td>\n",
       "      <td>0</td>\n",
       "      <td>0</td>\n",
       "      <td>0</td>\n",
       "      <td>0</td>\n",
       "      <td>0</td>\n",
       "      <td>1</td>\n",
       "      <td>0</td>\n",
       "      <td>0</td>\n",
       "      <td>0</td>\n",
       "      <td>0</td>\n",
       "    </tr>\n",
       "    <tr>\n",
       "      <td>3</td>\n",
       "      <td>3</td>\n",
       "      <td>[16, 35, 10751]</td>\n",
       "      <td>862</td>\n",
       "      <td>en</td>\n",
       "      <td>Toy Story</td>\n",
       "      <td>28.005</td>\n",
       "      <td>1995-11-22</td>\n",
       "      <td>Toy Story</td>\n",
       "      <td>7.9</td>\n",
       "      <td>10174</td>\n",
       "      <td>...</td>\n",
       "      <td>0</td>\n",
       "      <td>0</td>\n",
       "      <td>0</td>\n",
       "      <td>0</td>\n",
       "      <td>0</td>\n",
       "      <td>0</td>\n",
       "      <td>0</td>\n",
       "      <td>0</td>\n",
       "      <td>0</td>\n",
       "      <td>0</td>\n",
       "    </tr>\n",
       "    <tr>\n",
       "      <td>4</td>\n",
       "      <td>4</td>\n",
       "      <td>[28, 878, 12]</td>\n",
       "      <td>27205</td>\n",
       "      <td>en</td>\n",
       "      <td>Inception</td>\n",
       "      <td>27.920</td>\n",
       "      <td>2010-07-16</td>\n",
       "      <td>Inception</td>\n",
       "      <td>8.3</td>\n",
       "      <td>22186</td>\n",
       "      <td>...</td>\n",
       "      <td>0</td>\n",
       "      <td>0</td>\n",
       "      <td>0</td>\n",
       "      <td>0</td>\n",
       "      <td>0</td>\n",
       "      <td>1</td>\n",
       "      <td>0</td>\n",
       "      <td>0</td>\n",
       "      <td>0</td>\n",
       "      <td>0</td>\n",
       "    </tr>\n",
       "  </tbody>\n",
       "</table>\n",
       "<p>5 rows × 30 columns</p>\n",
       "</div>"
      ],
      "text/plain": [
       "   Unnamed: 0            genre_ids     id original_language  \\\n",
       "0           0      [12, 14, 10751]  12444                en   \n",
       "1           1  [14, 12, 16, 10751]  10191                en   \n",
       "2           2        [12, 28, 878]  10138                en   \n",
       "3           3      [16, 35, 10751]    862                en   \n",
       "4           4        [28, 878, 12]  27205                en   \n",
       "\n",
       "                                 original_title  popularity release_date  \\\n",
       "0  Harry Potter and the Deathly Hallows: Part 1      33.533   2010-11-19   \n",
       "1                      How to Train Your Dragon      28.734   2010-03-26   \n",
       "2                                    Iron Man 2      28.515   2010-05-07   \n",
       "3                                     Toy Story      28.005   1995-11-22   \n",
       "4                                     Inception      27.920   2010-07-16   \n",
       "\n",
       "                                          title  vote_average  vote_count  \\\n",
       "0  Harry Potter and the Deathly Hallows: Part 1           7.7       10788   \n",
       "1                      How to Train Your Dragon           7.7        7610   \n",
       "2                                    Iron Man 2           6.8       12368   \n",
       "3                                     Toy Story           7.9       10174   \n",
       "4                                     Inception           8.3       22186   \n",
       "\n",
       "   ... History  Horror  Music  Mystery  Romance  Science Fiction  TV Movie  \\\n",
       "0  ...       0       0      0        0        0                0         0   \n",
       "1  ...       0       0      0        0        0                0         0   \n",
       "2  ...       0       0      0        0        0                1         0   \n",
       "3  ...       0       0      0        0        0                0         0   \n",
       "4  ...       0       0      0        0        0                1         0   \n",
       "\n",
       "   Thriller  War  Western  \n",
       "0         0    0        0  \n",
       "1         0    0        0  \n",
       "2         0    0        0  \n",
       "3         0    0        0  \n",
       "4         0    0        0  \n",
       "\n",
       "[5 rows x 30 columns]"
      ]
     },
     "execution_count": 89,
     "metadata": {},
     "output_type": "execute_result"
    }
   ],
   "source": [
    "df_movies.head()"
   ]
  },
  {
   "cell_type": "code",
   "execution_count": 90,
   "metadata": {},
   "outputs": [],
   "source": [
    "genres = df_movies[['title', 'Action', 'Adventure', 'Animation',\n",
    "                    'Comedy', 'Crime', 'Documentary', 'Drama',\n",
    "                    'Family', 'Fantasy', 'History', 'Horror', 'Music',\n",
    "                    'Mystery', 'Romance', 'Science Fiction', 'TV Movie',\n",
    "                    'Thriller', 'War', 'Western']]"
   ]
  },
  {
   "cell_type": "code",
   "execution_count": 91,
   "metadata": {},
   "outputs": [
    {
     "data": {
      "text/plain": [
       "(26517, 20)"
      ]
     },
     "execution_count": 91,
     "metadata": {},
     "output_type": "execute_result"
    }
   ],
   "source": [
    "genres.shape"
   ]
  },
  {
   "cell_type": "code",
   "execution_count": 92,
   "metadata": {},
   "outputs": [],
   "source": [
    "profit = pd.read_csv('joined_gross_budget_cleaned.csv')"
   ]
  },
  {
   "cell_type": "code",
   "execution_count": 93,
   "metadata": {},
   "outputs": [
    {
     "data": {
      "text/html": [
       "<div>\n",
       "<style scoped>\n",
       "    .dataframe tbody tr th:only-of-type {\n",
       "        vertical-align: middle;\n",
       "    }\n",
       "\n",
       "    .dataframe tbody tr th {\n",
       "        vertical-align: top;\n",
       "    }\n",
       "\n",
       "    .dataframe thead th {\n",
       "        text-align: right;\n",
       "    }\n",
       "</style>\n",
       "<table border=\"1\" class=\"dataframe\">\n",
       "  <thead>\n",
       "    <tr style=\"text-align: right;\">\n",
       "      <th></th>\n",
       "      <th>Unnamed: 0</th>\n",
       "      <th>month</th>\n",
       "      <th>year</th>\n",
       "      <th>production_budget</th>\n",
       "      <th>worldwide_gross</th>\n",
       "      <th>domestic_gross</th>\n",
       "      <th>net_prof</th>\n",
       "      <th>net_margin_%</th>\n",
       "      <th>Action</th>\n",
       "      <th>Adventure</th>\n",
       "      <th>...</th>\n",
       "      <th>History</th>\n",
       "      <th>Horror</th>\n",
       "      <th>Music</th>\n",
       "      <th>Mystery</th>\n",
       "      <th>Romance</th>\n",
       "      <th>Science Fiction</th>\n",
       "      <th>TV Movie</th>\n",
       "      <th>Thriller</th>\n",
       "      <th>War</th>\n",
       "      <th>Western</th>\n",
       "    </tr>\n",
       "    <tr>\n",
       "      <th>title</th>\n",
       "      <th></th>\n",
       "      <th></th>\n",
       "      <th></th>\n",
       "      <th></th>\n",
       "      <th></th>\n",
       "      <th></th>\n",
       "      <th></th>\n",
       "      <th></th>\n",
       "      <th></th>\n",
       "      <th></th>\n",
       "      <th></th>\n",
       "      <th></th>\n",
       "      <th></th>\n",
       "      <th></th>\n",
       "      <th></th>\n",
       "      <th></th>\n",
       "      <th></th>\n",
       "      <th></th>\n",
       "      <th></th>\n",
       "      <th></th>\n",
       "      <th></th>\n",
       "    </tr>\n",
       "  </thead>\n",
       "  <tbody>\n",
       "    <tr>\n",
       "      <td>10 Cloverfield Lane</td>\n",
       "      <td>2</td>\n",
       "      <td>3</td>\n",
       "      <td>2016</td>\n",
       "      <td>5000000.0</td>\n",
       "      <td>108286422.0</td>\n",
       "      <td>72091499.5</td>\n",
       "      <td>103286422.0</td>\n",
       "      <td>95.38</td>\n",
       "      <td>0</td>\n",
       "      <td>0</td>\n",
       "      <td>...</td>\n",
       "      <td>0</td>\n",
       "      <td>0</td>\n",
       "      <td>0</td>\n",
       "      <td>0</td>\n",
       "      <td>0</td>\n",
       "      <td>1</td>\n",
       "      <td>0</td>\n",
       "      <td>1</td>\n",
       "      <td>0</td>\n",
       "      <td>0</td>\n",
       "    </tr>\n",
       "    <tr>\n",
       "      <td>12 Strong</td>\n",
       "      <td>12</td>\n",
       "      <td>1</td>\n",
       "      <td>2018</td>\n",
       "      <td>35000000.0</td>\n",
       "      <td>71118378.0</td>\n",
       "      <td>45809856.5</td>\n",
       "      <td>36118378.0</td>\n",
       "      <td>50.79</td>\n",
       "      <td>1</td>\n",
       "      <td>0</td>\n",
       "      <td>...</td>\n",
       "      <td>1</td>\n",
       "      <td>0</td>\n",
       "      <td>0</td>\n",
       "      <td>0</td>\n",
       "      <td>0</td>\n",
       "      <td>0</td>\n",
       "      <td>0</td>\n",
       "      <td>0</td>\n",
       "      <td>1</td>\n",
       "      <td>0</td>\n",
       "    </tr>\n",
       "    <tr>\n",
       "      <td>12 Years a Slave</td>\n",
       "      <td>13</td>\n",
       "      <td>10</td>\n",
       "      <td>2013</td>\n",
       "      <td>20000000.0</td>\n",
       "      <td>181025343.0</td>\n",
       "      <td>56685996.5</td>\n",
       "      <td>161025343.0</td>\n",
       "      <td>88.95</td>\n",
       "      <td>0</td>\n",
       "      <td>0</td>\n",
       "      <td>...</td>\n",
       "      <td>1</td>\n",
       "      <td>0</td>\n",
       "      <td>0</td>\n",
       "      <td>0</td>\n",
       "      <td>0</td>\n",
       "      <td>0</td>\n",
       "      <td>0</td>\n",
       "      <td>0</td>\n",
       "      <td>0</td>\n",
       "      <td>0</td>\n",
       "    </tr>\n",
       "    <tr>\n",
       "      <td>127 Hours</td>\n",
       "      <td>14</td>\n",
       "      <td>11</td>\n",
       "      <td>2010</td>\n",
       "      <td>18000000.0</td>\n",
       "      <td>60217171.0</td>\n",
       "      <td>18317615.0</td>\n",
       "      <td>42217171.0</td>\n",
       "      <td>70.11</td>\n",
       "      <td>0</td>\n",
       "      <td>1</td>\n",
       "      <td>...</td>\n",
       "      <td>0</td>\n",
       "      <td>0</td>\n",
       "      <td>0</td>\n",
       "      <td>0</td>\n",
       "      <td>0</td>\n",
       "      <td>0</td>\n",
       "      <td>0</td>\n",
       "      <td>1</td>\n",
       "      <td>0</td>\n",
       "      <td>0</td>\n",
       "    </tr>\n",
       "    <tr>\n",
       "      <td>13 Hours: The Secret Soldiers of Benghazi</td>\n",
       "      <td>16</td>\n",
       "      <td>1</td>\n",
       "      <td>2016</td>\n",
       "      <td>50000000.0</td>\n",
       "      <td>69411370.0</td>\n",
       "      <td>52876609.5</td>\n",
       "      <td>19411370.0</td>\n",
       "      <td>27.97</td>\n",
       "      <td>1</td>\n",
       "      <td>0</td>\n",
       "      <td>...</td>\n",
       "      <td>1</td>\n",
       "      <td>0</td>\n",
       "      <td>0</td>\n",
       "      <td>0</td>\n",
       "      <td>0</td>\n",
       "      <td>0</td>\n",
       "      <td>0</td>\n",
       "      <td>1</td>\n",
       "      <td>1</td>\n",
       "      <td>0</td>\n",
       "    </tr>\n",
       "  </tbody>\n",
       "</table>\n",
       "<p>5 rows × 27 columns</p>\n",
       "</div>"
      ],
      "text/plain": [
       "                                           Unnamed: 0  month  year  \\\n",
       "title                                                                \n",
       "10 Cloverfield Lane                                 2      3  2016   \n",
       "12 Strong                                          12      1  2018   \n",
       "12 Years a Slave                                   13     10  2013   \n",
       "127 Hours                                          14     11  2010   \n",
       "13 Hours: The Secret Soldiers of Benghazi          16      1  2016   \n",
       "\n",
       "                                           production_budget  worldwide_gross  \\\n",
       "title                                                                           \n",
       "10 Cloverfield Lane                                5000000.0      108286422.0   \n",
       "12 Strong                                         35000000.0       71118378.0   \n",
       "12 Years a Slave                                  20000000.0      181025343.0   \n",
       "127 Hours                                         18000000.0       60217171.0   \n",
       "13 Hours: The Secret Soldiers of Benghazi         50000000.0       69411370.0   \n",
       "\n",
       "                                           domestic_gross     net_prof  \\\n",
       "title                                                                    \n",
       "10 Cloverfield Lane                            72091499.5  103286422.0   \n",
       "12 Strong                                      45809856.5   36118378.0   \n",
       "12 Years a Slave                               56685996.5  161025343.0   \n",
       "127 Hours                                      18317615.0   42217171.0   \n",
       "13 Hours: The Secret Soldiers of Benghazi      52876609.5   19411370.0   \n",
       "\n",
       "                                           net_margin_%  Action  Adventure  \\\n",
       "title                                                                        \n",
       "10 Cloverfield Lane                               95.38       0          0   \n",
       "12 Strong                                         50.79       1          0   \n",
       "12 Years a Slave                                  88.95       0          0   \n",
       "127 Hours                                         70.11       0          1   \n",
       "13 Hours: The Secret Soldiers of Benghazi         27.97       1          0   \n",
       "\n",
       "                                           ...  History  Horror  Music  \\\n",
       "title                                      ...                           \n",
       "10 Cloverfield Lane                        ...        0       0      0   \n",
       "12 Strong                                  ...        1       0      0   \n",
       "12 Years a Slave                           ...        1       0      0   \n",
       "127 Hours                                  ...        0       0      0   \n",
       "13 Hours: The Secret Soldiers of Benghazi  ...        1       0      0   \n",
       "\n",
       "                                           Mystery  Romance  Science Fiction  \\\n",
       "title                                                                          \n",
       "10 Cloverfield Lane                              0        0                1   \n",
       "12 Strong                                        0        0                0   \n",
       "12 Years a Slave                                 0        0                0   \n",
       "127 Hours                                        0        0                0   \n",
       "13 Hours: The Secret Soldiers of Benghazi        0        0                0   \n",
       "\n",
       "                                           TV Movie  Thriller  War  Western  \n",
       "title                                                                        \n",
       "10 Cloverfield Lane                               0         1    0        0  \n",
       "12 Strong                                         0         0    1        0  \n",
       "12 Years a Slave                                  0         0    0        0  \n",
       "127 Hours                                         0         1    0        0  \n",
       "13 Hours: The Secret Soldiers of Benghazi         0         1    1        0  \n",
       "\n",
       "[5 rows x 27 columns]"
      ]
     },
     "execution_count": 93,
     "metadata": {},
     "output_type": "execute_result"
    }
   ],
   "source": [
    "gross_genre = profit.set_index('title').join(genres.set_index('title'), \n",
    "                                             how= 'inner')\n",
    "gross_genre.head()\n"
   ]
  },
  {
   "cell_type": "code",
   "execution_count": 96,
   "metadata": {},
   "outputs": [
    {
     "data": {
      "text/plain": [
       "Index(['month', 'year', 'production_budget', 'worldwide_gross',\n",
       "       'domestic_gross', 'net_prof', 'net_margin_%', 'Action', 'Adventure',\n",
       "       'Animation', 'Comedy', 'Crime', 'Documentary', 'Drama', 'Family',\n",
       "       'Fantasy', 'History', 'Horror', 'Music', 'Mystery', 'Romance',\n",
       "       'Science Fiction', 'TV Movie', 'Thriller', 'War', 'Western'],\n",
       "      dtype='object')"
      ]
     },
     "execution_count": 96,
     "metadata": {},
     "output_type": "execute_result"
    }
   ],
   "source": [
    "# Dropping 'Unnamed Column'\n",
    "gross_genre = gross_genre.drop('Unnamed: 0', axis=1)\n",
    "gross_genre.columns"
   ]
  },
  {
   "cell_type": "code",
   "execution_count": 97,
   "metadata": {},
   "outputs": [
    {
     "data": {
      "text/html": [
       "<div>\n",
       "<style scoped>\n",
       "    .dataframe tbody tr th:only-of-type {\n",
       "        vertical-align: middle;\n",
       "    }\n",
       "\n",
       "    .dataframe tbody tr th {\n",
       "        vertical-align: top;\n",
       "    }\n",
       "\n",
       "    .dataframe thead th {\n",
       "        text-align: right;\n",
       "    }\n",
       "</style>\n",
       "<table border=\"1\" class=\"dataframe\">\n",
       "  <thead>\n",
       "    <tr style=\"text-align: right;\">\n",
       "      <th></th>\n",
       "      <th>net_prof</th>\n",
       "    </tr>\n",
       "  </thead>\n",
       "  <tbody>\n",
       "    <tr>\n",
       "      <td>Action</td>\n",
       "      <td>2.275514e+08</td>\n",
       "    </tr>\n",
       "    <tr>\n",
       "      <td>Adventure</td>\n",
       "      <td>2.995158e+08</td>\n",
       "    </tr>\n",
       "    <tr>\n",
       "      <td>Animation</td>\n",
       "      <td>2.972483e+08</td>\n",
       "    </tr>\n",
       "    <tr>\n",
       "      <td>Comedy</td>\n",
       "      <td>1.296039e+08</td>\n",
       "    </tr>\n",
       "    <tr>\n",
       "      <td>Crime</td>\n",
       "      <td>1.057869e+08</td>\n",
       "    </tr>\n",
       "    <tr>\n",
       "      <td>Documentary</td>\n",
       "      <td>6.932639e+07</td>\n",
       "    </tr>\n",
       "    <tr>\n",
       "      <td>Drama</td>\n",
       "      <td>8.113776e+07</td>\n",
       "    </tr>\n",
       "    <tr>\n",
       "      <td>Family</td>\n",
       "      <td>2.464338e+08</td>\n",
       "    </tr>\n",
       "    <tr>\n",
       "      <td>Fantasy</td>\n",
       "      <td>2.719942e+08</td>\n",
       "    </tr>\n",
       "    <tr>\n",
       "      <td>History</td>\n",
       "      <td>6.570987e+07</td>\n",
       "    </tr>\n",
       "    <tr>\n",
       "      <td>Horror</td>\n",
       "      <td>7.466996e+07</td>\n",
       "    </tr>\n",
       "    <tr>\n",
       "      <td>Music</td>\n",
       "      <td>9.688638e+07</td>\n",
       "    </tr>\n",
       "    <tr>\n",
       "      <td>Mystery</td>\n",
       "      <td>8.293746e+07</td>\n",
       "    </tr>\n",
       "    <tr>\n",
       "      <td>Romance</td>\n",
       "      <td>1.071166e+08</td>\n",
       "    </tr>\n",
       "    <tr>\n",
       "      <td>Science Fiction</td>\n",
       "      <td>2.402436e+08</td>\n",
       "    </tr>\n",
       "    <tr>\n",
       "      <td>TV Movie</td>\n",
       "      <td>7.927637e+07</td>\n",
       "    </tr>\n",
       "    <tr>\n",
       "      <td>Thriller</td>\n",
       "      <td>1.014018e+08</td>\n",
       "    </tr>\n",
       "    <tr>\n",
       "      <td>War</td>\n",
       "      <td>1.209623e+08</td>\n",
       "    </tr>\n",
       "    <tr>\n",
       "      <td>Western</td>\n",
       "      <td>1.504020e+08</td>\n",
       "    </tr>\n",
       "  </tbody>\n",
       "</table>\n",
       "</div>"
      ],
      "text/plain": [
       "                     net_prof\n",
       "Action           2.275514e+08\n",
       "Adventure        2.995158e+08\n",
       "Animation        2.972483e+08\n",
       "Comedy           1.296039e+08\n",
       "Crime            1.057869e+08\n",
       "Documentary      6.932639e+07\n",
       "Drama            8.113776e+07\n",
       "Family           2.464338e+08\n",
       "Fantasy          2.719942e+08\n",
       "History          6.570987e+07\n",
       "Horror           7.466996e+07\n",
       "Music            9.688638e+07\n",
       "Mystery          8.293746e+07\n",
       "Romance          1.071166e+08\n",
       "Science Fiction  2.402436e+08\n",
       "TV Movie         7.927637e+07\n",
       "Thriller         1.014018e+08\n",
       "War              1.209623e+08\n",
       "Western          1.504020e+08"
      ]
     },
     "execution_count": 97,
     "metadata": {},
     "output_type": "execute_result"
    }
   ],
   "source": [
    "mean_profit_df = pd.DataFrame()\n",
    "for genres in unique_genres:\n",
    "    filtered_df = gross_genre[gross_genre[genres] == 1]\n",
    "    grouped_genre = filtered_df.groupby(genres).agg({\"net_prof\": \"mean\"})\n",
    "    mean_profit_df.at[genres, 'net_prof'] = grouped_genre['net_prof'].iloc[0]\n",
    "grouped_genre.head()\n",
    "mean_profit_df"
   ]
  },
  {
   "cell_type": "code",
   "execution_count": 98,
   "metadata": {},
   "outputs": [
    {
     "data": {
      "text/html": [
       "<div>\n",
       "<style scoped>\n",
       "    .dataframe tbody tr th:only-of-type {\n",
       "        vertical-align: middle;\n",
       "    }\n",
       "\n",
       "    .dataframe tbody tr th {\n",
       "        vertical-align: top;\n",
       "    }\n",
       "\n",
       "    .dataframe thead th {\n",
       "        text-align: right;\n",
       "    }\n",
       "</style>\n",
       "<table border=\"1\" class=\"dataframe\">\n",
       "  <thead>\n",
       "    <tr style=\"text-align: right;\">\n",
       "      <th></th>\n",
       "      <th>net_prof</th>\n",
       "    </tr>\n",
       "  </thead>\n",
       "  <tbody>\n",
       "    <tr>\n",
       "      <td>Adventure</td>\n",
       "      <td>299515807</td>\n",
       "    </tr>\n",
       "    <tr>\n",
       "      <td>Animation</td>\n",
       "      <td>297248302</td>\n",
       "    </tr>\n",
       "    <tr>\n",
       "      <td>Fantasy</td>\n",
       "      <td>271994226</td>\n",
       "    </tr>\n",
       "    <tr>\n",
       "      <td>Family</td>\n",
       "      <td>246433772</td>\n",
       "    </tr>\n",
       "    <tr>\n",
       "      <td>Science Fiction</td>\n",
       "      <td>240243628</td>\n",
       "    </tr>\n",
       "  </tbody>\n",
       "</table>\n",
       "</div>"
      ],
      "text/plain": [
       "                  net_prof\n",
       "Adventure        299515807\n",
       "Animation        297248302\n",
       "Fantasy          271994226\n",
       "Family           246433772\n",
       "Science Fiction  240243628"
      ]
     },
     "execution_count": 98,
     "metadata": {},
     "output_type": "execute_result"
    }
   ],
   "source": [
    "mean_profit_df.axes\n",
    "mean_profit_df[\"net_prof\"] = mean_profit_df[\"net_prof\"].apply(lambda x: int(x))\n",
    "mean_profit_df.head()\n",
    "mean_profit_df_sorted = mean_profit_df.sort_values(by=\"net_prof\", ascending=False)\n",
    "mean_profit_df_sorted.head()"
   ]
  },
  {
   "cell_type": "code",
   "execution_count": 103,
   "metadata": {},
   "outputs": [
    {
     "data": {
      "image/png": "[encoded data removed]",
      "text/plain": [
       "<Figure size 1800x720 with 1 Axes>"
      ]
     },
     "metadata": {},
     "output_type": "display_data"
    }
   ],
   "source": [
    "#Plotting\n",
    "#import matplotlib.pyplot as plt; plt.rcdefaults()\n",
    "#import numpy as np\n",
    "#import matplotlib.pyplot as plt\n",
    "\n",
    "\n",
    "y_pos = np.arange(len(mean_profit_df_sorted.index))\n",
    "performance = mean_profit_df_sorted[\"net_prof\"]\n",
    "plt.figure(figsize=(25,10))\n",
    "plt.bar(y_pos, performance, align='center', alpha=1.0)\n",
    "plt.xticks(y_pos, mean_profit_df_sorted.index, fontsize = 25)\n",
    "plt.ylabel('Average profit per movie in USD Billion', fontsize=30)\n",
    "plt.yticks(fontsize=25)\n",
    "plt.title('Most Profitable Genres', fontsize=35)\n",
    "plt.xlabel('Genre', fontsize=30)\n",
    "degrees = 45\n",
    "plt.xticks(rotation=degrees)\n",
    "\n",
    "\n",
    "plt.show()"
   ]
  },
  {
   "cell_type": "markdown",
   "metadata": {},
   "source": [
    "## Conclusions"
   ]
  },
  {
   "cell_type": "markdown",
   "metadata": {},
   "source": [
    "We see that the mean profit is the highest for films that are of genres adventure, animation, and fantasy. Documentary and history are genres with the lowest profits. This makes sense given that the three most profitable genres have a wider audience to appeal to and also typically have higher budgets. Documentary and history genres are appealing to a more niche audience."
   ]
  },
  {
   "cell_type": "markdown",
   "metadata": {},
   "source": [
    "## Recommendations"
   ]
  },
  {
   "cell_type": "markdown",
   "metadata": {},
   "source": [
    "As can be seen from the dataframe and the table some genres are more profitable than others. Since a movie often is often categorized under several genres, it pays to consider making a movie that can be categorized under some profitable genres in addition to its other genres, in order to increase the target audience. "
   ]
  }
 ],
 "metadata": {
  "kernelspec": {
   "display_name": "Python [conda env:learn-env] *",
   "language": "python",
   "name": "conda-env-learn-env-py"
  },
  "language_info": {
   "codemirror_mode": {
    "name": "ipython",
    "version": 3
   },
   "file_extension": ".py",
   "mimetype": "text/x-python",
   "name": "python",
   "nbconvert_exporter": "python",
   "pygments_lexer": "ipython3",
   "version": "3.6.9"
  },
  "toc": {
   "base_numbering": 1,
   "nav_menu": {},
   "number_sections": true,
   "sideBar": true,
   "skip_h1_title": false,
   "title_cell": "Table of Contents",
   "title_sidebar": "Contents",
   "toc_cell": false,
   "toc_position": {
    "height": "calc(100% - 180px)",
    "left": "10px",
    "top": "150px",
    "width": "192.8px"
   },
   "toc_section_display": true,
   "toc_window_display": true
  }
 },
 "nbformat": 4,
 "nbformat_minor": 2
}
