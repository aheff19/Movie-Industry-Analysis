{
 "cells": [
  {
   "cell_type": "markdown",
   "metadata": {},
   "source": [
    "# Ben's cleaning"
   ]
  },
  {
   "cell_type": "code",
   "execution_count": 1,
   "metadata": {},
   "outputs": [],
   "source": [
    "import pandas as pd\n",
    "import numpy as np\n",
    "import matplotlib.pyplot as plt\n",
    "%matplotlib inline"
   ]
  },
  {
   "cell_type": "code",
   "execution_count": 2,
   "metadata": {},
   "outputs": [],
   "source": [
    "# Assigning the movie gross table to variable\n",
    "df_movie_gross = pd.read_csv('dataframe_id_bom_movie_gross_gz.csv') "
   ]
  },
  {
   "cell_type": "code",
   "execution_count": 3,
   "metadata": {},
   "outputs": [
    {
     "name": "stdout",
     "output_type": "stream",
     "text": [
      "                                         title studio  domestic_gross  \\\n",
      "0                                  Toy Story 3     BV     415000000.0   \n",
      "1                   Alice in Wonderland (2010)     BV     334200000.0   \n",
      "2  Harry Potter and the Deathly Hallows Part 1     WB     296000000.0   \n",
      "3                                    Inception     WB     292600000.0   \n",
      "4                          Shrek Forever After   P/DW     238700000.0   \n",
      "\n",
      "  foreign_gross  year  \n",
      "0     652000000  2010  \n",
      "1     691300000  2010  \n",
      "2     664300000  2010  \n",
      "3     535700000  2010  \n",
      "4     513900000  2010  \n",
      "<class 'pandas.core.frame.DataFrame'>\n",
      "RangeIndex: 3387 entries, 0 to 3386\n",
      "Data columns (total 5 columns):\n",
      "title             3387 non-null object\n",
      "studio            3382 non-null object\n",
      "domestic_gross    3359 non-null float64\n",
      "foreign_gross     2037 non-null object\n",
      "year              3387 non-null int64\n",
      "dtypes: float64(1), int64(1), object(3)\n",
      "memory usage: 132.4+ KB\n",
      "None\n",
      "(3387, 5)\n"
     ]
    }
   ],
   "source": [
    "print(df_movie_gross.head()) #checking the layout and stats\n",
    "print(df_movie_gross.info())\n",
    "print(df_movie_gross.shape)"
   ]
  },
  {
   "cell_type": "code",
   "execution_count": 4,
   "metadata": {},
   "outputs": [],
   "source": [
    "# dropping 'studio' and 'year' column due to irrelevance\n",
    "df_movie_gross.drop(axis=1, columns='studio', inplace=True)\n",
    "df_movie_gross.drop(axis=1, columns='year', inplace=True)"
   ]
  },
  {
   "cell_type": "code",
   "execution_count": 5,
   "metadata": {},
   "outputs": [
    {
     "data": {
      "text/plain": [
       "0"
      ]
     },
     "execution_count": 5,
     "metadata": {},
     "output_type": "execute_result"
    }
   ],
   "source": [
    "# checking for duplicates\n",
    "df_movie_gross.duplicated().sum()"
   ]
  },
  {
   "cell_type": "code",
   "execution_count": 6,
   "metadata": {},
   "outputs": [
    {
     "name": "stdout",
     "output_type": "stream",
     "text": [
      "      title  domestic_gross  foreign_gross\n",
      "0     False           False          False\n",
      "1     False           False          False\n",
      "2     False           False          False\n",
      "3     False           False          False\n",
      "4     False           False          False\n",
      "...     ...             ...            ...\n",
      "3382  False           False           True\n",
      "3383  False           False           True\n",
      "3384  False           False           True\n",
      "3385  False           False           True\n",
      "3386  False           False           True\n",
      "\n",
      "[3387 rows x 3 columns]\n",
      "title                0\n",
      "domestic_gross      28\n",
      "foreign_gross     1350\n",
      "dtype: int64\n"
     ]
    }
   ],
   "source": [
    "#finding NaNs\n",
    "print(df_movie_gross.isna())\n",
    "print(df_movie_gross.isna().sum())"
   ]
  },
  {
   "cell_type": "code",
   "execution_count": 12,
   "metadata": {},
   "outputs": [],
   "source": []
  },
  {
   "cell_type": "code",
   "execution_count": 13,
   "metadata": {},
   "outputs": [
    {
     "data": {
      "text/plain": [
       "39.85828166519043"
      ]
     },
     "execution_count": 13,
     "metadata": {},
     "output_type": "execute_result"
    }
   ],
   "source": [
    "#domestic_gross is missing 28 values might just drop those rows\n",
    "#foreign_gross missing 1350 values; calculating the percentage of data missing\n",
    "(df_movie_gross['foreign_gross'].isna()\n",
    "                 .sum()/len(df_movie_gross['foreign_gross'])) * 100\n"
   ]
  },
  {
   "cell_type": "code",
   "execution_count": 19,
   "metadata": {},
   "outputs": [
    {
     "ename": "ValueError",
     "evalue": "No axis named 1 for object type <class 'pandas.core.series.Series'>",
     "output_type": "error",
     "traceback": [
      "\u001b[1;31m---------------------------------------------------------------------------\u001b[0m",
      "\u001b[1;31mValueError\u001b[0m                                Traceback (most recent call last)",
      "\u001b[1;32m<ipython-input-19-5a19153af96e>\u001b[0m in \u001b[0;36m<module>\u001b[1;34m\u001b[0m\n\u001b[0;32m      3\u001b[0m \u001b[1;33m\u001b[0m\u001b[0m\n\u001b[0;32m      4\u001b[0m \u001b[0mis_NaN\u001b[0m \u001b[1;33m=\u001b[0m \u001b[0mdf_movie_gross\u001b[0m\u001b[1;33m[\u001b[0m\u001b[1;34m'foreign_gross'\u001b[0m\u001b[1;33m]\u001b[0m\u001b[1;33m.\u001b[0m\u001b[0misnull\u001b[0m\u001b[1;33m(\u001b[0m\u001b[1;33m)\u001b[0m\u001b[1;33m\u001b[0m\u001b[1;33m\u001b[0m\u001b[0m\n\u001b[1;32m----> 5\u001b[1;33m \u001b[0mrow_has_NaN\u001b[0m \u001b[1;33m=\u001b[0m \u001b[0mis_NaN\u001b[0m\u001b[1;33m.\u001b[0m\u001b[0many\u001b[0m\u001b[1;33m(\u001b[0m\u001b[0maxis\u001b[0m\u001b[1;33m=\u001b[0m\u001b[1;36m1\u001b[0m\u001b[1;33m)\u001b[0m\u001b[1;33m\u001b[0m\u001b[1;33m\u001b[0m\u001b[0m\n\u001b[0m\u001b[0;32m      6\u001b[0m \u001b[0mrows_with_NaN\u001b[0m \u001b[1;33m=\u001b[0m \u001b[0mdf_movie_gross\u001b[0m\u001b[1;33m[\u001b[0m\u001b[0mrow_has_NaN\u001b[0m\u001b[1;33m]\u001b[0m\u001b[1;33m\u001b[0m\u001b[1;33m\u001b[0m\u001b[0m\n\u001b[0;32m      7\u001b[0m \u001b[1;33m\u001b[0m\u001b[0m\n",
      "\u001b[1;32m~\\anaconda3\\envs\\learn-env\\lib\\site-packages\\pandas\\core\\generic.py\u001b[0m in \u001b[0;36mlogical_func\u001b[1;34m(self, axis, bool_only, skipna, level, **kwargs)\u001b[0m\n\u001b[0;32m  11721\u001b[0m             \u001b[0mskipna\u001b[0m\u001b[1;33m=\u001b[0m\u001b[0mskipna\u001b[0m\u001b[1;33m,\u001b[0m\u001b[1;33m\u001b[0m\u001b[1;33m\u001b[0m\u001b[0m\n\u001b[0;32m  11722\u001b[0m             \u001b[0mnumeric_only\u001b[0m\u001b[1;33m=\u001b[0m\u001b[0mbool_only\u001b[0m\u001b[1;33m,\u001b[0m\u001b[1;33m\u001b[0m\u001b[1;33m\u001b[0m\u001b[0m\n\u001b[1;32m> 11723\u001b[1;33m             \u001b[0mfilter_type\u001b[0m\u001b[1;33m=\u001b[0m\u001b[1;34m\"bool\"\u001b[0m\u001b[1;33m,\u001b[0m\u001b[1;33m\u001b[0m\u001b[1;33m\u001b[0m\u001b[0m\n\u001b[0m\u001b[0;32m  11724\u001b[0m         )\n\u001b[0;32m  11725\u001b[0m \u001b[1;33m\u001b[0m\u001b[0m\n",
      "\u001b[1;32m~\\anaconda3\\envs\\learn-env\\lib\\site-packages\\pandas\\core\\series.py\u001b[0m in \u001b[0;36m_reduce\u001b[1;34m(self, op, name, axis, skipna, numeric_only, filter_type, **kwds)\u001b[0m\n\u001b[0;32m   4061\u001b[0m \u001b[1;33m\u001b[0m\u001b[0m\n\u001b[0;32m   4062\u001b[0m         \u001b[1;32mif\u001b[0m \u001b[0maxis\u001b[0m \u001b[1;32mis\u001b[0m \u001b[1;32mnot\u001b[0m \u001b[1;32mNone\u001b[0m\u001b[1;33m:\u001b[0m\u001b[1;33m\u001b[0m\u001b[1;33m\u001b[0m\u001b[0m\n\u001b[1;32m-> 4063\u001b[1;33m             \u001b[0mself\u001b[0m\u001b[1;33m.\u001b[0m\u001b[0m_get_axis_number\u001b[0m\u001b[1;33m(\u001b[0m\u001b[0maxis\u001b[0m\u001b[1;33m)\u001b[0m\u001b[1;33m\u001b[0m\u001b[1;33m\u001b[0m\u001b[0m\n\u001b[0m\u001b[0;32m   4064\u001b[0m \u001b[1;33m\u001b[0m\u001b[0m\n\u001b[0;32m   4065\u001b[0m         \u001b[1;32mif\u001b[0m \u001b[0misinstance\u001b[0m\u001b[1;33m(\u001b[0m\u001b[0mdelegate\u001b[0m\u001b[1;33m,\u001b[0m \u001b[0mCategorical\u001b[0m\u001b[1;33m)\u001b[0m\u001b[1;33m:\u001b[0m\u001b[1;33m\u001b[0m\u001b[1;33m\u001b[0m\u001b[0m\n",
      "\u001b[1;32m~\\anaconda3\\envs\\learn-env\\lib\\site-packages\\pandas\\core\\generic.py\u001b[0m in \u001b[0;36m_get_axis_number\u001b[1;34m(cls, axis)\u001b[0m\n\u001b[0;32m    409\u001b[0m             \u001b[1;32mexcept\u001b[0m \u001b[0mKeyError\u001b[0m\u001b[1;33m:\u001b[0m\u001b[1;33m\u001b[0m\u001b[1;33m\u001b[0m\u001b[0m\n\u001b[0;32m    410\u001b[0m                 \u001b[1;32mpass\u001b[0m\u001b[1;33m\u001b[0m\u001b[1;33m\u001b[0m\u001b[0m\n\u001b[1;32m--> 411\u001b[1;33m         \u001b[1;32mraise\u001b[0m \u001b[0mValueError\u001b[0m\u001b[1;33m(\u001b[0m\u001b[1;34m\"No axis named {0} for object type {1}\"\u001b[0m\u001b[1;33m.\u001b[0m\u001b[0mformat\u001b[0m\u001b[1;33m(\u001b[0m\u001b[0maxis\u001b[0m\u001b[1;33m,\u001b[0m \u001b[0mcls\u001b[0m\u001b[1;33m)\u001b[0m\u001b[1;33m)\u001b[0m\u001b[1;33m\u001b[0m\u001b[1;33m\u001b[0m\u001b[0m\n\u001b[0m\u001b[0;32m    412\u001b[0m \u001b[1;33m\u001b[0m\u001b[0m\n\u001b[0;32m    413\u001b[0m     \u001b[1;33m@\u001b[0m\u001b[0mclassmethod\u001b[0m\u001b[1;33m\u001b[0m\u001b[1;33m\u001b[0m\u001b[0m\n",
      "\u001b[1;31mValueError\u001b[0m: No axis named 1 for object type <class 'pandas.core.series.Series'>"
     ]
    }
   ],
   "source": [
    "# 39.85% of our foreign gross values is missing, replacing with median values\n",
    "# viewing the missing values to determine if they had an international release\n",
    "\n",
    "is_NaN = df_movie_gross['foreign_gross'].isnull()\n",
    "row_has_NaN = is_NaN.any(axis=1)\n",
    "rows_with_NaN = df_movie_gross[row_has_NaN]\n",
    "\n",
    "\n",
    "print(rows_with_NaN)"
   ]
  },
  {
   "cell_type": "code",
   "execution_count": null,
   "metadata": {},
   "outputs": [],
   "source": [
    "# importing budget csv to see if I can fill in missing data by merging\n",
    "df_budget = pd.read_csv('dataframe_id_tn_movie_budgets_gz.csv')\n",
    "#checking head, info, and shape\n",
    "print(df_budget.head())\n",
    "print(df_budget.info())\n",
    "df_budget.shape"
   ]
  },
  {
   "cell_type": "code",
   "execution_count": null,
   "metadata": {},
   "outputs": [],
   "source": [
    "# dropping irrelevant columns\n",
    "df_budget.drop(axis=1, columns=['id'], inplace=True)\n",
    "df_budget.info()"
   ]
  },
  {
   "cell_type": "code",
   "execution_count": null,
   "metadata": {},
   "outputs": [],
   "source": [
    "#checking for missing values\n",
    "df_budget.isna().sum()"
   ]
  },
  {
   "cell_type": "code",
   "execution_count": null,
   "metadata": {},
   "outputs": [],
   "source": [
    "# no missing values, all relevant columns need to be converted into integers\n",
    "def convert_amt_to_int(df, col):\n",
    "    \"\"\"\n",
    "    Takes a dataframe and column name as arguments and replaces all monetary numbers in that column written in string format, \n",
    "    removes dollar symbols($) and commas(,), and returns them in integer form.\n",
    "    \n",
    "    Example: \n",
    "    >>>>'$439,232,157'\n",
    "    439232157\n",
    "    \n",
    "    \"\"\"\n",
    "    df[col] = df[col].str.replace('$','').str.replace(',', '').astype('int64') # \n",
    "    return df\n"
   ]
  },
  {
   "cell_type": "code",
   "execution_count": null,
   "metadata": {},
   "outputs": [],
   "source": [
    "# converting production budget, domestic gross, and worldwide gross values to 'int' for df_budget\n",
    "convert_amt_to_int(df_budget,'production_budget')\n",
    "convert_amt_to_int(df_budget,'domestic_gross')\n",
    "convert_amt_to_int(df_budget,'worldwide_gross')"
   ]
  },
  {
   "cell_type": "code",
   "execution_count": null,
   "metadata": {},
   "outputs": [],
   "source": [
    "# Finding number of instances in columns where values equal 0\n",
    "df_budget.isin([0]).sum(axis=0)\n"
   ]
  },
  {
   "cell_type": "code",
   "execution_count": null,
   "metadata": {},
   "outputs": [],
   "source": []
  },
  {
   "cell_type": "code",
   "execution_count": null,
   "metadata": {},
   "outputs": [],
   "source": []
  },
  {
   "cell_type": "code",
   "execution_count": null,
   "metadata": {},
   "outputs": [],
   "source": []
  }
 ],
 "metadata": {
  "kernelspec": {
   "display_name": "Python 3",
   "language": "python",
   "name": "python3"
  },
  "language_info": {
   "codemirror_mode": {
    "name": "ipython",
    "version": 3
   },
   "file_extension": ".py",
   "mimetype": "text/x-python",
   "name": "python",
   "nbconvert_exporter": "python",
   "pygments_lexer": "ipython3",
   "version": "3.6.9"
  }
 },
 "nbformat": 4,
 "nbformat_minor": 2
}
