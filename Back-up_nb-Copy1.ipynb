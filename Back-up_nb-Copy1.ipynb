{
 "cells": [
  {
   "cell_type": "code",
   "execution_count": 1,
   "metadata": {},
   "outputs": [],
   "source": [
    "import pandas as pd"
   ]
  },
  {
   "cell_type": "code",
   "execution_count": 2,
   "metadata": {},
   "outputs": [],
   "source": [
    "# Assigning the movie gross table to variable\n",
    "df_movie_gross = pd.read_csv('dataframe_id_bom_movie_gross_gz.csv')"
   ]
  },
  {
   "cell_type": "code",
   "execution_count": 3,
   "metadata": {},
   "outputs": [
    {
     "name": "stdout",
     "output_type": "stream",
     "text": [
      "                                         title studio  domestic_gross  \\\n",
      "0                                  Toy Story 3     BV     415000000.0   \n",
      "1                   Alice in Wonderland (2010)     BV     334200000.0   \n",
      "2  Harry Potter and the Deathly Hallows Part 1     WB     296000000.0   \n",
      "3                                    Inception     WB     292600000.0   \n",
      "4                          Shrek Forever After   P/DW     238700000.0   \n",
      "\n",
      "  foreign_gross  year  \n",
      "0     652000000  2010  \n",
      "1     691300000  2010  \n",
      "2     664300000  2010  \n",
      "3     535700000  2010  \n",
      "4     513900000  2010  \n",
      "<bound method DataFrame.info of                                             title      studio  domestic_gross  \\\n",
      "0                                     Toy Story 3          BV     415000000.0   \n",
      "1                      Alice in Wonderland (2010)          BV     334200000.0   \n",
      "2     Harry Potter and the Deathly Hallows Part 1          WB     296000000.0   \n",
      "3                                       Inception          WB     292600000.0   \n",
      "4                             Shrek Forever After        P/DW     238700000.0   \n",
      "...                                           ...         ...             ...   \n",
      "3382                                    The Quake       Magn.          6200.0   \n",
      "3383                  Edward II (2018 re-release)          FM          4800.0   \n",
      "3384                                     El Pacto        Sony          2500.0   \n",
      "3385                                     The Swan  Synergetic          2400.0   \n",
      "3386                            An Actor Prepares       Grav.          1700.0   \n",
      "\n",
      "     foreign_gross  year  \n",
      "0        652000000  2010  \n",
      "1        691300000  2010  \n",
      "2        664300000  2010  \n",
      "3        535700000  2010  \n",
      "4        513900000  2010  \n",
      "...            ...   ...  \n",
      "3382           NaN  2018  \n",
      "3383           NaN  2018  \n",
      "3384           NaN  2018  \n",
      "3385           NaN  2018  \n",
      "3386           NaN  2018  \n",
      "\n",
      "[3387 rows x 5 columns]>\n",
      "(3387, 5)\n"
     ]
    }
   ],
   "source": [
    "print(df_movie_gross.head()) #checking the layout and stats\n",
    "print(df_movie_gross.info)\n",
    "print(df_movie_gross.shape)"
   ]
  },
  {
   "cell_type": "code",
   "execution_count": 4,
   "metadata": {},
   "outputs": [],
   "source": [
    "# dropping 'studio' column due to irrelevance\n",
    "df_movie_gross.drop(axis=1, columns='studio', inplace=True)"
   ]
  },
  {
   "cell_type": "code",
   "execution_count": 5,
   "metadata": {},
   "outputs": [
    {
     "name": "stdout",
     "output_type": "stream",
     "text": [
      "      title  domestic_gross  foreign_gross   year\n",
      "0     False           False          False  False\n",
      "1     False           False          False  False\n",
      "2     False           False          False  False\n",
      "3     False           False          False  False\n",
      "4     False           False          False  False\n",
      "...     ...             ...            ...    ...\n",
      "3382  False           False           True  False\n",
      "3383  False           False           True  False\n",
      "3384  False           False           True  False\n",
      "3385  False           False           True  False\n",
      "3386  False           False           True  False\n",
      "\n",
      "[3387 rows x 4 columns]\n",
      "title                0\n",
      "domestic_gross      28\n",
      "foreign_gross     1350\n",
      "year                 0\n",
      "dtype: int64\n"
     ]
    }
   ],
   "source": [
    "#finding NaNs\n",
    "print(df_movie_gross.isna())\n",
    "print(df_movie_gross.isna().sum())"
   ]
  },
  {
   "cell_type": "code",
   "execution_count": 6,
   "metadata": {},
   "outputs": [
    {
     "data": {
      "text/plain": [
       "39.85828166519043"
      ]
     },
     "execution_count": 6,
     "metadata": {},
     "output_type": "execute_result"
    }
   ],
   "source": [
    "\n",
    "# missing 5 values for sutdio [dropping column anyway] \n",
    "#domestic_gross is missing 28 values might just drop those rows\n",
    "#foreign_gross missing 1350 values; calculating the percentage of data missing\n",
    "(df_movie_gross['foreign_gross'].isna()\n",
    "                 .sum()/len(df_movie_gross['foreign_gross'])) * 100"
   ]
  },
  {
   "cell_type": "code",
   "execution_count": 7,
   "metadata": {},
   "outputs": [
    {
     "name": "stdout",
     "output_type": "stream",
     "text": [
      "   id  release_date                                        movie  \\\n",
      "0   1  Dec 18, 2009                                       Avatar   \n",
      "1   2  May 20, 2011  Pirates of the Caribbean: On Stranger Tides   \n",
      "2   3   Jun 7, 2019                                 Dark Phoenix   \n",
      "3   4   May 1, 2015                      Avengers: Age of Ultron   \n",
      "4   5  Dec 15, 2017            Star Wars Ep. VIII: The Last Jedi   \n",
      "\n",
      "  production_budget domestic_gross worldwide_gross  \n",
      "0      $425,000,000   $760,507,625  $2,776,345,279  \n",
      "1      $410,600,000   $241,063,875  $1,045,663,875  \n",
      "2      $350,000,000    $42,762,350    $149,762,350  \n",
      "3      $330,600,000   $459,005,868  $1,403,013,963  \n",
      "4      $317,000,000   $620,181,382  $1,316,721,747  \n",
      "<class 'pandas.core.frame.DataFrame'>\n",
      "RangeIndex: 5782 entries, 0 to 5781\n",
      "Data columns (total 6 columns):\n",
      "id                   5782 non-null int64\n",
      "release_date         5782 non-null object\n",
      "movie                5782 non-null object\n",
      "production_budget    5782 non-null object\n",
      "domestic_gross       5782 non-null object\n",
      "worldwide_gross      5782 non-null object\n",
      "dtypes: int64(1), object(5)\n",
      "memory usage: 271.2+ KB\n",
      "None\n"
     ]
    },
    {
     "data": {
      "text/plain": [
       "(5782, 6)"
      ]
     },
     "execution_count": 7,
     "metadata": {},
     "output_type": "execute_result"
    }
   ],
   "source": [
    "# 39.85% of our foreign gross values is missing, replacing with median values\n",
    "# importing budget csv to see if I can fill in missing data by merging\n",
    "df_budget = pd.read_csv('dataframe_id_tn_movie_budgets_gz.csv')\n",
    "#checking head, info, and shape\n",
    "print(df_budget.head())\n",
    "print(df_budget.info())\n",
    "df_budget.shape"
   ]
  },
  {
   "cell_type": "code",
   "execution_count": 8,
   "metadata": {},
   "outputs": [
    {
     "name": "stdout",
     "output_type": "stream",
     "text": [
      "<class 'pandas.core.frame.DataFrame'>\n",
      "RangeIndex: 5782 entries, 0 to 5781\n",
      "Data columns (total 5 columns):\n",
      "release_date         5782 non-null object\n",
      "movie                5782 non-null object\n",
      "production_budget    5782 non-null object\n",
      "domestic_gross       5782 non-null object\n",
      "worldwide_gross      5782 non-null object\n",
      "dtypes: object(5)\n",
      "memory usage: 226.0+ KB\n"
     ]
    }
   ],
   "source": [
    "# dropping irrelevant columns\n",
    "df_budget.drop(axis=1, columns=['id'], inplace=True)\n",
    "df_budget.info()"
   ]
  },
  {
   "cell_type": "code",
   "execution_count": 9,
   "metadata": {},
   "outputs": [
    {
     "data": {
      "text/plain": [
       "release_date         0\n",
       "movie                0\n",
       "production_budget    0\n",
       "domestic_gross       0\n",
       "worldwide_gross      0\n",
       "dtype: int64"
      ]
     },
     "execution_count": 9,
     "metadata": {},
     "output_type": "execute_result"
    }
   ],
   "source": [
    "#checking for missing values\n",
    "df_budget.isna().sum()"
   ]
  },
  {
   "cell_type": "code",
   "execution_count": 10,
   "metadata": {},
   "outputs": [],
   "source": [
    "# no missing values, all relevant columns need to be converted into integers"
   ]
  },
  {
   "cell_type": "markdown",
   "metadata": {},
   "source": [
    "# Ayesha's Data Cleaning for title_akas\n"
   ]
  },
  {
   "cell_type": "code",
   "execution_count": 12,
   "metadata": {},
   "outputs": [],
   "source": [
    "df_title_akas = pd.read_csv('dataframe_id_imdb_title_akas_gz.csv')\n",
    "df = df_title_akas"
   ]
  },
  {
   "cell_type": "code",
   "execution_count": 13,
   "metadata": {},
   "outputs": [
    {
     "name": "stdout",
     "output_type": "stream",
     "text": [
      "    title_id  ordering                                    title region  \\\n",
      "0  tt0369610        10                            Джурасик свят     BG   \n",
      "1  tt0369610        11                        Jurashikku warudo     JP   \n",
      "2  tt0369610        12  Jurassic World: O Mundo dos Dinossauros     BR   \n",
      "3  tt0369610        13                  O Mundo dos Dinossauros     BR   \n",
      "4  tt0369610        14                           Jurassic World     FR   \n",
      "\n",
      "  language        types   attributes  is_original_title  \n",
      "0       bg          NaN          NaN                0.0  \n",
      "1      NaN  imdbDisplay          NaN                0.0  \n",
      "2      NaN  imdbDisplay          NaN                0.0  \n",
      "3      NaN          NaN  short title                0.0  \n",
      "4      NaN  imdbDisplay          NaN                0.0  \n",
      "<class 'pandas.core.frame.DataFrame'>\n",
      "RangeIndex: 331703 entries, 0 to 331702\n",
      "Data columns (total 8 columns):\n",
      "title_id             331703 non-null object\n",
      "ordering             331703 non-null int64\n",
      "title                331703 non-null object\n",
      "region               278410 non-null object\n",
      "language             41715 non-null object\n",
      "types                168447 non-null object\n",
      "attributes           14925 non-null object\n",
      "is_original_title    331678 non-null float64\n",
      "dtypes: float64(1), int64(1), object(6)\n",
      "memory usage: 20.2+ MB\n",
      "None\n",
      "(331703, 8)\n"
     ]
    }
   ],
   "source": [
    "print(df_title_akas.head())\n",
    "print(df_title_akas.info())\n",
    "print(df_title_akas.shape)"
   ]
  },
  {
   "cell_type": "code",
   "execution_count": 14,
   "metadata": {},
   "outputs": [
    {
     "data": {
      "text/html": [
       "<div>\n",
       "<style scoped>\n",
       "    .dataframe tbody tr th:only-of-type {\n",
       "        vertical-align: middle;\n",
       "    }\n",
       "\n",
       "    .dataframe tbody tr th {\n",
       "        vertical-align: top;\n",
       "    }\n",
       "\n",
       "    .dataframe thead th {\n",
       "        text-align: right;\n",
       "    }\n",
       "</style>\n",
       "<table border=\"1\" class=\"dataframe\">\n",
       "  <thead>\n",
       "    <tr style=\"text-align: right;\">\n",
       "      <th></th>\n",
       "      <th>ordering</th>\n",
       "      <th>is_original_title</th>\n",
       "    </tr>\n",
       "    <tr>\n",
       "      <th>region</th>\n",
       "      <th></th>\n",
       "      <th></th>\n",
       "    </tr>\n",
       "  </thead>\n",
       "  <tbody>\n",
       "    <tr>\n",
       "      <td>AD</td>\n",
       "      <td>1.0</td>\n",
       "      <td>0.0</td>\n",
       "    </tr>\n",
       "    <tr>\n",
       "      <td>AE</td>\n",
       "      <td>1.0</td>\n",
       "      <td>0.0</td>\n",
       "    </tr>\n",
       "    <tr>\n",
       "      <td>AF</td>\n",
       "      <td>1.0</td>\n",
       "      <td>0.0</td>\n",
       "    </tr>\n",
       "    <tr>\n",
       "      <td>AG</td>\n",
       "      <td>1.0</td>\n",
       "      <td>0.0</td>\n",
       "    </tr>\n",
       "    <tr>\n",
       "      <td>AI</td>\n",
       "      <td>1.0</td>\n",
       "      <td>0.0</td>\n",
       "    </tr>\n",
       "    <tr>\n",
       "      <td>...</td>\n",
       "      <td>...</td>\n",
       "      <td>...</td>\n",
       "    </tr>\n",
       "    <tr>\n",
       "      <td>XYU</td>\n",
       "      <td>4.0</td>\n",
       "      <td>0.0</td>\n",
       "    </tr>\n",
       "    <tr>\n",
       "      <td>YE</td>\n",
       "      <td>2.0</td>\n",
       "      <td>0.0</td>\n",
       "    </tr>\n",
       "    <tr>\n",
       "      <td>ZA</td>\n",
       "      <td>1.0</td>\n",
       "      <td>0.0</td>\n",
       "    </tr>\n",
       "    <tr>\n",
       "      <td>ZM</td>\n",
       "      <td>2.0</td>\n",
       "      <td>0.0</td>\n",
       "    </tr>\n",
       "    <tr>\n",
       "      <td>ZW</td>\n",
       "      <td>1.0</td>\n",
       "      <td>0.0</td>\n",
       "    </tr>\n",
       "  </tbody>\n",
       "</table>\n",
       "<p>213 rows × 2 columns</p>\n",
       "</div>"
      ],
      "text/plain": [
       "        ordering  is_original_title\n",
       "region                             \n",
       "AD           1.0                0.0\n",
       "AE           1.0                0.0\n",
       "AF           1.0                0.0\n",
       "AG           1.0                0.0\n",
       "AI           1.0                0.0\n",
       "...          ...                ...\n",
       "XYU          4.0                0.0\n",
       "YE           2.0                0.0\n",
       "ZA           1.0                0.0\n",
       "ZM           2.0                0.0\n",
       "ZW           1.0                0.0\n",
       "\n",
       "[213 rows x 2 columns]"
      ]
     },
     "execution_count": 14,
     "metadata": {},
     "output_type": "execute_result"
    }
   ],
   "source": [
    "# Grouping data in catagories\n",
    "df.groupby('region').median()"
   ]
  },
  {
   "cell_type": "code",
   "execution_count": 15,
   "metadata": {},
   "outputs": [
    {
     "data": {
      "text/html": [
       "<div>\n",
       "<style scoped>\n",
       "    .dataframe tbody tr th:only-of-type {\n",
       "        vertical-align: middle;\n",
       "    }\n",
       "\n",
       "    .dataframe tbody tr th {\n",
       "        vertical-align: top;\n",
       "    }\n",
       "\n",
       "    .dataframe thead th {\n",
       "        text-align: right;\n",
       "    }\n",
       "</style>\n",
       "<table border=\"1\" class=\"dataframe\">\n",
       "  <thead>\n",
       "    <tr style=\"text-align: right;\">\n",
       "      <th></th>\n",
       "      <th>ordering</th>\n",
       "      <th>is_original_title</th>\n",
       "    </tr>\n",
       "    <tr>\n",
       "      <th>title</th>\n",
       "      <th></th>\n",
       "      <th></th>\n",
       "    </tr>\n",
       "  </thead>\n",
       "  <tbody>\n",
       "    <tr>\n",
       "      <td>!Women Art Revolution</td>\n",
       "      <td>2.5</td>\n",
       "      <td>0.0</td>\n",
       "    </tr>\n",
       "    <tr>\n",
       "      <td># Pire soirée</td>\n",
       "      <td>22.0</td>\n",
       "      <td>0.0</td>\n",
       "    </tr>\n",
       "    <tr>\n",
       "      <td>#1 Serial Killer</td>\n",
       "      <td>2.5</td>\n",
       "      <td>0.5</td>\n",
       "    </tr>\n",
       "    <tr>\n",
       "      <td>#211</td>\n",
       "      <td>3.0</td>\n",
       "      <td>0.0</td>\n",
       "    </tr>\n",
       "    <tr>\n",
       "      <td>#5</td>\n",
       "      <td>1.5</td>\n",
       "      <td>0.0</td>\n",
       "    </tr>\n",
       "    <tr>\n",
       "      <td>...</td>\n",
       "      <td>...</td>\n",
       "      <td>...</td>\n",
       "    </tr>\n",
       "    <tr>\n",
       "      <td>междугородный</td>\n",
       "      <td>3.0</td>\n",
       "      <td>0.0</td>\n",
       "    </tr>\n",
       "    <tr>\n",
       "      <td>неЧЕСТНА ИГРА</td>\n",
       "      <td>21.0</td>\n",
       "      <td>0.0</td>\n",
       "    </tr>\n",
       "    <tr>\n",
       "      <td>ороолон</td>\n",
       "      <td>3.0</td>\n",
       "      <td>0.0</td>\n",
       "    </tr>\n",
       "    <tr>\n",
       "      <td>хуизмистерпутин</td>\n",
       "      <td>3.5</td>\n",
       "      <td>0.0</td>\n",
       "    </tr>\n",
       "    <tr>\n",
       "      <td>я</td>\n",
       "      <td>3.0</td>\n",
       "      <td>0.0</td>\n",
       "    </tr>\n",
       "  </tbody>\n",
       "</table>\n",
       "<p>252781 rows × 2 columns</p>\n",
       "</div>"
      ],
      "text/plain": [
       "                       ordering  is_original_title\n",
       "title                                             \n",
       "!Women Art Revolution       2.5                0.0\n",
       "# Pire soirée              22.0                0.0\n",
       "#1 Serial Killer            2.5                0.5\n",
       "#211                        3.0                0.0\n",
       "#5                          1.5                0.0\n",
       "...                         ...                ...\n",
       "междугородный               3.0                0.0\n",
       "неЧЕСТНА ИГРА              21.0                0.0\n",
       "ороолон                     3.0                0.0\n",
       "хуизмистерпутин             3.5                0.0\n",
       "я                           3.0                0.0\n",
       "\n",
       "[252781 rows x 2 columns]"
      ]
     },
     "execution_count": 15,
     "metadata": {},
     "output_type": "execute_result"
    }
   ],
   "source": [
    "df.groupby('title').median()"
   ]
  },
  {
   "cell_type": "code",
   "execution_count": 16,
   "metadata": {},
   "outputs": [
    {
     "data": {
      "text/html": [
       "<div>\n",
       "<style scoped>\n",
       "    .dataframe tbody tr th:only-of-type {\n",
       "        vertical-align: middle;\n",
       "    }\n",
       "\n",
       "    .dataframe tbody tr th {\n",
       "        vertical-align: top;\n",
       "    }\n",
       "\n",
       "    .dataframe thead th {\n",
       "        text-align: right;\n",
       "    }\n",
       "</style>\n",
       "<table border=\"1\" class=\"dataframe\">\n",
       "  <thead>\n",
       "    <tr style=\"text-align: right;\">\n",
       "      <th></th>\n",
       "      <th>ordering</th>\n",
       "      <th>is_original_title</th>\n",
       "    </tr>\n",
       "    <tr>\n",
       "      <th>language</th>\n",
       "      <th></th>\n",
       "      <th></th>\n",
       "    </tr>\n",
       "  </thead>\n",
       "  <tbody>\n",
       "    <tr>\n",
       "      <td>af</td>\n",
       "      <td>2.400000</td>\n",
       "      <td>0.0</td>\n",
       "    </tr>\n",
       "    <tr>\n",
       "      <td>ar</td>\n",
       "      <td>5.500000</td>\n",
       "      <td>0.0</td>\n",
       "    </tr>\n",
       "    <tr>\n",
       "      <td>az</td>\n",
       "      <td>19.000000</td>\n",
       "      <td>0.0</td>\n",
       "    </tr>\n",
       "    <tr>\n",
       "      <td>bg</td>\n",
       "      <td>9.748961</td>\n",
       "      <td>0.0</td>\n",
       "    </tr>\n",
       "    <tr>\n",
       "      <td>bn</td>\n",
       "      <td>2.393443</td>\n",
       "      <td>0.0</td>\n",
       "    </tr>\n",
       "    <tr>\n",
       "      <td>...</td>\n",
       "      <td>...</td>\n",
       "      <td>...</td>\n",
       "    </tr>\n",
       "    <tr>\n",
       "      <td>xh</td>\n",
       "      <td>2.000000</td>\n",
       "      <td>0.0</td>\n",
       "    </tr>\n",
       "    <tr>\n",
       "      <td>yi</td>\n",
       "      <td>3.500000</td>\n",
       "      <td>0.0</td>\n",
       "    </tr>\n",
       "    <tr>\n",
       "      <td>yue</td>\n",
       "      <td>6.489510</td>\n",
       "      <td>0.0</td>\n",
       "    </tr>\n",
       "    <tr>\n",
       "      <td>zh</td>\n",
       "      <td>1.500000</td>\n",
       "      <td>0.0</td>\n",
       "    </tr>\n",
       "    <tr>\n",
       "      <td>zu</td>\n",
       "      <td>7.666667</td>\n",
       "      <td>0.0</td>\n",
       "    </tr>\n",
       "  </tbody>\n",
       "</table>\n",
       "<p>76 rows × 2 columns</p>\n",
       "</div>"
      ],
      "text/plain": [
       "           ordering  is_original_title\n",
       "language                              \n",
       "af         2.400000                0.0\n",
       "ar         5.500000                0.0\n",
       "az        19.000000                0.0\n",
       "bg         9.748961                0.0\n",
       "bn         2.393443                0.0\n",
       "...             ...                ...\n",
       "xh         2.000000                0.0\n",
       "yi         3.500000                0.0\n",
       "yue        6.489510                0.0\n",
       "zh         1.500000                0.0\n",
       "zu         7.666667                0.0\n",
       "\n",
       "[76 rows x 2 columns]"
      ]
     },
     "execution_count": 16,
     "metadata": {},
     "output_type": "execute_result"
    }
   ],
   "source": [
    "df.groupby('language').mean()"
   ]
  },
  {
   "cell_type": "code",
   "execution_count": 17,
   "metadata": {},
   "outputs": [
    {
     "data": {
      "text/plain": [
       "title_id                  0\n",
       "ordering                  0\n",
       "title                     0\n",
       "region                53293\n",
       "language             289988\n",
       "types                163256\n",
       "is_original_title        25\n",
       "dtype: int64"
      ]
     },
     "execution_count": 17,
     "metadata": {},
     "output_type": "execute_result"
    }
   ],
   "source": [
    "# dropping attribute column\n",
    "df = df.drop('attributes', axis = 1)\n",
    "df.isna().sum()"
   ]
  },
  {
   "cell_type": "markdown",
   "metadata": {},
   "source": [
    "# Ayesha's Data Cleaning for movies"
   ]
  },
  {
   "cell_type": "code",
   "execution_count": 18,
   "metadata": {},
   "outputs": [],
   "source": [
    "df_movies = pd.read_csv('dataframe_id_tmdb_movies_gz.csv')"
   ]
  },
  {
   "cell_type": "code",
   "execution_count": 19,
   "metadata": {},
   "outputs": [
    {
     "name": "stdout",
     "output_type": "stream",
     "text": [
      "   Unnamed: 0            genre_ids     id original_language  \\\n",
      "0           0      [12, 14, 10751]  12444                en   \n",
      "1           1  [14, 12, 16, 10751]  10191                en   \n",
      "2           2        [12, 28, 878]  10138                en   \n",
      "3           3      [16, 35, 10751]    862                en   \n",
      "4           4        [28, 878, 12]  27205                en   \n",
      "\n",
      "                                 original_title  popularity release_date  \\\n",
      "0  Harry Potter and the Deathly Hallows: Part 1      33.533   2010-11-19   \n",
      "1                      How to Train Your Dragon      28.734   2010-03-26   \n",
      "2                                    Iron Man 2      28.515   2010-05-07   \n",
      "3                                     Toy Story      28.005   1995-11-22   \n",
      "4                                     Inception      27.920   2010-07-16   \n",
      "\n",
      "                                          title  vote_average  vote_count  \n",
      "0  Harry Potter and the Deathly Hallows: Part 1           7.7       10788  \n",
      "1                      How to Train Your Dragon           7.7        7610  \n",
      "2                                    Iron Man 2           6.8       12368  \n",
      "3                                     Toy Story           7.9       10174  \n",
      "4                                     Inception           8.3       22186  \n",
      "<class 'pandas.core.frame.DataFrame'>\n",
      "RangeIndex: 26517 entries, 0 to 26516\n",
      "Data columns (total 10 columns):\n",
      "Unnamed: 0           26517 non-null int64\n",
      "genre_ids            26517 non-null object\n",
      "id                   26517 non-null int64\n",
      "original_language    26517 non-null object\n",
      "original_title       26517 non-null object\n",
      "popularity           26517 non-null float64\n",
      "release_date         26517 non-null object\n",
      "title                26517 non-null object\n",
      "vote_average         26517 non-null float64\n",
      "vote_count           26517 non-null int64\n",
      "dtypes: float64(2), int64(3), object(5)\n",
      "memory usage: 2.0+ MB\n",
      "None\n",
      "(26517, 10)\n"
     ]
    }
   ],
   "source": [
    "print(df_movies.head())\n",
    "print(df_movies.info())\n",
    "print(df_movies.shape)"
   ]
  },
  {
   "cell_type": "code",
   "execution_count": 20,
   "metadata": {},
   "outputs": [
    {
     "data": {
      "text/html": [
       "<div>\n",
       "<style scoped>\n",
       "    .dataframe tbody tr th:only-of-type {\n",
       "        vertical-align: middle;\n",
       "    }\n",
       "\n",
       "    .dataframe tbody tr th {\n",
       "        vertical-align: top;\n",
       "    }\n",
       "\n",
       "    .dataframe thead th {\n",
       "        text-align: right;\n",
       "    }\n",
       "</style>\n",
       "<table border=\"1\" class=\"dataframe\">\n",
       "  <thead>\n",
       "    <tr style=\"text-align: right;\">\n",
       "      <th></th>\n",
       "      <th>ordering</th>\n",
       "      <th>is_original_title</th>\n",
       "    </tr>\n",
       "    <tr>\n",
       "      <th>title</th>\n",
       "      <th></th>\n",
       "      <th></th>\n",
       "    </tr>\n",
       "  </thead>\n",
       "  <tbody>\n",
       "    <tr>\n",
       "      <td>!Women Art Revolution</td>\n",
       "      <td>2.5</td>\n",
       "      <td>0.0</td>\n",
       "    </tr>\n",
       "    <tr>\n",
       "      <td># Pire soirée</td>\n",
       "      <td>22.0</td>\n",
       "      <td>0.0</td>\n",
       "    </tr>\n",
       "    <tr>\n",
       "      <td>#1 Serial Killer</td>\n",
       "      <td>2.5</td>\n",
       "      <td>0.5</td>\n",
       "    </tr>\n",
       "    <tr>\n",
       "      <td>#211</td>\n",
       "      <td>3.0</td>\n",
       "      <td>0.0</td>\n",
       "    </tr>\n",
       "    <tr>\n",
       "      <td>#5</td>\n",
       "      <td>1.5</td>\n",
       "      <td>0.0</td>\n",
       "    </tr>\n",
       "    <tr>\n",
       "      <td>...</td>\n",
       "      <td>...</td>\n",
       "      <td>...</td>\n",
       "    </tr>\n",
       "    <tr>\n",
       "      <td>междугородный</td>\n",
       "      <td>3.0</td>\n",
       "      <td>0.0</td>\n",
       "    </tr>\n",
       "    <tr>\n",
       "      <td>неЧЕСТНА ИГРА</td>\n",
       "      <td>21.0</td>\n",
       "      <td>0.0</td>\n",
       "    </tr>\n",
       "    <tr>\n",
       "      <td>ороолон</td>\n",
       "      <td>3.0</td>\n",
       "      <td>0.0</td>\n",
       "    </tr>\n",
       "    <tr>\n",
       "      <td>хуизмистерпутин</td>\n",
       "      <td>3.5</td>\n",
       "      <td>0.0</td>\n",
       "    </tr>\n",
       "    <tr>\n",
       "      <td>я</td>\n",
       "      <td>3.0</td>\n",
       "      <td>0.0</td>\n",
       "    </tr>\n",
       "  </tbody>\n",
       "</table>\n",
       "<p>252781 rows × 2 columns</p>\n",
       "</div>"
      ],
      "text/plain": [
       "                       ordering  is_original_title\n",
       "title                                             \n",
       "!Women Art Revolution       2.5                0.0\n",
       "# Pire soirée              22.0                0.0\n",
       "#1 Serial Killer            2.5                0.5\n",
       "#211                        3.0                0.0\n",
       "#5                          1.5                0.0\n",
       "...                         ...                ...\n",
       "междугородный               3.0                0.0\n",
       "неЧЕСТНА ИГРА              21.0                0.0\n",
       "ороолон                     3.0                0.0\n",
       "хуизмистерпутин             3.5                0.0\n",
       "я                           3.0                0.0\n",
       "\n",
       "[252781 rows x 2 columns]"
      ]
     },
     "execution_count": 20,
     "metadata": {},
     "output_type": "execute_result"
    }
   ],
   "source": [
    "# not letting me groupby: genre_ids, original_title, popularity, release_date, \n",
    "df.groupby('title').median()"
   ]
  },
  {
   "cell_type": "markdown",
   "metadata": {},
   "source": [
    "\n",
    "# Ayesha's Data Cleaning title_basics"
   ]
  },
  {
   "cell_type": "code",
   "execution_count": 21,
   "metadata": {},
   "outputs": [],
   "source": [
    "\n",
    "df_title_basics = pd.read_csv('dataframe_id_imdb_title_basics_gz.csv')"
   ]
  },
  {
   "cell_type": "code",
   "execution_count": 22,
   "metadata": {},
   "outputs": [
    {
     "name": "stdout",
     "output_type": "stream",
     "text": [
      "      tconst                    primary_title              original_title  \\\n",
      "0  tt0063540                        Sunghursh                   Sunghursh   \n",
      "1  tt0066787  One Day Before the Rainy Season             Ashad Ka Ek Din   \n",
      "2  tt0069049       The Other Side of the Wind  The Other Side of the Wind   \n",
      "3  tt0069204                  Sabse Bada Sukh             Sabse Bada Sukh   \n",
      "4  tt0100275         The Wandering Soap Opera       La Telenovela Errante   \n",
      "\n",
      "   start_year  runtime_minutes                genres  \n",
      "0        2013            175.0    Action,Crime,Drama  \n",
      "1        2019            114.0       Biography,Drama  \n",
      "2        2018            122.0                 Drama  \n",
      "3        2018              NaN          Comedy,Drama  \n",
      "4        2017             80.0  Comedy,Drama,Fantasy  \n",
      "<class 'pandas.core.frame.DataFrame'>\n",
      "RangeIndex: 146144 entries, 0 to 146143\n",
      "Data columns (total 6 columns):\n",
      "tconst             146144 non-null object\n",
      "primary_title      146144 non-null object\n",
      "original_title     146123 non-null object\n",
      "start_year         146144 non-null int64\n",
      "runtime_minutes    114405 non-null float64\n",
      "genres             140736 non-null object\n",
      "dtypes: float64(1), int64(1), object(4)\n",
      "memory usage: 6.7+ MB\n",
      "None\n",
      "(146144, 6)\n"
     ]
    }
   ],
   "source": [
    "\n",
    "print(df_title_basics.head())\n",
    "print(df_title_basics.info())\n",
    "print(df_title_basics.shape)"
   ]
  },
  {
   "cell_type": "code",
   "execution_count": 23,
   "metadata": {},
   "outputs": [
    {
     "ename": "KeyError",
     "evalue": "'original_title'",
     "output_type": "error",
     "traceback": [
      "\u001b[1;31m---------------------------------------------------------------------------\u001b[0m",
      "\u001b[1;31mKeyError\u001b[0m                                  Traceback (most recent call last)",
      "\u001b[1;32m<ipython-input-23-805ea1ffa674>\u001b[0m in \u001b[0;36m<module>\u001b[1;34m\u001b[0m\n\u001b[1;32m----> 1\u001b[1;33m \u001b[0mdf\u001b[0m\u001b[1;33m.\u001b[0m\u001b[0mgroupby\u001b[0m\u001b[1;33m(\u001b[0m\u001b[1;34m'original_title'\u001b[0m\u001b[1;33m)\u001b[0m\u001b[1;33m.\u001b[0m\u001b[0mmedian\u001b[0m\u001b[1;33m(\u001b[0m\u001b[1;33m)\u001b[0m\u001b[1;33m\u001b[0m\u001b[1;33m\u001b[0m\u001b[0m\n\u001b[0m",
      "\u001b[1;32m~\\anaconda3\\envs\\learn-env\\lib\\site-packages\\pandas\\core\\generic.py\u001b[0m in \u001b[0;36mgroupby\u001b[1;34m(self, by, axis, level, as_index, sort, group_keys, squeeze, observed, **kwargs)\u001b[0m\n\u001b[0;32m   7892\u001b[0m             \u001b[0msqueeze\u001b[0m\u001b[1;33m=\u001b[0m\u001b[0msqueeze\u001b[0m\u001b[1;33m,\u001b[0m\u001b[1;33m\u001b[0m\u001b[1;33m\u001b[0m\u001b[0m\n\u001b[0;32m   7893\u001b[0m             \u001b[0mobserved\u001b[0m\u001b[1;33m=\u001b[0m\u001b[0mobserved\u001b[0m\u001b[1;33m,\u001b[0m\u001b[1;33m\u001b[0m\u001b[1;33m\u001b[0m\u001b[0m\n\u001b[1;32m-> 7894\u001b[1;33m             \u001b[1;33m**\u001b[0m\u001b[0mkwargs\u001b[0m\u001b[1;33m\u001b[0m\u001b[1;33m\u001b[0m\u001b[0m\n\u001b[0m\u001b[0;32m   7895\u001b[0m         )\n\u001b[0;32m   7896\u001b[0m \u001b[1;33m\u001b[0m\u001b[0m\n",
      "\u001b[1;32m~\\anaconda3\\envs\\learn-env\\lib\\site-packages\\pandas\\core\\groupby\\groupby.py\u001b[0m in \u001b[0;36mgroupby\u001b[1;34m(obj, by, **kwds)\u001b[0m\n\u001b[0;32m   2520\u001b[0m         \u001b[1;32mraise\u001b[0m \u001b[0mTypeError\u001b[0m\u001b[1;33m(\u001b[0m\u001b[1;34m\"invalid type: {}\"\u001b[0m\u001b[1;33m.\u001b[0m\u001b[0mformat\u001b[0m\u001b[1;33m(\u001b[0m\u001b[0mobj\u001b[0m\u001b[1;33m)\u001b[0m\u001b[1;33m)\u001b[0m\u001b[1;33m\u001b[0m\u001b[1;33m\u001b[0m\u001b[0m\n\u001b[0;32m   2521\u001b[0m \u001b[1;33m\u001b[0m\u001b[0m\n\u001b[1;32m-> 2522\u001b[1;33m     \u001b[1;32mreturn\u001b[0m \u001b[0mklass\u001b[0m\u001b[1;33m(\u001b[0m\u001b[0mobj\u001b[0m\u001b[1;33m,\u001b[0m \u001b[0mby\u001b[0m\u001b[1;33m,\u001b[0m \u001b[1;33m**\u001b[0m\u001b[0mkwds\u001b[0m\u001b[1;33m)\u001b[0m\u001b[1;33m\u001b[0m\u001b[1;33m\u001b[0m\u001b[0m\n\u001b[0m",
      "\u001b[1;32m~\\anaconda3\\envs\\learn-env\\lib\\site-packages\\pandas\\core\\groupby\\groupby.py\u001b[0m in \u001b[0;36m__init__\u001b[1;34m(self, obj, keys, axis, level, grouper, exclusions, selection, as_index, sort, group_keys, squeeze, observed, **kwargs)\u001b[0m\n\u001b[0;32m    389\u001b[0m                 \u001b[0msort\u001b[0m\u001b[1;33m=\u001b[0m\u001b[0msort\u001b[0m\u001b[1;33m,\u001b[0m\u001b[1;33m\u001b[0m\u001b[1;33m\u001b[0m\u001b[0m\n\u001b[0;32m    390\u001b[0m                 \u001b[0mobserved\u001b[0m\u001b[1;33m=\u001b[0m\u001b[0mobserved\u001b[0m\u001b[1;33m,\u001b[0m\u001b[1;33m\u001b[0m\u001b[1;33m\u001b[0m\u001b[0m\n\u001b[1;32m--> 391\u001b[1;33m                 \u001b[0mmutated\u001b[0m\u001b[1;33m=\u001b[0m\u001b[0mself\u001b[0m\u001b[1;33m.\u001b[0m\u001b[0mmutated\u001b[0m\u001b[1;33m,\u001b[0m\u001b[1;33m\u001b[0m\u001b[1;33m\u001b[0m\u001b[0m\n\u001b[0m\u001b[0;32m    392\u001b[0m             )\n\u001b[0;32m    393\u001b[0m \u001b[1;33m\u001b[0m\u001b[0m\n",
      "\u001b[1;32m~\\anaconda3\\envs\\learn-env\\lib\\site-packages\\pandas\\core\\groupby\\grouper.py\u001b[0m in \u001b[0;36m_get_grouper\u001b[1;34m(obj, key, axis, level, sort, observed, mutated, validate)\u001b[0m\n\u001b[0;32m    619\u001b[0m                 \u001b[0min_axis\u001b[0m\u001b[1;33m,\u001b[0m \u001b[0mname\u001b[0m\u001b[1;33m,\u001b[0m \u001b[0mlevel\u001b[0m\u001b[1;33m,\u001b[0m \u001b[0mgpr\u001b[0m \u001b[1;33m=\u001b[0m \u001b[1;32mFalse\u001b[0m\u001b[1;33m,\u001b[0m \u001b[1;32mNone\u001b[0m\u001b[1;33m,\u001b[0m \u001b[0mgpr\u001b[0m\u001b[1;33m,\u001b[0m \u001b[1;32mNone\u001b[0m\u001b[1;33m\u001b[0m\u001b[1;33m\u001b[0m\u001b[0m\n\u001b[0;32m    620\u001b[0m             \u001b[1;32melse\u001b[0m\u001b[1;33m:\u001b[0m\u001b[1;33m\u001b[0m\u001b[1;33m\u001b[0m\u001b[0m\n\u001b[1;32m--> 621\u001b[1;33m                 \u001b[1;32mraise\u001b[0m \u001b[0mKeyError\u001b[0m\u001b[1;33m(\u001b[0m\u001b[0mgpr\u001b[0m\u001b[1;33m)\u001b[0m\u001b[1;33m\u001b[0m\u001b[1;33m\u001b[0m\u001b[0m\n\u001b[0m\u001b[0;32m    622\u001b[0m         \u001b[1;32melif\u001b[0m \u001b[0misinstance\u001b[0m\u001b[1;33m(\u001b[0m\u001b[0mgpr\u001b[0m\u001b[1;33m,\u001b[0m \u001b[0mGrouper\u001b[0m\u001b[1;33m)\u001b[0m \u001b[1;32mand\u001b[0m \u001b[0mgpr\u001b[0m\u001b[1;33m.\u001b[0m\u001b[0mkey\u001b[0m \u001b[1;32mis\u001b[0m \u001b[1;32mnot\u001b[0m \u001b[1;32mNone\u001b[0m\u001b[1;33m:\u001b[0m\u001b[1;33m\u001b[0m\u001b[1;33m\u001b[0m\u001b[0m\n\u001b[0;32m    623\u001b[0m             \u001b[1;31m# Add key to exclusions\u001b[0m\u001b[1;33m\u001b[0m\u001b[1;33m\u001b[0m\u001b[1;33m\u001b[0m\u001b[0m\n",
      "\u001b[1;31mKeyError\u001b[0m: 'original_title'"
     ]
    }
   ],
   "source": [
    "df.groupby('original_title').median()"
   ]
  },
  {
   "cell_type": "code",
   "execution_count": 24,
   "metadata": {},
   "outputs": [
    {
     "data": {
      "text/html": [
       "<div>\n",
       "<style scoped>\n",
       "    .dataframe tbody tr th:only-of-type {\n",
       "        vertical-align: middle;\n",
       "    }\n",
       "\n",
       "    .dataframe tbody tr th {\n",
       "        vertical-align: top;\n",
       "    }\n",
       "\n",
       "    .dataframe thead th {\n",
       "        text-align: right;\n",
       "    }\n",
       "</style>\n",
       "<table border=\"1\" class=\"dataframe\">\n",
       "  <thead>\n",
       "    <tr style=\"text-align: right;\">\n",
       "      <th></th>\n",
       "      <th>ordering</th>\n",
       "      <th>is_original_title</th>\n",
       "    </tr>\n",
       "    <tr>\n",
       "      <th>title</th>\n",
       "      <th></th>\n",
       "      <th></th>\n",
       "    </tr>\n",
       "  </thead>\n",
       "  <tbody>\n",
       "    <tr>\n",
       "      <td>!Women Art Revolution</td>\n",
       "      <td>2.5</td>\n",
       "      <td>0.0</td>\n",
       "    </tr>\n",
       "    <tr>\n",
       "      <td># Pire soirée</td>\n",
       "      <td>22.0</td>\n",
       "      <td>0.0</td>\n",
       "    </tr>\n",
       "    <tr>\n",
       "      <td>#1 Serial Killer</td>\n",
       "      <td>2.5</td>\n",
       "      <td>0.5</td>\n",
       "    </tr>\n",
       "    <tr>\n",
       "      <td>#211</td>\n",
       "      <td>3.0</td>\n",
       "      <td>0.0</td>\n",
       "    </tr>\n",
       "    <tr>\n",
       "      <td>#5</td>\n",
       "      <td>1.5</td>\n",
       "      <td>0.0</td>\n",
       "    </tr>\n",
       "    <tr>\n",
       "      <td>...</td>\n",
       "      <td>...</td>\n",
       "      <td>...</td>\n",
       "    </tr>\n",
       "    <tr>\n",
       "      <td>междугородный</td>\n",
       "      <td>3.0</td>\n",
       "      <td>0.0</td>\n",
       "    </tr>\n",
       "    <tr>\n",
       "      <td>неЧЕСТНА ИГРА</td>\n",
       "      <td>21.0</td>\n",
       "      <td>0.0</td>\n",
       "    </tr>\n",
       "    <tr>\n",
       "      <td>ороолон</td>\n",
       "      <td>3.0</td>\n",
       "      <td>0.0</td>\n",
       "    </tr>\n",
       "    <tr>\n",
       "      <td>хуизмистерпутин</td>\n",
       "      <td>3.5</td>\n",
       "      <td>0.0</td>\n",
       "    </tr>\n",
       "    <tr>\n",
       "      <td>я</td>\n",
       "      <td>3.0</td>\n",
       "      <td>0.0</td>\n",
       "    </tr>\n",
       "  </tbody>\n",
       "</table>\n",
       "<p>252781 rows × 2 columns</p>\n",
       "</div>"
      ],
      "text/plain": [
       "                       ordering  is_original_title\n",
       "title                                             \n",
       "!Women Art Revolution       2.5                0.0\n",
       "# Pire soirée              22.0                0.0\n",
       "#1 Serial Killer            2.5                0.5\n",
       "#211                        3.0                0.0\n",
       "#5                          1.5                0.0\n",
       "...                         ...                ...\n",
       "междугородный               3.0                0.0\n",
       "неЧЕСТНА ИГРА              21.0                0.0\n",
       "ороолон                     3.0                0.0\n",
       "хуизмистерпутин             3.5                0.0\n",
       "я                           3.0                0.0\n",
       "\n",
       "[252781 rows x 2 columns]"
      ]
     },
     "execution_count": 24,
     "metadata": {},
     "output_type": "execute_result"
    }
   ],
   "source": [
    "#genres\n",
    "df_median = df.groupby('title').median()\n",
    "df_median"
   ]
  },
  {
   "cell_type": "code",
   "execution_count": null,
   "metadata": {},
   "outputs": [],
   "source": []
  }
 ],
 "metadata": {
  "kernelspec": {
   "display_name": "Python [conda env:learn-env] *",
   "language": "python",
   "name": "conda-env-learn-env-py"
  },
  "language_info": {
   "codemirror_mode": {
    "name": "ipython",
    "version": 3
   },
   "file_extension": ".py",
   "mimetype": "text/x-python",
   "name": "python",
   "nbconvert_exporter": "python",
   "pygments_lexer": "ipython3",
   "version": "3.6.9"
  },
  "toc": {
   "base_numbering": 1,
   "nav_menu": {},
   "number_sections": true,
   "sideBar": true,
   "skip_h1_title": false,
   "title_cell": "Table of Contents",
   "title_sidebar": "Contents",
   "toc_cell": false,
   "toc_position": {},
   "toc_section_display": true,
   "toc_window_display": false
  }
 },
 "nbformat": 4,
 "nbformat_minor": 2
}
