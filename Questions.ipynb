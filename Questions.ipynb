{
 "cells": [
  {
   "cell_type": "markdown",
   "metadata": {},
   "source": [
    "# Question 1: When is it most profitable to release movies?"
   ]
  },
  {
   "cell_type": "code",
   "execution_count": 1,
   "metadata": {},
   "outputs": [],
   "source": [
    "import pandas as pd\n",
    "import seaborn as sns\n",
    "import numpy as np\n",
    "import matplotlib.pyplot as plt\n",
    "%matplotlib inline"
   ]
  },
  {
   "cell_type": "code",
   "execution_count": 2,
   "metadata": {},
   "outputs": [],
   "source": [
    "# set table to variable\n",
    "df = pd.read_csv('joined_gross_budget_cleaned.csv')"
   ]
  },
  {
   "cell_type": "code",
   "execution_count": 3,
   "metadata": {},
   "outputs": [
    {
     "data": {
      "text/html": [
       "<div>\n",
       "<style scoped>\n",
       "    .dataframe tbody tr th:only-of-type {\n",
       "        vertical-align: middle;\n",
       "    }\n",
       "\n",
       "    .dataframe tbody tr th {\n",
       "        vertical-align: top;\n",
       "    }\n",
       "\n",
       "    .dataframe thead th {\n",
       "        text-align: right;\n",
       "    }\n",
       "</style>\n",
       "<table border=\"1\" class=\"dataframe\">\n",
       "  <thead>\n",
       "    <tr style=\"text-align: right;\">\n",
       "      <th></th>\n",
       "      <th>title</th>\n",
       "      <th>month</th>\n",
       "      <th>year</th>\n",
       "      <th>production_budget</th>\n",
       "      <th>domestic_gross</th>\n",
       "      <th>worldwide_gross</th>\n",
       "      <th>net_prof</th>\n",
       "      <th>net_margin_%</th>\n",
       "    </tr>\n",
       "  </thead>\n",
       "  <tbody>\n",
       "    <tr>\n",
       "      <td>0</td>\n",
       "      <td>(500) Days of Summer</td>\n",
       "      <td>7.0</td>\n",
       "      <td>2009</td>\n",
       "      <td>7500000.0</td>\n",
       "      <td>32425665.0</td>\n",
       "      <td>34439060.0</td>\n",
       "      <td>26939060.0</td>\n",
       "      <td>78.22</td>\n",
       "    </tr>\n",
       "    <tr>\n",
       "      <td>1</td>\n",
       "      <td>10 Cloverfield Lane</td>\n",
       "      <td>3.0</td>\n",
       "      <td>2016</td>\n",
       "      <td>5000000.0</td>\n",
       "      <td>72082999.0</td>\n",
       "      <td>108286422.0</td>\n",
       "      <td>103286422.0</td>\n",
       "      <td>95.38</td>\n",
       "    </tr>\n",
       "    <tr>\n",
       "      <td>2</td>\n",
       "      <td>10 Things I Hate About You</td>\n",
       "      <td>3.0</td>\n",
       "      <td>1999</td>\n",
       "      <td>13000000.0</td>\n",
       "      <td>38177966.0</td>\n",
       "      <td>60413950.0</td>\n",
       "      <td>47413950.0</td>\n",
       "      <td>78.48</td>\n",
       "    </tr>\n",
       "    <tr>\n",
       "      <td>3</td>\n",
       "      <td>10,000 B.C.</td>\n",
       "      <td>3.0</td>\n",
       "      <td>2008</td>\n",
       "      <td>105000000.0</td>\n",
       "      <td>94784201.0</td>\n",
       "      <td>269065678.0</td>\n",
       "      <td>164065678.0</td>\n",
       "      <td>60.98</td>\n",
       "    </tr>\n",
       "    <tr>\n",
       "      <td>4</td>\n",
       "      <td>12 Monkeys</td>\n",
       "      <td>12.0</td>\n",
       "      <td>1995</td>\n",
       "      <td>29000000.0</td>\n",
       "      <td>57141459.0</td>\n",
       "      <td>168841459.0</td>\n",
       "      <td>139841459.0</td>\n",
       "      <td>82.82</td>\n",
       "    </tr>\n",
       "  </tbody>\n",
       "</table>\n",
       "</div>"
      ],
      "text/plain": [
       "                        title  month  year  production_budget  domestic_gross  \\\n",
       "0        (500) Days of Summer    7.0  2009          7500000.0      32425665.0   \n",
       "1         10 Cloverfield Lane    3.0  2016          5000000.0      72082999.0   \n",
       "2  10 Things I Hate About You    3.0  1999         13000000.0      38177966.0   \n",
       "3                 10,000 B.C.    3.0  2008        105000000.0      94784201.0   \n",
       "4                  12 Monkeys   12.0  1995         29000000.0      57141459.0   \n",
       "\n",
       "   worldwide_gross     net_prof  net_margin_%  \n",
       "0       34439060.0   26939060.0         78.22  \n",
       "1      108286422.0  103286422.0         95.38  \n",
       "2       60413950.0   47413950.0         78.48  \n",
       "3      269065678.0  164065678.0         60.98  \n",
       "4      168841459.0  139841459.0         82.82  "
      ]
     },
     "execution_count": 3,
     "metadata": {},
     "output_type": "execute_result"
    }
   ],
   "source": [
    "df.head() #checking the layout"
   ]
  },
  {
   "cell_type": "code",
   "execution_count": 4,
   "metadata": {},
   "outputs": [
    {
     "name": "stdout",
     "output_type": "stream",
     "text": [
      "<class 'pandas.core.frame.DataFrame'>\n",
      "RangeIndex: 3657 entries, 0 to 3656\n",
      "Data columns (total 8 columns):\n",
      "title                3657 non-null object\n",
      "month                3657 non-null float64\n",
      "year                 3657 non-null int64\n",
      "production_budget    3657 non-null float64\n",
      "domestic_gross       3657 non-null float64\n",
      "worldwide_gross      3657 non-null float64\n",
      "net_prof             3657 non-null float64\n",
      "net_margin_%         3657 non-null float64\n",
      "dtypes: float64(6), int64(1), object(1)\n",
      "memory usage: 228.7+ KB\n"
     ]
    }
   ],
   "source": [
    "# checking for datatypes in table\n",
    "df.info()"
   ]
  },
  {
   "cell_type": "code",
   "execution_count": 5,
   "metadata": {},
   "outputs": [
    {
     "data": {
      "text/plain": [
       "dtype('int32')"
      ]
     },
     "execution_count": 5,
     "metadata": {},
     "output_type": "execute_result"
    }
   ],
   "source": [
    "# Change month from float to int\n",
    "df['month'] = df['month'].astype(int)\n",
    "df['month'].dtype"
   ]
  },
  {
   "cell_type": "code",
   "execution_count": 6,
   "metadata": {},
   "outputs": [
    {
     "data": {
      "text/plain": [
       "dtype('O')"
      ]
     },
     "execution_count": 6,
     "metadata": {},
     "output_type": "execute_result"
    }
   ],
   "source": [
    "df['title'] = df['title'].astype(str)\n",
    "df['title'].dtype"
   ]
  },
  {
   "cell_type": "code",
   "execution_count": 7,
   "metadata": {
    "scrolled": false
   },
   "outputs": [
    {
     "data": {
      "text/html": [
       "<div>\n",
       "<style scoped>\n",
       "    .dataframe tbody tr th:only-of-type {\n",
       "        vertical-align: middle;\n",
       "    }\n",
       "\n",
       "    .dataframe tbody tr th {\n",
       "        vertical-align: top;\n",
       "    }\n",
       "\n",
       "    .dataframe thead th {\n",
       "        text-align: right;\n",
       "    }\n",
       "</style>\n",
       "<table border=\"1\" class=\"dataframe\">\n",
       "  <thead>\n",
       "    <tr style=\"text-align: right;\">\n",
       "      <th></th>\n",
       "      <th>title</th>\n",
       "      <th>month</th>\n",
       "      <th>year</th>\n",
       "      <th>production_budget</th>\n",
       "      <th>domestic_gross</th>\n",
       "      <th>worldwide_gross</th>\n",
       "      <th>net_prof</th>\n",
       "      <th>net_margin_%</th>\n",
       "    </tr>\n",
       "  </thead>\n",
       "  <tbody>\n",
       "    <tr>\n",
       "      <td>950</td>\n",
       "      <td>Fish Tank</td>\n",
       "      <td>1</td>\n",
       "      <td>2010</td>\n",
       "      <td>3000000.0</td>\n",
       "      <td>374675.0</td>\n",
       "      <td>5922292.0</td>\n",
       "      <td>2922292.0</td>\n",
       "      <td>49.34</td>\n",
       "    </tr>\n",
       "    <tr>\n",
       "      <td>310</td>\n",
       "      <td>Battle for the Planet of the Apes</td>\n",
       "      <td>1</td>\n",
       "      <td>1973</td>\n",
       "      <td>1800000.0</td>\n",
       "      <td>8800000.0</td>\n",
       "      <td>8800000.0</td>\n",
       "      <td>7000000.0</td>\n",
       "      <td>79.55</td>\n",
       "    </tr>\n",
       "    <tr>\n",
       "      <td>2731</td>\n",
       "      <td>The Boy Next Door</td>\n",
       "      <td>1</td>\n",
       "      <td>2015</td>\n",
       "      <td>4000000.0</td>\n",
       "      <td>36006065.0</td>\n",
       "      <td>53401938.0</td>\n",
       "      <td>49401938.0</td>\n",
       "      <td>92.51</td>\n",
       "    </tr>\n",
       "    <tr>\n",
       "      <td>2733</td>\n",
       "      <td>The Boys from Brazil</td>\n",
       "      <td>1</td>\n",
       "      <td>1978</td>\n",
       "      <td>12000000.0</td>\n",
       "      <td>19000000.0</td>\n",
       "      <td>19000000.0</td>\n",
       "      <td>7000000.0</td>\n",
       "      <td>36.84</td>\n",
       "    </tr>\n",
       "    <tr>\n",
       "      <td>2743</td>\n",
       "      <td>The Butterfly Effect</td>\n",
       "      <td>1</td>\n",
       "      <td>2004</td>\n",
       "      <td>13000000.0</td>\n",
       "      <td>57924679.0</td>\n",
       "      <td>95638592.0</td>\n",
       "      <td>82638592.0</td>\n",
       "      <td>86.41</td>\n",
       "    </tr>\n",
       "  </tbody>\n",
       "</table>\n",
       "</div>"
      ],
      "text/plain": [
       "                                  title  month  year  production_budget  \\\n",
       "950                           Fish Tank      1  2010          3000000.0   \n",
       "310   Battle for the Planet of the Apes      1  1973          1800000.0   \n",
       "2731                  The Boy Next Door      1  2015          4000000.0   \n",
       "2733               The Boys from Brazil      1  1978         12000000.0   \n",
       "2743               The Butterfly Effect      1  2004         13000000.0   \n",
       "\n",
       "      domestic_gross  worldwide_gross    net_prof  net_margin_%  \n",
       "950         374675.0        5922292.0   2922292.0         49.34  \n",
       "310        8800000.0        8800000.0   7000000.0         79.55  \n",
       "2731      36006065.0       53401938.0  49401938.0         92.51  \n",
       "2733      19000000.0       19000000.0   7000000.0         36.84  \n",
       "2743      57924679.0       95638592.0  82638592.0         86.41  "
      ]
     },
     "execution_count": 7,
     "metadata": {},
     "output_type": "execute_result"
    }
   ],
   "source": [
    "# Change order to month\n",
    "df = df.sort_values(by='month')\n",
    "df.head()"
   ]
  },
  {
   "cell_type": "code",
   "execution_count": 8,
   "metadata": {
    "scrolled": false
   },
   "outputs": [
    {
     "data": {
      "text/html": [
       "<div>\n",
       "<style scoped>\n",
       "    .dataframe tbody tr th:only-of-type {\n",
       "        vertical-align: middle;\n",
       "    }\n",
       "\n",
       "    .dataframe tbody tr th {\n",
       "        vertical-align: top;\n",
       "    }\n",
       "\n",
       "    .dataframe thead th {\n",
       "        text-align: right;\n",
       "    }\n",
       "</style>\n",
       "<table border=\"1\" class=\"dataframe\">\n",
       "  <thead>\n",
       "    <tr style=\"text-align: right;\">\n",
       "      <th></th>\n",
       "      <th>month</th>\n",
       "      <th>production_budget</th>\n",
       "      <th>net_margin_%</th>\n",
       "    </tr>\n",
       "  </thead>\n",
       "  <tbody>\n",
       "    <tr>\n",
       "      <td>950</td>\n",
       "      <td>1</td>\n",
       "      <td>3000000.0</td>\n",
       "      <td>49.34</td>\n",
       "    </tr>\n",
       "    <tr>\n",
       "      <td>310</td>\n",
       "      <td>1</td>\n",
       "      <td>1800000.0</td>\n",
       "      <td>79.55</td>\n",
       "    </tr>\n",
       "    <tr>\n",
       "      <td>2731</td>\n",
       "      <td>1</td>\n",
       "      <td>4000000.0</td>\n",
       "      <td>92.51</td>\n",
       "    </tr>\n",
       "    <tr>\n",
       "      <td>2733</td>\n",
       "      <td>1</td>\n",
       "      <td>12000000.0</td>\n",
       "      <td>36.84</td>\n",
       "    </tr>\n",
       "    <tr>\n",
       "      <td>2743</td>\n",
       "      <td>1</td>\n",
       "      <td>13000000.0</td>\n",
       "      <td>86.41</td>\n",
       "    </tr>\n",
       "  </tbody>\n",
       "</table>\n",
       "</div>"
      ],
      "text/plain": [
       "      month  production_budget  net_margin_%\n",
       "950       1          3000000.0         49.34\n",
       "310       1          1800000.0         79.55\n",
       "2731      1          4000000.0         92.51\n",
       "2733      1         12000000.0         36.84\n",
       "2743      1         13000000.0         86.41"
      ]
     },
     "execution_count": 8,
     "metadata": {},
     "output_type": "execute_result"
    }
   ],
   "source": [
    "# separating the relevent values for profit margin\n",
    "margin = df[['month','production_budget', 'net_margin_%']]\n",
    "margin.head()"
   ]
  },
  {
   "cell_type": "code",
   "execution_count": 9,
   "metadata": {},
   "outputs": [
    {
     "data": {
      "text/plain": [
       "99.94"
      ]
     },
     "execution_count": 9,
     "metadata": {},
     "output_type": "execute_result"
    }
   ],
   "source": [
    "#checking max of margin to determine y range\n",
    "margin['net_margin_%'].max()"
   ]
  },
  {
   "cell_type": "code",
   "execution_count": 10,
   "metadata": {
    "scrolled": true
   },
   "outputs": [
    {
     "data": {
      "text/plain": [
       "[Text(0, 0.5, 'Net Profit Margin'),\n",
       " Text(0.5, 0, 'Month'),\n",
       " Text(0.5, 1.0, 'Seasonal Profitability')]"
      ]
     },
     "execution_count": 10,
     "metadata": {},
     "output_type": "execute_result"
    },
    {
     "data": {
      "image/png": "[encoded data removed]",
      "text/plain": [
       "<Figure size 432x288 with 1 Axes>"
      ]
     },
     "metadata": {},
     "output_type": "display_data"
    }
   ],
   "source": [
    "sns.set_style('darkgrid')\n",
    "sns.set_context('talk')\n",
    "\n",
    "# marginal profit plot\n",
    "sns.boxplot(x=margin['month'], y=margin['net_margin_%']\n",
    "                  ).set(xlabel='Month', ylabel='Net Profit Margin',\n",
    "                        title='Seasonal Profitability')"
   ]
  },
  {
   "cell_type": "markdown",
   "metadata": {},
   "source": [
    "# Question: How has budget increased over the years?"
   ]
  },
  {
   "cell_type": "code",
   "execution_count": 11,
   "metadata": {
    "scrolled": true
   },
   "outputs": [
    {
     "data": {
      "text/html": [
       "<div>\n",
       "<style scoped>\n",
       "    .dataframe tbody tr th:only-of-type {\n",
       "        vertical-align: middle;\n",
       "    }\n",
       "\n",
       "    .dataframe tbody tr th {\n",
       "        vertical-align: top;\n",
       "    }\n",
       "\n",
       "    .dataframe thead th {\n",
       "        text-align: right;\n",
       "    }\n",
       "</style>\n",
       "<table border=\"1\" class=\"dataframe\">\n",
       "  <thead>\n",
       "    <tr style=\"text-align: right;\">\n",
       "      <th></th>\n",
       "      <th>title</th>\n",
       "      <th>month</th>\n",
       "      <th>year</th>\n",
       "      <th>production_budget</th>\n",
       "      <th>domestic_gross</th>\n",
       "      <th>worldwide_gross</th>\n",
       "      <th>net_prof</th>\n",
       "      <th>net_margin_%</th>\n",
       "    </tr>\n",
       "  </thead>\n",
       "  <tbody>\n",
       "    <tr>\n",
       "      <td>950</td>\n",
       "      <td>Fish Tank</td>\n",
       "      <td>1</td>\n",
       "      <td>2010</td>\n",
       "      <td>3000000.0</td>\n",
       "      <td>374675.0</td>\n",
       "      <td>5922292.0</td>\n",
       "      <td>2922292.0</td>\n",
       "      <td>49.34</td>\n",
       "    </tr>\n",
       "    <tr>\n",
       "      <td>310</td>\n",
       "      <td>Battle for the Planet of the Apes</td>\n",
       "      <td>1</td>\n",
       "      <td>1973</td>\n",
       "      <td>1800000.0</td>\n",
       "      <td>8800000.0</td>\n",
       "      <td>8800000.0</td>\n",
       "      <td>7000000.0</td>\n",
       "      <td>79.55</td>\n",
       "    </tr>\n",
       "    <tr>\n",
       "      <td>2731</td>\n",
       "      <td>The Boy Next Door</td>\n",
       "      <td>1</td>\n",
       "      <td>2015</td>\n",
       "      <td>4000000.0</td>\n",
       "      <td>36006065.0</td>\n",
       "      <td>53401938.0</td>\n",
       "      <td>49401938.0</td>\n",
       "      <td>92.51</td>\n",
       "    </tr>\n",
       "    <tr>\n",
       "      <td>2733</td>\n",
       "      <td>The Boys from Brazil</td>\n",
       "      <td>1</td>\n",
       "      <td>1978</td>\n",
       "      <td>12000000.0</td>\n",
       "      <td>19000000.0</td>\n",
       "      <td>19000000.0</td>\n",
       "      <td>7000000.0</td>\n",
       "      <td>36.84</td>\n",
       "    </tr>\n",
       "    <tr>\n",
       "      <td>2743</td>\n",
       "      <td>The Butterfly Effect</td>\n",
       "      <td>1</td>\n",
       "      <td>2004</td>\n",
       "      <td>13000000.0</td>\n",
       "      <td>57924679.0</td>\n",
       "      <td>95638592.0</td>\n",
       "      <td>82638592.0</td>\n",
       "      <td>86.41</td>\n",
       "    </tr>\n",
       "  </tbody>\n",
       "</table>\n",
       "</div>"
      ],
      "text/plain": [
       "                                  title  month  year  production_budget  \\\n",
       "950                           Fish Tank      1  2010          3000000.0   \n",
       "310   Battle for the Planet of the Apes      1  1973          1800000.0   \n",
       "2731                  The Boy Next Door      1  2015          4000000.0   \n",
       "2733               The Boys from Brazil      1  1978         12000000.0   \n",
       "2743               The Butterfly Effect      1  2004         13000000.0   \n",
       "\n",
       "      domestic_gross  worldwide_gross    net_prof  net_margin_%  \n",
       "950         374675.0        5922292.0   2922292.0         49.34  \n",
       "310        8800000.0        8800000.0   7000000.0         79.55  \n",
       "2731      36006065.0       53401938.0  49401938.0         92.51  \n",
       "2733      19000000.0       19000000.0   7000000.0         36.84  \n",
       "2743      57924679.0       95638592.0  82638592.0         86.41  "
      ]
     },
     "execution_count": 11,
     "metadata": {},
     "output_type": "execute_result"
    }
   ],
   "source": [
    "df.head()"
   ]
  },
  {
   "cell_type": "code",
   "execution_count": 12,
   "metadata": {},
   "outputs": [
    {
     "data": {
      "text/plain": [
       "(3207, 8)"
      ]
     },
     "execution_count": 12,
     "metadata": {},
     "output_type": "execute_result"
    }
   ],
   "source": [
    "#filtering out dates prior to 2010\n",
    "budget_years = df[df['year'] >= 1990]\n",
    "budget_years.shape"
   ]
  },
  {
   "cell_type": "code",
   "execution_count": 13,
   "metadata": {
    "scrolled": true
   },
   "outputs": [
    {
     "data": {
      "image/png": "[encoded data removed]",
      "text/plain": [
       "<Figure size 432x288 with 1 Axes>"
      ]
     },
     "metadata": {},
     "output_type": "display_data"
    }
   ],
   "source": [
    "# plotting graph\n",
    "plt.scatter(budget_years['year'], budget_years['production_budget'].map(\n",
    "            lambda x: x/1000000), label=\n",
    "            'Change over the years')\n",
    "#adding labels\n",
    "plt.xlabel('Year'), plt.ylabel('Budget in Millions')\n",
    "plt.title('Budget Changes in Last 30 years')\n",
    "\n",
    "plt.show()"
   ]
  },
  {
   "cell_type": "code",
   "execution_count": 18,
   "metadata": {
    "scrolled": true
   },
   "outputs": [
    {
     "data": {
      "image/png": "[encoded data removed]",
      "text/plain": [
       "<Figure size 432x288 with 1 Axes>"
      ]
     },
     "metadata": {},
     "output_type": "display_data"
    }
   ],
   "source": [
    "# creating plot and converting y-axis to be values of millions \n",
    "sns.set_style('darkgrid')\n",
    "sns.set_context('talk')\n",
    "ax = sns.lineplot(x=budget_years['year'], y=budget_years[\n",
    "    'production_budget'].map(lambda x: x/1000000), data = budget_years, \n",
    "                  estimator=np.median).set(\n",
    "                        xlabel='Year', ylabel='Budget in Millions',\n",
    "                        title='Budget Changes in the Last 30 Years')\n",
    "                 "
   ]
  },
  {
   "cell_type": "code",
   "execution_count": null,
   "metadata": {},
   "outputs": [],
   "source": [
    "#checking median values to better understand data\n",
    "df.production_budget.median()"
   ]
  },
  {
   "cell_type": "code",
   "execution_count": null,
   "metadata": {},
   "outputs": [],
   "source": [
    "t2000 = df[df['year'] >=2000]\n",
    "t2000.production_budget.mean()"
   ]
  },
  {
   "cell_type": "code",
   "execution_count": null,
   "metadata": {},
   "outputs": [],
   "source": []
  },
  {
   "cell_type": "code",
   "execution_count": null,
   "metadata": {},
   "outputs": [],
   "source": []
  },
  {
   "cell_type": "code",
   "execution_count": null,
   "metadata": {},
   "outputs": [],
   "source": []
  }
 ],
 "metadata": {
  "kernelspec": {
   "display_name": "Python [conda env:learn-env] *",
   "language": "python",
   "name": "conda-env-learn-env-py"
  },
  "language_info": {
   "codemirror_mode": {
    "name": "ipython",
    "version": 3
   },
   "file_extension": ".py",
   "mimetype": "text/x-python",
   "name": "python",
   "nbconvert_exporter": "python",
   "pygments_lexer": "ipython3",
   "version": "3.6.9"
  },
  "toc": {
   "base_numbering": 1,
   "nav_menu": {},
   "number_sections": true,
   "sideBar": true,
   "skip_h1_title": false,
   "title_cell": "Table of Contents",
   "title_sidebar": "Contents",
   "toc_cell": false,
   "toc_position": {},
   "toc_section_display": true,
   "toc_window_display": false
  }
 },
 "nbformat": 4,
 "nbformat_minor": 2
}
